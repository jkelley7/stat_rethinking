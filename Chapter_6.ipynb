{
 "cells": [
  {
   "cell_type": "code",
   "execution_count": 2,
   "metadata": {},
   "outputs": [],
   "source": [
    "import numpy as np\n",
    "import pandas as pd\n",
    "from scipy import stats\n",
    "import matplotlib.pyplot as plt\n",
    "import seaborn as sns\n",
    "import arviz as az\n",
    "from collections import Counter\n",
    "from scipy.interpolate import griddata\n",
    "import pymc3 as pm\n",
    "import theano as tt\n",
    "import statsmodels.api as sm\n",
    "\n",
    "sns.set()"
   ]
  },
  {
   "cell_type": "markdown",
   "metadata": {},
   "source": [
    "# Chapter 6 \n",
    "\n",
    "## Code 6.1"
   ]
  },
  {
   "cell_type": "code",
   "execution_count": 2,
   "metadata": {},
   "outputs": [
    {
     "data": {
      "text/html": [
       "<div>\n",
       "<style scoped>\n",
       "    .dataframe tbody tr th:only-of-type {\n",
       "        vertical-align: middle;\n",
       "    }\n",
       "\n",
       "    .dataframe tbody tr th {\n",
       "        vertical-align: top;\n",
       "    }\n",
       "\n",
       "    .dataframe thead th {\n",
       "        text-align: right;\n",
       "    }\n",
       "</style>\n",
       "<table border=\"1\" class=\"dataframe\">\n",
       "  <thead>\n",
       "    <tr style=\"text-align: right;\">\n",
       "      <th></th>\n",
       "      <th>species</th>\n",
       "      <th>brain</th>\n",
       "      <th>mass</th>\n",
       "    </tr>\n",
       "  </thead>\n",
       "  <tbody>\n",
       "    <tr>\n",
       "      <th>0</th>\n",
       "      <td>afarensis</td>\n",
       "      <td>438</td>\n",
       "      <td>37.0</td>\n",
       "    </tr>\n",
       "    <tr>\n",
       "      <th>1</th>\n",
       "      <td>africanus</td>\n",
       "      <td>452</td>\n",
       "      <td>35.5</td>\n",
       "    </tr>\n",
       "    <tr>\n",
       "      <th>2</th>\n",
       "      <td>habilis</td>\n",
       "      <td>612</td>\n",
       "      <td>34.5</td>\n",
       "    </tr>\n",
       "    <tr>\n",
       "      <th>3</th>\n",
       "      <td>boisei</td>\n",
       "      <td>521</td>\n",
       "      <td>41.5</td>\n",
       "    </tr>\n",
       "    <tr>\n",
       "      <th>4</th>\n",
       "      <td>rudolfensis</td>\n",
       "      <td>752</td>\n",
       "      <td>55.5</td>\n",
       "    </tr>\n",
       "    <tr>\n",
       "      <th>5</th>\n",
       "      <td>ergaster</td>\n",
       "      <td>871</td>\n",
       "      <td>61.0</td>\n",
       "    </tr>\n",
       "    <tr>\n",
       "      <th>6</th>\n",
       "      <td>sapiens</td>\n",
       "      <td>1350</td>\n",
       "      <td>53.5</td>\n",
       "    </tr>\n",
       "  </tbody>\n",
       "</table>\n",
       "</div>"
      ],
      "text/plain": [
       "       species  brain  mass\n",
       "0    afarensis    438  37.0\n",
       "1    africanus    452  35.5\n",
       "2      habilis    612  34.5\n",
       "3       boisei    521  41.5\n",
       "4  rudolfensis    752  55.5\n",
       "5     ergaster    871  61.0\n",
       "6      sapiens   1350  53.5"
      ]
     },
     "execution_count": 2,
     "metadata": {},
     "output_type": "execute_result"
    }
   ],
   "source": [
    "data = {'species' : ['afarensis', 'africanus', 'habilis', 'boisei', 'rudolfensis', 'ergaster', 'sapiens'],\n",
    "'brain' : [438, 452, 612, 521, 752, 871, 1350],\n",
    "'mass' : [37., 35.5, 34.5, 41.5, 55.5, 61.0, 53.5]}\n",
    "d = pd.DataFrame(data)\n",
    "d"
   ]
  },
  {
   "cell_type": "markdown",
   "metadata": {},
   "source": [
    "## Code 6.2"
   ]
  },
  {
   "cell_type": "code",
   "execution_count": 3,
   "metadata": {},
   "outputs": [
    {
     "name": "stderr",
     "output_type": "stream",
     "text": [
      "C:\\Users\\JOSH\\Anaconda3\\lib\\site-packages\\statsmodels\\stats\\stattools.py:71: ValueWarning: omni_normtest is not valid with less than 8 observations; 7 samples were given.\n",
      "  \"samples were given.\" % int(n), ValueWarning)\n"
     ]
    },
    {
     "name": "stdout",
     "output_type": "stream",
     "text": [
      "                            OLS Regression Results                            \n",
      "==============================================================================\n",
      "Dep. Variable:                  brain   R-squared:                       0.490\n",
      "Model:                            OLS   Adj. R-squared:                  0.388\n",
      "Method:                 Least Squares   F-statistic:                     4.807\n",
      "Date:                Sun, 18 Aug 2019   Prob (F-statistic):             0.0798\n",
      "Time:                        21:10:21   Log-Likelihood:                -47.462\n",
      "No. Observations:                   7   AIC:                             98.92\n",
      "Df Residuals:                       5   BIC:                             98.82\n",
      "Df Model:                           1                                         \n",
      "Covariance Type:            nonrobust                                         \n",
      "==============================================================================\n",
      "                 coef    std err          t      P>|t|      [0.025      0.975]\n",
      "------------------------------------------------------------------------------\n",
      "Intercept   -227.6287    439.794     -0.518      0.627   -1358.154     902.897\n",
      "mass          20.6889      9.436      2.192      0.080      -3.568      44.946\n",
      "==============================================================================\n",
      "Omnibus:                          nan   Durbin-Watson:                   1.561\n",
      "Prob(Omnibus):                    nan   Jarque-Bera (JB):                2.372\n",
      "Skew:                           1.399   Prob(JB):                        0.305\n",
      "Kurtosis:                       3.548   Cond. No.                         215.\n",
      "==============================================================================\n",
      "\n",
      "Warnings:\n",
      "[1] Standard Errors assume that the covariance matrix of the errors is correctly specified.\n"
     ]
    }
   ],
   "source": [
    "mod = sm.formula.ols('brain ~ mass', d).fit()\n",
    "print(mod.summary())"
   ]
  },
  {
   "cell_type": "markdown",
   "metadata": {},
   "source": [
    "## Code 6.3"
   ]
  },
  {
   "cell_type": "code",
   "execution_count": 5,
   "metadata": {},
   "outputs": [
    {
     "data": {
      "text/plain": [
       "0.490158047949084"
      ]
     },
     "execution_count": 5,
     "metadata": {},
     "output_type": "execute_result"
    }
   ],
   "source": [
    "mod.rsquared"
   ]
  },
  {
   "cell_type": "markdown",
   "metadata": {},
   "source": [
    "## Code 6.4"
   ]
  },
  {
   "cell_type": "code",
   "execution_count": 10,
   "metadata": {},
   "outputs": [
    {
     "name": "stderr",
     "output_type": "stream",
     "text": [
      "C:\\Users\\JOSH\\Anaconda3\\lib\\site-packages\\statsmodels\\stats\\stattools.py:71: ValueWarning: omni_normtest is not valid with less than 8 observations; 7 samples were given.\n",
      "  \"samples were given.\" % int(n), ValueWarning)\n"
     ]
    },
    {
     "name": "stdout",
     "output_type": "stream",
     "text": [
      "                            OLS Regression Results                            \n",
      "==============================================================================\n",
      "Dep. Variable:                  brain   R-squared:                       0.536\n",
      "Model:                            OLS   Adj. R-squared:                  0.304\n",
      "Method:                 Least Squares   F-statistic:                     2.310\n",
      "Date:                Sun, 18 Aug 2019   Prob (F-statistic):              0.215\n",
      "Time:                        21:19:13   Log-Likelihood:                -47.133\n",
      "No. Observations:                   7   AIC:                             100.3\n",
      "Df Residuals:                       4   BIC:                             100.1\n",
      "Df Model:                           2                                         \n",
      "Covariance Type:            nonrobust                                         \n",
      "================================================================================\n",
      "                   coef    std err          t      P>|t|      [0.025      0.975]\n",
      "--------------------------------------------------------------------------------\n",
      "Intercept    -2618.1372   3831.633     -0.683      0.532   -1.33e+04    8020.182\n",
      "mass           127.3061    169.905      0.749      0.495    -344.425     599.037\n",
      "I(mass ** 2)    -1.1328      1.802     -0.629      0.564      -6.136       3.870\n",
      "==============================================================================\n",
      "Omnibus:                          nan   Durbin-Watson:                   1.479\n",
      "Prob(Omnibus):                    nan   Jarque-Bera (JB):                1.016\n",
      "Skew:                           0.901   Prob(JB):                        0.602\n",
      "Kurtosis:                       2.514   Cond. No.                     8.95e+04\n",
      "==============================================================================\n",
      "\n",
      "Warnings:\n",
      "[1] Standard Errors assume that the covariance matrix of the errors is correctly specified.\n",
      "[2] The condition number is large, 8.95e+04. This might indicate that there are\n",
      "strong multicollinearity or other numerical problems.\n"
     ]
    }
   ],
   "source": [
    "m6_2 = sm.formula.ols('brain ~ mass + I(mass**2)', d).fit()\n",
    "print(m6_2.summary())"
   ]
  },
  {
   "cell_type": "markdown",
   "metadata": {},
   "source": [
    "## Code 6.5"
   ]
  },
  {
   "cell_type": "code",
   "execution_count": 11,
   "metadata": {},
   "outputs": [
    {
     "name": "stderr",
     "output_type": "stream",
     "text": [
      "C:\\Users\\JOSH\\Anaconda3\\lib\\site-packages\\statsmodels\\stats\\stattools.py:71: ValueWarning: omni_normtest is not valid with less than 8 observations; 7 samples were given.\n",
      "  \"samples were given.\" % int(n), ValueWarning)\n"
     ]
    },
    {
     "name": "stdout",
     "output_type": "stream",
     "text": [
      "                            OLS Regression Results                            \n",
      "==============================================================================\n",
      "Dep. Variable:                  brain   R-squared:                       0.680\n",
      "Model:                            OLS   Adj. R-squared:                  0.360\n",
      "Method:                 Least Squares   F-statistic:                     2.123\n",
      "Date:                Sun, 18 Aug 2019   Prob (F-statistic):              0.276\n",
      "Time:                        21:19:15   Log-Likelihood:                -45.835\n",
      "No. Observations:                   7   AIC:                             99.67\n",
      "Df Residuals:                       3   BIC:                             99.45\n",
      "Df Model:                           3                                         \n",
      "Covariance Type:            nonrobust                                         \n",
      "================================================================================\n",
      "                   coef    std err          t      P>|t|      [0.025      0.975]\n",
      "--------------------------------------------------------------------------------\n",
      "Intercept     2.199e+04   2.15e+04      1.022      0.382   -4.65e+04    9.05e+04\n",
      "mass         -1473.8357   1389.194     -1.061      0.367   -5894.870    2947.199\n",
      "I(mass ** 2)    32.8102     29.298      1.120      0.344     -60.428     126.048\n",
      "I(mass ** 3)    -0.2351      0.203     -1.161      0.330      -0.880       0.409\n",
      "==============================================================================\n",
      "Omnibus:                          nan   Durbin-Watson:                   1.566\n",
      "Prob(Omnibus):                    nan   Jarque-Bera (JB):                0.061\n",
      "Skew:                          -0.216   Prob(JB):                        0.970\n",
      "Kurtosis:                       3.154   Cond. No.                     2.84e+07\n",
      "==============================================================================\n",
      "\n",
      "Warnings:\n",
      "[1] Standard Errors assume that the covariance matrix of the errors is correctly specified.\n",
      "[2] The condition number is large, 2.84e+07. This might indicate that there are\n",
      "strong multicollinearity or other numerical problems.\n"
     ]
    }
   ],
   "source": [
    "m6_3 = sm.formula.ols('brain ~ mass + I(mass**2) + I(mass**3)', d).fit()\n",
    "m6_4 = sm.formula.ols('brain ~ mass + I(mass**2) + I(mass**3) + I(mass**4)', d).fit()\n",
    "m6_5 = sm.formula.ols('brain ~ mass + I(mass**2) + I(mass**3) + I(mass**4) + I(mass**5)', d).fit()\n",
    "m6_6 = sm.formula.ols('brain ~ mass + I(mass**2) + I(mass**3) + I(mass**4) + I(mass**5) + I(mass**6)', d).fit()\n",
    "print(m6_3.summary())"
   ]
  },
  {
   "cell_type": "markdown",
   "metadata": {},
   "source": [
    "## Code 6.6"
   ]
  },
  {
   "cell_type": "code",
   "execution_count": 33,
   "metadata": {},
   "outputs": [
    {
     "name": "stderr",
     "output_type": "stream",
     "text": [
      "C:\\Users\\JOSH\\Anaconda3\\lib\\site-packages\\statsmodels\\stats\\stattools.py:71: ValueWarning: omni_normtest is not valid with less than 8 observations; 7 samples were given.\n",
      "  \"samples were given.\" % int(n), ValueWarning)\n"
     ]
    },
    {
     "name": "stdout",
     "output_type": "stream",
     "text": [
      "                            OLS Regression Results                            \n",
      "==============================================================================\n",
      "Dep. Variable:                  brain   R-squared:                       0.000\n",
      "Model:                            OLS   Adj. R-squared:                  0.000\n",
      "Method:                 Least Squares   F-statistic:                       nan\n",
      "Date:                Mon, 19 Aug 2019   Prob (F-statistic):                nan\n",
      "Time:                        21:09:58   Log-Likelihood:                -49.820\n",
      "No. Observations:                   7   AIC:                             101.6\n",
      "Df Residuals:                       6   BIC:                             101.6\n",
      "Df Model:                           0                                         \n",
      "Covariance Type:            nonrobust                                         \n",
      "==============================================================================\n",
      "                 coef    std err          t      P>|t|      [0.025      0.975]\n",
      "------------------------------------------------------------------------------\n",
      "Intercept    713.7143    121.798      5.860      0.001     415.685    1011.744\n",
      "==============================================================================\n",
      "Omnibus:                          nan   Durbin-Watson:                   0.531\n",
      "Prob(Omnibus):                    nan   Jarque-Bera (JB):                1.563\n",
      "Skew:                           1.154   Prob(JB):                        0.458\n",
      "Kurtosis:                       3.182   Cond. No.                         1.00\n",
      "==============================================================================\n",
      "\n",
      "Warnings:\n",
      "[1] Standard Errors assume that the covariance matrix of the errors is correctly specified.\n"
     ]
    }
   ],
   "source": [
    "m6_7 = sm.formula.ols('brain ~ 1', d).fit()\n",
    "print(m6_7.summary())\n",
    "m6_7."
   ]
  },
  {
   "cell_type": "markdown",
   "metadata": {},
   "source": [
    "## Code 6.7"
   ]
  },
  {
   "cell_type": "code",
   "execution_count": 27,
   "metadata": {},
   "outputs": [],
   "source": [
    "d_new = d.drop(d.index[-1])"
   ]
  },
  {
   "cell_type": "markdown",
   "metadata": {},
   "source": [
    "## Code 6.8"
   ]
  },
  {
   "cell_type": "code",
   "execution_count": 59,
   "metadata": {},
   "outputs": [
    {
     "data": {
      "image/png": "[encoded data removed]",
      "text/plain": [
       "<Figure size 432x288 with 1 Axes>"
      ]
     },
     "metadata": {
      "needs_background": "light"
     },
     "output_type": "display_data"
    }
   ],
   "source": [
    "plt.plot('mass','brain', data = d, marker = '.',markersize = 10, linestyle = '')\n",
    "for i in range(len(d)):\n",
    "    d_new = d.drop(d.index[i])\n",
    "    m0 = sm.formula.ols('brain ~ mass' , d_new).fit()\n",
    "    x_pred = pd.DataFrame({'mass':np.linspace(d.mass.min(), d.mass.max(), num = 100)})\n",
    "    y_pred = m0.predict(x_pred)\n",
    "    plt.plot(x_pred, y_pred, color = 'black', alpha = .5)\n",
    "    plt.xlim(34,60)\n",
    "    plt.xlabel('body mass (kg)')\n",
    "    plt.ylabel('brain volume (cc)')"
   ]
  },
  {
   "cell_type": "code",
   "execution_count": 60,
   "metadata": {},
   "outputs": [
    {
     "data": {
      "image/png": "[encoded data removed]",
      "text/plain": [
       "<Figure size 432x288 with 1 Axes>"
      ]
     },
     "metadata": {
      "needs_background": "light"
     },
     "output_type": "display_data"
    }
   ],
   "source": [
    "plt.plot('mass','brain', data = d, marker = '.',markersize = 10, linestyle = '')\n",
    "for i in range(len(d)):\n",
    "    d_new = d.drop(d.index[i])\n",
    "    m0b = sm.formula.ols('brain ~ mass + I(mass**2) + I(mass**3) + I(mass**4) + I(mass**5)', d_new).fit()\n",
    "    x_pred = pd.DataFrame({'mass':np.linspace(d.mass.min(), d.mass.max(), num = 100)})\n",
    "    y_pred = m0b.predict(x_pred)\n",
    "    plt.plot(x_pred, y_pred, color = 'black', alpha = .5)\n",
    "    plt.xlim(34,60)\n",
    "    plt.ylim(-100,2000)\n",
    "    plt.xlabel('body mass (kg)')\n",
    "    plt.ylabel('brain volume (cc)')\n",
    "    \n",
    "    "
   ]
  },
  {
   "cell_type": "markdown",
   "metadata": {},
   "source": [
    "## Code 6.9"
   ]
  },
  {
   "cell_type": "code",
   "execution_count": 62,
   "metadata": {},
   "outputs": [
    {
     "name": "stdout",
     "output_type": "stream",
     "text": [
      "0.6108643020548935\n",
      "0.3250829733914482\n"
     ]
    }
   ],
   "source": [
    "# fairly uncertain events\n",
    "p = np.array([.3,.7])\n",
    "print(-np.sum(p*np.log(p)))\n",
    "\n",
    "# fairly certain events\n",
    "p = np.array([.1,.9])\n",
    "print(-np.sum(p*np.log(p)))"
   ]
  },
  {
   "cell_type": "markdown",
   "metadata": {},
   "source": [
    "## Code 6.10"
   ]
  },
  {
   "cell_type": "code",
   "execution_count": 66,
   "metadata": {},
   "outputs": [
    {
     "data": {
      "text/plain": [
       "94.92498968588757"
      ]
     },
     "execution_count": 66,
     "metadata": {},
     "output_type": "execute_result"
    }
   ],
   "source": [
    "m6_1 = sm.formula.ols('brain ~ mass', d).fit()\n",
    "-2 * m6_1.llf"
   ]
  },
  {
   "cell_type": "markdown",
   "metadata": {},
   "source": [
    "## Code 6.11"
   ]
  },
  {
   "cell_type": "code",
   "execution_count": 72,
   "metadata": {},
   "outputs": [
    {
     "name": "stderr",
     "output_type": "stream",
     "text": [
      "Auto-assigning NUTS sampler...\n",
      "Initializing NUTS using jitter+adapt_diag...\n",
      "Multiprocess sampling (4 chains in 4 jobs)\n",
      "NUTS: [sigma, beta, alpha]\n",
      "Sampling 4 chains: 100%|██████████████████████████████████████████████████████| 8000/8000 [00:05<00:00, 1348.47draws/s]\n"
     ]
    }
   ],
   "source": [
    "d['mass_s'] = (d.mass - d.mass.mean()) / d.mass.std()\n",
    "with pm.Model() as m6_8:\n",
    "    alpha = pm.Normal('alpha',mu = d.brain.mean(), sigma = 1)\n",
    "    beta = pm.Normal('beta', mu = 0, sigma = 1)\n",
    "    sigma = pm.Uniform('sigma', lower = 0, upper = d.brain.std()*10)\n",
    "    mu = alpha + beta*d.mass_s.values\n",
    "    brain = pm.Normal('brain', mu = mu, sigma = sigma, observed = d.brain.values)\n",
    "    tracem68 = pm.sample(draws = 1000, tune = 1000)"
   ]
  },
  {
   "cell_type": "code",
   "execution_count": 91,
   "metadata": {},
   "outputs": [
    {
     "name": "stderr",
     "output_type": "stream",
     "text": [
      "C:\\Users\\JOSH\\Anaconda3\\lib\\site-packages\\pymc3\\stats.py:991: FutureWarning: The join_axes-keyword is deprecated. Use .reindex or .reindex_like on the result to achieve the same functionality.\n",
      "  axis=1, join_axes=[dforg.index])\n"
     ]
    },
    {
     "data": {
      "text/plain": [
       "100.19637069221764"
      ]
     },
     "execution_count": 91,
     "metadata": {},
     "output_type": "execute_result"
    }
   ],
   "source": [
    "theta = pm.summary(tracem68)['mean']\n",
    "# Deviance is a measure of model fit which helps us in how far away we are from our target\n",
    "# We can compare these measures against other models and the model which is \"better\" can be thought of as closer to the target\n",
    "# this is optimistically biased as we can think of it as fit on our training set\n",
    "# what we really care about is measure how it will do on our testing set, this is where AIC, BIC, WAIC come into play\n",
    "dev = -2*np.sum(\n",
    "    np.log(\n",
    "        stats.norm.pdf(d.brain, loc = theta[0] + theta[1]*d.mass_s, scale = theta[2])\n",
    "    )\n",
    ")\n",
    "dev"
   ]
  },
  {
   "cell_type": "markdown",
   "metadata": {},
   "source": [
    "## Code 6.12 - 6.14\n",
    "\n",
    "Skipping for now, todo later"
   ]
  },
  {
   "cell_type": "code",
   "execution_count": 94,
   "metadata": {},
   "outputs": [
    {
     "data": {
      "text/plain": [
       "array([0, 1, 2, 3, 4])"
      ]
     },
     "execution_count": 94,
     "metadata": {},
     "output_type": "execute_result"
    }
   ],
   "source": [
    "n = 20\n",
    "kseq = np.arange(0, 5)\n",
    "kseq"
   ]
  },
  {
   "cell_type": "markdown",
   "metadata": {},
   "source": [
    "## Code 6.15"
   ]
  },
  {
   "cell_type": "code",
   "execution_count": 102,
   "metadata": {},
   "outputs": [
    {
     "data": {
      "text/html": [
       "<div>\n",
       "<style scoped>\n",
       "    .dataframe tbody tr th:only-of-type {\n",
       "        vertical-align: middle;\n",
       "    }\n",
       "\n",
       "    .dataframe tbody tr th {\n",
       "        vertical-align: top;\n",
       "    }\n",
       "\n",
       "    .dataframe thead th {\n",
       "        text-align: right;\n",
       "    }\n",
       "</style>\n",
       "<table border=\"1\" class=\"dataframe\">\n",
       "  <thead>\n",
       "    <tr style=\"text-align: right;\">\n",
       "      <th></th>\n",
       "      <th>speed</th>\n",
       "      <th>dist</th>\n",
       "    </tr>\n",
       "  </thead>\n",
       "  <tbody>\n",
       "    <tr>\n",
       "      <th>0</th>\n",
       "      <td>4</td>\n",
       "      <td>2</td>\n",
       "    </tr>\n",
       "    <tr>\n",
       "      <th>1</th>\n",
       "      <td>4</td>\n",
       "      <td>10</td>\n",
       "    </tr>\n",
       "    <tr>\n",
       "      <th>2</th>\n",
       "      <td>7</td>\n",
       "      <td>4</td>\n",
       "    </tr>\n",
       "    <tr>\n",
       "      <th>3</th>\n",
       "      <td>7</td>\n",
       "      <td>22</td>\n",
       "    </tr>\n",
       "    <tr>\n",
       "      <th>4</th>\n",
       "      <td>8</td>\n",
       "      <td>16</td>\n",
       "    </tr>\n",
       "  </tbody>\n",
       "</table>\n",
       "</div>"
      ],
      "text/plain": [
       "   speed  dist\n",
       "0      4     2\n",
       "1      4    10\n",
       "2      7     4\n",
       "3      7    22\n",
       "4      8    16"
      ]
     },
     "execution_count": 102,
     "metadata": {},
     "output_type": "execute_result"
    }
   ],
   "source": [
    "data = pd.read_csv('.//data//cars.csv', sep=',')\n",
    "data.head()"
   ]
  },
  {
   "cell_type": "code",
   "execution_count": 105,
   "metadata": {},
   "outputs": [
    {
     "name": "stderr",
     "output_type": "stream",
     "text": [
      "Auto-assigning NUTS sampler...\n",
      "Initializing NUTS using jitter+adapt_diag...\n",
      "Multiprocess sampling (4 chains in 4 jobs)\n",
      "NUTS: [sigma, beta, alpha]\n",
      "Sampling 4 chains: 100%|███████████████████████████████████████████████████████| 8000/8000 [00:08<00:00, 994.80draws/s]\n"
     ]
    }
   ],
   "source": [
    "with pm.Model() as m615:\n",
    "    alpha = pm.Normal('alpha', mu = 0, sigma = 10) \n",
    "    beta = pm.Normal('beta', mu = 0, sigma = 10)\n",
    "    sigma = pm.Uniform('sigma', lower = 0, upper = 30)\n",
    "    mu = alpha + beta*data.speed.values\n",
    "    dist = pm.Normal('dist', mu = mu, sigma = sigma, observed = data.dist.values)\n",
    "    trace615 = pm.sample(draws = 1000, tune = 1000)"
   ]
  },
  {
   "cell_type": "code",
   "execution_count": 106,
   "metadata": {},
   "outputs": [
    {
     "name": "stderr",
     "output_type": "stream",
     "text": [
      "C:\\Users\\JOSH\\Anaconda3\\lib\\site-packages\\pymc3\\stats.py:991: FutureWarning: The join_axes-keyword is deprecated. Use .reindex or .reindex_like on the result to achieve the same functionality.\n",
      "  axis=1, join_axes=[dforg.index])\n"
     ]
    },
    {
     "data": {
      "text/html": [
       "<div>\n",
       "<style scoped>\n",
       "    .dataframe tbody tr th:only-of-type {\n",
       "        vertical-align: middle;\n",
       "    }\n",
       "\n",
       "    .dataframe tbody tr th {\n",
       "        vertical-align: top;\n",
       "    }\n",
       "\n",
       "    .dataframe thead th {\n",
       "        text-align: right;\n",
       "    }\n",
       "</style>\n",
       "<table border=\"1\" class=\"dataframe\">\n",
       "  <thead>\n",
       "    <tr style=\"text-align: right;\">\n",
       "      <th></th>\n",
       "      <th>mean</th>\n",
       "      <th>sd</th>\n",
       "      <th>mc_error</th>\n",
       "      <th>hpd_2.5</th>\n",
       "      <th>hpd_97.5</th>\n",
       "      <th>n_eff</th>\n",
       "      <th>Rhat</th>\n",
       "    </tr>\n",
       "  </thead>\n",
       "  <tbody>\n",
       "    <tr>\n",
       "      <th>sigma</th>\n",
       "      <td>15.871837</td>\n",
       "      <td>1.722487</td>\n",
       "      <td>0.035238</td>\n",
       "      <td>12.836612</td>\n",
       "      <td>19.378482</td>\n",
       "      <td>1823.449870</td>\n",
       "      <td>1.000914</td>\n",
       "    </tr>\n",
       "    <tr>\n",
       "      <th>beta</th>\n",
       "      <td>3.597274</td>\n",
       "      <td>0.364302</td>\n",
       "      <td>0.009820</td>\n",
       "      <td>2.876289</td>\n",
       "      <td>4.305178</td>\n",
       "      <td>1279.941181</td>\n",
       "      <td>1.002473</td>\n",
       "    </tr>\n",
       "    <tr>\n",
       "      <th>alpha</th>\n",
       "      <td>-11.867413</td>\n",
       "      <td>5.773241</td>\n",
       "      <td>0.160611</td>\n",
       "      <td>-23.298154</td>\n",
       "      <td>-0.794827</td>\n",
       "      <td>1198.774806</td>\n",
       "      <td>1.002238</td>\n",
       "    </tr>\n",
       "  </tbody>\n",
       "</table>\n",
       "</div>"
      ],
      "text/plain": [
       "            mean        sd  mc_error    hpd_2.5   hpd_97.5        n_eff  \\\n",
       "sigma  15.871837  1.722487  0.035238  12.836612  19.378482  1823.449870   \n",
       "beta    3.597274  0.364302  0.009820   2.876289   4.305178  1279.941181   \n",
       "alpha -11.867413  5.773241  0.160611 -23.298154  -0.794827  1198.774806   \n",
       "\n",
       "           Rhat  \n",
       "sigma  1.000914  \n",
       "beta   1.002473  \n",
       "alpha  1.002238  "
      ]
     },
     "execution_count": 106,
     "metadata": {},
     "output_type": "execute_result"
    }
   ],
   "source": [
    "varnames = ['sigma', 'beta', 'alpha']\n",
    "pm.summary(trace615, var_names=varnames)"
   ]
  },
  {
   "cell_type": "code",
   "execution_count": 115,
   "metadata": {},
   "outputs": [
    {
     "data": {
      "text/plain": [
       "['alpha', 'beta', 'sigma_interval__', 'sigma']"
      ]
     },
     "execution_count": 115,
     "metadata": {},
     "output_type": "execute_result"
    }
   ],
   "source": []
  },
  {
   "cell_type": "code",
   "execution_count": null,
   "metadata": {},
   "outputs": [],
   "source": []
  },
  {
   "cell_type": "code",
   "execution_count": null,
   "metadata": {},
   "outputs": [],
   "source": []
  },
  {
   "cell_type": "code",
   "execution_count": null,
   "metadata": {},
   "outputs": [],
   "source": []
  },
  {
   "cell_type": "markdown",
   "metadata": {},
   "source": [
    "# Practice\n",
    "\n",
    "## Easy\n",
    "\n",
    "### 6E1"
   ]
  },
  {
   "cell_type": "markdown",
   "metadata": {},
   "source": [
    "The 3 motivating criteria for information entropy are \n",
    "1. Uncertanity should be continuour\n",
    "2. as possible events increase so should uncertainty\n",
    "3. uncertainity should be additive"
   ]
  },
  {
   "cell_type": "markdown",
   "metadata": {},
   "source": [
    "### 6E2"
   ]
  },
  {
   "cell_type": "code",
   "execution_count": 4,
   "metadata": {},
   "outputs": [
    {
     "name": "stdout",
     "output_type": "stream",
     "text": [
      "0.6108643020548935\n"
     ]
    }
   ],
   "source": [
    "p = np.array([.3,.7])\n",
    "print(-np.sum(p*np.log(p)))"
   ]
  },
  {
   "cell_type": "markdown",
   "metadata": {},
   "source": [
    "### 6E3"
   ]
  },
  {
   "cell_type": "code",
   "execution_count": 5,
   "metadata": {},
   "outputs": [
    {
     "name": "stdout",
     "output_type": "stream",
     "text": [
      "1.3762266043445461\n"
     ]
    }
   ],
   "source": [
    "p = np.array([.2,.25,.25,.3])\n",
    "print(-np.sum(p*np.log(p)))"
   ]
  },
  {
   "cell_type": "markdown",
   "metadata": {},
   "source": [
    "### 6E4"
   ]
  },
  {
   "cell_type": "code",
   "execution_count": 7,
   "metadata": {},
   "outputs": [
    {
     "name": "stdout",
     "output_type": "stream",
     "text": [
      "1.097575998276395\n"
     ]
    }
   ],
   "source": [
    "p = np.array([.33,.33,.33])\n",
    "print(-np.sum(p*np.log(p)))"
   ]
  },
  {
   "cell_type": "markdown",
   "metadata": {},
   "source": [
    "## Medium\n",
    "\n",
    "### 6M1\n",
    "\n",
    "All of these information criteria is a way of computing and estimating what our out of sample deviance is\n",
    "\n",
    "AIC is the oldest, most restrictive and simplest of the three metrics which is trying to estimate out of sample deviance. It estimates this by take 2*number of parameters. This is the least general as it has hard assumptions such as multivariate gaussian, flat priors, N>>K\n",
    "\n",
    "While AIC is a point deviance at the MAP, DIC is a distribution of deviances. Given this distribution of deviances we are provided more information about predictive uncertainty and a better evaluater of out of sample deviance. DIC is a bit more general as it still assumes multivariate gaussian but it is calculated from the posterior distribution\n",
    "\n",
    "WAIC is another improvement on top of DIC. It is less restrictive than AIC/BIC as it doesn't assume a multivariate gaussian posterior. This is the most genreal as it is pointwise calcs and doesn't assume a multivariate gaussian"
   ]
  },
  {
   "cell_type": "markdown",
   "metadata": {},
   "source": [
    "### 6M2"
   ]
  },
  {
   "cell_type": "markdown",
   "metadata": {},
   "source": [
    "Model Selection - We are trying to answer the question of what model will provide us the best generalizaion on out of sample data. When we attempt to answer this we need a way to estimate what out of sample\n",
    "performance will be. In this case we use AIC/DIC/WAIC as an estimate of the average deviance on the new sample. These different information criterion helps us select the most plausiable model. \n",
    "\n",
    "Model Average - When choosing a model it's often common practice to select the lowest AIC/DIC/WAIC value and discard the others. This can be an issue as we a losing potential information when we discard the others. This is more apparent when there are small differences between model selection values. Therefore, it's important to average (ensemble) different posterior predictions (203). This guards us against being overconfident in one model as a predictor will never be more influential as it is in a single model (204). The book states, \"Just as relative posterior probability provides advice about how confident we meight be about parameters (conditional on the model), relative model accuracy provides advice about how confident we might be about models.\" This is another way we can help guard against overconfidence in model structure\n",
    "\n"
   ]
  },
  {
   "cell_type": "markdown",
   "metadata": {},
   "source": [
    "### 6M3"
   ]
  },
  {
   "cell_type": "markdown",
   "metadata": {},
   "source": [
    "Since DIC(190) and WAIC(192) sum over all i's it's neccessary to only use the same number of observations as a way to compare models. Using different observations across the model selection metrics will output different DIC, WAIC numbers and ultimatley skew the model selection process\n"
   ]
  },
  {
   "cell_type": "code",
   "execution_count": 1,
   "metadata": {},
   "outputs": [],
   "source": [
    "# Example"
   ]
  },
  {
   "cell_type": "markdown",
   "metadata": {},
   "source": [
    "### 6M4"
   ]
  },
  {
   "cell_type": "code",
   "execution_count": null,
   "metadata": {},
   "outputs": [],
   "source": []
  },
  {
   "cell_type": "markdown",
   "metadata": {},
   "source": [
    "### 6M5"
   ]
  },
  {
   "cell_type": "markdown",
   "metadata": {},
   "source": [
    "informative priors reduce overfitting because it's telling the machine before even seeing the data be very skeptical of parameter values outside of our sigma values. "
   ]
  },
  {
   "cell_type": "code",
   "execution_count": null,
   "metadata": {},
   "outputs": [],
   "source": []
  }
 ],
 "metadata": {
  "kernelspec": {
   "display_name": "Python 3",
   "language": "python",
   "name": "python3"
  },
  "language_info": {
   "codemirror_mode": {
    "name": "ipython",
    "version": 3
   },
   "file_extension": ".py",
   "mimetype": "text/x-python",
   "name": "python",
   "nbconvert_exporter": "python",
   "pygments_lexer": "ipython3",
   "version": "3.6.4"
  }
 },
 "nbformat": 4,
 "nbformat_minor": 4
}
