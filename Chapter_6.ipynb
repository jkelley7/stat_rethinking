{
 "cells": [
  {
   "cell_type": "code",
   "execution_count": 1,
   "metadata": {},
   "outputs": [],
   "source": [
    "import numpy as np\n",
    "import pandas as pd\n",
    "from scipy import stats\n",
    "import matplotlib.pyplot as plt\n",
    "import seaborn as sns\n",
    "import arviz as az\n",
    "from collections import Counter\n",
    "from scipy.interpolate import griddata\n",
    "import pymc3 as pm\n",
    "import theano as tt\n",
    "import statsmodels.api as sm\n",
    "import scipy as sc\n",
    "\n",
    "sns.set()"
   ]
  },
  {
   "cell_type": "markdown",
   "metadata": {},
   "source": [
    "# Chapter 6 \n",
    "\n",
    "## Code 6.1"
   ]
  },
  {
   "cell_type": "code",
   "execution_count": 3,
   "metadata": {},
   "outputs": [
    {
     "data": {
      "text/html": [
       "<div>\n",
       "<style scoped>\n",
       "    .dataframe tbody tr th:only-of-type {\n",
       "        vertical-align: middle;\n",
       "    }\n",
       "\n",
       "    .dataframe tbody tr th {\n",
       "        vertical-align: top;\n",
       "    }\n",
       "\n",
       "    .dataframe thead th {\n",
       "        text-align: right;\n",
       "    }\n",
       "</style>\n",
       "<table border=\"1\" class=\"dataframe\">\n",
       "  <thead>\n",
       "    <tr style=\"text-align: right;\">\n",
       "      <th></th>\n",
       "      <th>species</th>\n",
       "      <th>brain</th>\n",
       "      <th>mass</th>\n",
       "    </tr>\n",
       "  </thead>\n",
       "  <tbody>\n",
       "    <tr>\n",
       "      <th>0</th>\n",
       "      <td>afarensis</td>\n",
       "      <td>438</td>\n",
       "      <td>37.0</td>\n",
       "    </tr>\n",
       "    <tr>\n",
       "      <th>1</th>\n",
       "      <td>africanus</td>\n",
       "      <td>452</td>\n",
       "      <td>35.5</td>\n",
       "    </tr>\n",
       "    <tr>\n",
       "      <th>2</th>\n",
       "      <td>habilis</td>\n",
       "      <td>612</td>\n",
       "      <td>34.5</td>\n",
       "    </tr>\n",
       "    <tr>\n",
       "      <th>3</th>\n",
       "      <td>boisei</td>\n",
       "      <td>521</td>\n",
       "      <td>41.5</td>\n",
       "    </tr>\n",
       "    <tr>\n",
       "      <th>4</th>\n",
       "      <td>rudolfensis</td>\n",
       "      <td>752</td>\n",
       "      <td>55.5</td>\n",
       "    </tr>\n",
       "    <tr>\n",
       "      <th>5</th>\n",
       "      <td>ergaster</td>\n",
       "      <td>871</td>\n",
       "      <td>61.0</td>\n",
       "    </tr>\n",
       "    <tr>\n",
       "      <th>6</th>\n",
       "      <td>sapiens</td>\n",
       "      <td>1350</td>\n",
       "      <td>53.5</td>\n",
       "    </tr>\n",
       "  </tbody>\n",
       "</table>\n",
       "</div>"
      ],
      "text/plain": [
       "       species  brain  mass\n",
       "0    afarensis    438  37.0\n",
       "1    africanus    452  35.5\n",
       "2      habilis    612  34.5\n",
       "3       boisei    521  41.5\n",
       "4  rudolfensis    752  55.5\n",
       "5     ergaster    871  61.0\n",
       "6      sapiens   1350  53.5"
      ]
     },
     "execution_count": 3,
     "metadata": {},
     "output_type": "execute_result"
    }
   ],
   "source": [
    "data = {'species' : ['afarensis', 'africanus', 'habilis', 'boisei', 'rudolfensis', 'ergaster', 'sapiens'],\n",
    "'brain' : [438, 452, 612, 521, 752, 871, 1350],\n",
    "'mass' : [37., 35.5, 34.5, 41.5, 55.5, 61.0, 53.5]}\n",
    "d = pd.DataFrame(data)\n",
    "d"
   ]
  },
  {
   "cell_type": "markdown",
   "metadata": {},
   "source": [
    "## Code 6.2"
   ]
  },
  {
   "cell_type": "code",
   "execution_count": 3,
   "metadata": {},
   "outputs": [
    {
     "name": "stderr",
     "output_type": "stream",
     "text": [
      "C:\\Users\\JOSH\\Anaconda3\\lib\\site-packages\\statsmodels\\stats\\stattools.py:71: ValueWarning: omni_normtest is not valid with less than 8 observations; 7 samples were given.\n",
      "  \"samples were given.\" % int(n), ValueWarning)\n"
     ]
    },
    {
     "name": "stdout",
     "output_type": "stream",
     "text": [
      "                            OLS Regression Results                            \n",
      "==============================================================================\n",
      "Dep. Variable:                  brain   R-squared:                       0.490\n",
      "Model:                            OLS   Adj. R-squared:                  0.388\n",
      "Method:                 Least Squares   F-statistic:                     4.807\n",
      "Date:                Sun, 18 Aug 2019   Prob (F-statistic):             0.0798\n",
      "Time:                        21:10:21   Log-Likelihood:                -47.462\n",
      "No. Observations:                   7   AIC:                             98.92\n",
      "Df Residuals:                       5   BIC:                             98.82\n",
      "Df Model:                           1                                         \n",
      "Covariance Type:            nonrobust                                         \n",
      "==============================================================================\n",
      "                 coef    std err          t      P>|t|      [0.025      0.975]\n",
      "------------------------------------------------------------------------------\n",
      "Intercept   -227.6287    439.794     -0.518      0.627   -1358.154     902.897\n",
      "mass          20.6889      9.436      2.192      0.080      -3.568      44.946\n",
      "==============================================================================\n",
      "Omnibus:                          nan   Durbin-Watson:                   1.561\n",
      "Prob(Omnibus):                    nan   Jarque-Bera (JB):                2.372\n",
      "Skew:                           1.399   Prob(JB):                        0.305\n",
      "Kurtosis:                       3.548   Cond. No.                         215.\n",
      "==============================================================================\n",
      "\n",
      "Warnings:\n",
      "[1] Standard Errors assume that the covariance matrix of the errors is correctly specified.\n"
     ]
    }
   ],
   "source": [
    "mod = sm.formula.ols('brain ~ mass', d).fit()\n",
    "print(mod.summary())"
   ]
  },
  {
   "cell_type": "markdown",
   "metadata": {},
   "source": [
    "## Code 6.3"
   ]
  },
  {
   "cell_type": "code",
   "execution_count": 5,
   "metadata": {},
   "outputs": [
    {
     "data": {
      "text/plain": [
       "0.490158047949084"
      ]
     },
     "execution_count": 5,
     "metadata": {},
     "output_type": "execute_result"
    }
   ],
   "source": [
    "mod.rsquared"
   ]
  },
  {
   "cell_type": "markdown",
   "metadata": {},
   "source": [
    "## Code 6.4"
   ]
  },
  {
   "cell_type": "code",
   "execution_count": 10,
   "metadata": {},
   "outputs": [
    {
     "name": "stderr",
     "output_type": "stream",
     "text": [
      "C:\\Users\\JOSH\\Anaconda3\\lib\\site-packages\\statsmodels\\stats\\stattools.py:71: ValueWarning: omni_normtest is not valid with less than 8 observations; 7 samples were given.\n",
      "  \"samples were given.\" % int(n), ValueWarning)\n"
     ]
    },
    {
     "name": "stdout",
     "output_type": "stream",
     "text": [
      "                            OLS Regression Results                            \n",
      "==============================================================================\n",
      "Dep. Variable:                  brain   R-squared:                       0.536\n",
      "Model:                            OLS   Adj. R-squared:                  0.304\n",
      "Method:                 Least Squares   F-statistic:                     2.310\n",
      "Date:                Sun, 18 Aug 2019   Prob (F-statistic):              0.215\n",
      "Time:                        21:19:13   Log-Likelihood:                -47.133\n",
      "No. Observations:                   7   AIC:                             100.3\n",
      "Df Residuals:                       4   BIC:                             100.1\n",
      "Df Model:                           2                                         \n",
      "Covariance Type:            nonrobust                                         \n",
      "================================================================================\n",
      "                   coef    std err          t      P>|t|      [0.025      0.975]\n",
      "--------------------------------------------------------------------------------\n",
      "Intercept    -2618.1372   3831.633     -0.683      0.532   -1.33e+04    8020.182\n",
      "mass           127.3061    169.905      0.749      0.495    -344.425     599.037\n",
      "I(mass ** 2)    -1.1328      1.802     -0.629      0.564      -6.136       3.870\n",
      "==============================================================================\n",
      "Omnibus:                          nan   Durbin-Watson:                   1.479\n",
      "Prob(Omnibus):                    nan   Jarque-Bera (JB):                1.016\n",
      "Skew:                           0.901   Prob(JB):                        0.602\n",
      "Kurtosis:                       2.514   Cond. No.                     8.95e+04\n",
      "==============================================================================\n",
      "\n",
      "Warnings:\n",
      "[1] Standard Errors assume that the covariance matrix of the errors is correctly specified.\n",
      "[2] The condition number is large, 8.95e+04. This might indicate that there are\n",
      "strong multicollinearity or other numerical problems.\n"
     ]
    }
   ],
   "source": [
    "m6_2 = sm.formula.ols('brain ~ mass + I(mass**2)', d).fit()\n",
    "print(m6_2.summary())"
   ]
  },
  {
   "cell_type": "markdown",
   "metadata": {},
   "source": [
    "## Code 6.5"
   ]
  },
  {
   "cell_type": "code",
   "execution_count": 11,
   "metadata": {},
   "outputs": [
    {
     "name": "stderr",
     "output_type": "stream",
     "text": [
      "C:\\Users\\JOSH\\Anaconda3\\lib\\site-packages\\statsmodels\\stats\\stattools.py:71: ValueWarning: omni_normtest is not valid with less than 8 observations; 7 samples were given.\n",
      "  \"samples were given.\" % int(n), ValueWarning)\n"
     ]
    },
    {
     "name": "stdout",
     "output_type": "stream",
     "text": [
      "                            OLS Regression Results                            \n",
      "==============================================================================\n",
      "Dep. Variable:                  brain   R-squared:                       0.680\n",
      "Model:                            OLS   Adj. R-squared:                  0.360\n",
      "Method:                 Least Squares   F-statistic:                     2.123\n",
      "Date:                Sun, 18 Aug 2019   Prob (F-statistic):              0.276\n",
      "Time:                        21:19:15   Log-Likelihood:                -45.835\n",
      "No. Observations:                   7   AIC:                             99.67\n",
      "Df Residuals:                       3   BIC:                             99.45\n",
      "Df Model:                           3                                         \n",
      "Covariance Type:            nonrobust                                         \n",
      "================================================================================\n",
      "                   coef    std err          t      P>|t|      [0.025      0.975]\n",
      "--------------------------------------------------------------------------------\n",
      "Intercept     2.199e+04   2.15e+04      1.022      0.382   -4.65e+04    9.05e+04\n",
      "mass         -1473.8357   1389.194     -1.061      0.367   -5894.870    2947.199\n",
      "I(mass ** 2)    32.8102     29.298      1.120      0.344     -60.428     126.048\n",
      "I(mass ** 3)    -0.2351      0.203     -1.161      0.330      -0.880       0.409\n",
      "==============================================================================\n",
      "Omnibus:                          nan   Durbin-Watson:                   1.566\n",
      "Prob(Omnibus):                    nan   Jarque-Bera (JB):                0.061\n",
      "Skew:                          -0.216   Prob(JB):                        0.970\n",
      "Kurtosis:                       3.154   Cond. No.                     2.84e+07\n",
      "==============================================================================\n",
      "\n",
      "Warnings:\n",
      "[1] Standard Errors assume that the covariance matrix of the errors is correctly specified.\n",
      "[2] The condition number is large, 2.84e+07. This might indicate that there are\n",
      "strong multicollinearity or other numerical problems.\n"
     ]
    }
   ],
   "source": [
    "m6_3 = sm.formula.ols('brain ~ mass + I(mass**2) + I(mass**3)', d).fit()\n",
    "m6_4 = sm.formula.ols('brain ~ mass + I(mass**2) + I(mass**3) + I(mass**4)', d).fit()\n",
    "m6_5 = sm.formula.ols('brain ~ mass + I(mass**2) + I(mass**3) + I(mass**4) + I(mass**5)', d).fit()\n",
    "m6_6 = sm.formula.ols('brain ~ mass + I(mass**2) + I(mass**3) + I(mass**4) + I(mass**5) + I(mass**6)', d).fit()\n",
    "print(m6_3.summary())"
   ]
  },
  {
   "cell_type": "markdown",
   "metadata": {},
   "source": [
    "## Code 6.6"
   ]
  },
  {
   "cell_type": "code",
   "execution_count": 33,
   "metadata": {},
   "outputs": [
    {
     "name": "stderr",
     "output_type": "stream",
     "text": [
      "C:\\Users\\JOSH\\Anaconda3\\lib\\site-packages\\statsmodels\\stats\\stattools.py:71: ValueWarning: omni_normtest is not valid with less than 8 observations; 7 samples were given.\n",
      "  \"samples were given.\" % int(n), ValueWarning)\n"
     ]
    },
    {
     "name": "stdout",
     "output_type": "stream",
     "text": [
      "                            OLS Regression Results                            \n",
      "==============================================================================\n",
      "Dep. Variable:                  brain   R-squared:                       0.000\n",
      "Model:                            OLS   Adj. R-squared:                  0.000\n",
      "Method:                 Least Squares   F-statistic:                       nan\n",
      "Date:                Mon, 19 Aug 2019   Prob (F-statistic):                nan\n",
      "Time:                        21:09:58   Log-Likelihood:                -49.820\n",
      "No. Observations:                   7   AIC:                             101.6\n",
      "Df Residuals:                       6   BIC:                             101.6\n",
      "Df Model:                           0                                         \n",
      "Covariance Type:            nonrobust                                         \n",
      "==============================================================================\n",
      "                 coef    std err          t      P>|t|      [0.025      0.975]\n",
      "------------------------------------------------------------------------------\n",
      "Intercept    713.7143    121.798      5.860      0.001     415.685    1011.744\n",
      "==============================================================================\n",
      "Omnibus:                          nan   Durbin-Watson:                   0.531\n",
      "Prob(Omnibus):                    nan   Jarque-Bera (JB):                1.563\n",
      "Skew:                           1.154   Prob(JB):                        0.458\n",
      "Kurtosis:                       3.182   Cond. No.                         1.00\n",
      "==============================================================================\n",
      "\n",
      "Warnings:\n",
      "[1] Standard Errors assume that the covariance matrix of the errors is correctly specified.\n"
     ]
    }
   ],
   "source": [
    "m6_7 = sm.formula.ols('brain ~ 1', d).fit()\n",
    "print(m6_7.summary())\n",
    "m6_7."
   ]
  },
  {
   "cell_type": "markdown",
   "metadata": {},
   "source": [
    "## Code 6.7"
   ]
  },
  {
   "cell_type": "code",
   "execution_count": 27,
   "metadata": {},
   "outputs": [],
   "source": [
    "d_new = d.drop(d.index[-1])"
   ]
  },
  {
   "cell_type": "markdown",
   "metadata": {},
   "source": [
    "## Code 6.8"
   ]
  },
  {
   "cell_type": "code",
   "execution_count": 59,
   "metadata": {},
   "outputs": [
    {
     "data": {
      "image/png": "[encoded data removed]",
      "text/plain": [
       "<Figure size 432x288 with 1 Axes>"
      ]
     },
     "metadata": {
      "needs_background": "light"
     },
     "output_type": "display_data"
    }
   ],
   "source": [
    "plt.plot('mass','brain', data = d, marker = '.',markersize = 10, linestyle = '')\n",
    "for i in range(len(d)):\n",
    "    d_new = d.drop(d.index[i])\n",
    "    m0 = sm.formula.ols('brain ~ mass' , d_new).fit()\n",
    "    x_pred = pd.DataFrame({'mass':np.linspace(d.mass.min(), d.mass.max(), num = 100)})\n",
    "    y_pred = m0.predict(x_pred)\n",
    "    plt.plot(x_pred, y_pred, color = 'black', alpha = .5)\n",
    "    plt.xlim(34,60)\n",
    "    plt.xlabel('body mass (kg)')\n",
    "    plt.ylabel('brain volume (cc)')"
   ]
  },
  {
   "cell_type": "code",
   "execution_count": 60,
   "metadata": {},
   "outputs": [
    {
     "data": {
      "image/png": "[encoded data removed]",
      "text/plain": [
       "<Figure size 432x288 with 1 Axes>"
      ]
     },
     "metadata": {
      "needs_background": "light"
     },
     "output_type": "display_data"
    }
   ],
   "source": [
    "plt.plot('mass','brain', data = d, marker = '.',markersize = 10, linestyle = '')\n",
    "for i in range(len(d)):\n",
    "    d_new = d.drop(d.index[i])\n",
    "    m0b = sm.formula.ols('brain ~ mass + I(mass**2) + I(mass**3) + I(mass**4) + I(mass**5)', d_new).fit()\n",
    "    x_pred = pd.DataFrame({'mass':np.linspace(d.mass.min(), d.mass.max(), num = 100)})\n",
    "    y_pred = m0b.predict(x_pred)\n",
    "    plt.plot(x_pred, y_pred, color = 'black', alpha = .5)\n",
    "    plt.xlim(34,60)\n",
    "    plt.ylim(-100,2000)\n",
    "    plt.xlabel('body mass (kg)')\n",
    "    plt.ylabel('brain volume (cc)')\n",
    "    \n",
    "    "
   ]
  },
  {
   "cell_type": "markdown",
   "metadata": {},
   "source": [
    "## Code 6.9"
   ]
  },
  {
   "cell_type": "code",
   "execution_count": 62,
   "metadata": {},
   "outputs": [
    {
     "name": "stdout",
     "output_type": "stream",
     "text": [
      "0.6108643020548935\n",
      "0.3250829733914482\n"
     ]
    }
   ],
   "source": [
    "# fairly uncertain events\n",
    "p = np.array([.3,.7])\n",
    "print(-np.sum(p*np.log(p)))\n",
    "\n",
    "# fairly certain events\n",
    "p = np.array([.1,.9])\n",
    "print(-np.sum(p*np.log(p)))"
   ]
  },
  {
   "cell_type": "markdown",
   "metadata": {},
   "source": [
    "## Code 6.10"
   ]
  },
  {
   "cell_type": "code",
   "execution_count": 66,
   "metadata": {},
   "outputs": [
    {
     "data": {
      "text/plain": [
       "94.92498968588757"
      ]
     },
     "execution_count": 66,
     "metadata": {},
     "output_type": "execute_result"
    }
   ],
   "source": [
    "m6_1 = sm.formula.ols('brain ~ mass', d).fit()\n",
    "-2 * m6_1.llf"
   ]
  },
  {
   "cell_type": "markdown",
   "metadata": {},
   "source": [
    "## Code 6.11"
   ]
  },
  {
   "cell_type": "code",
   "execution_count": 72,
   "metadata": {},
   "outputs": [
    {
     "name": "stderr",
     "output_type": "stream",
     "text": [
      "Auto-assigning NUTS sampler...\n",
      "Initializing NUTS using jitter+adapt_diag...\n",
      "Multiprocess sampling (4 chains in 4 jobs)\n",
      "NUTS: [sigma, beta, alpha]\n",
      "Sampling 4 chains: 100%|██████████████████████████████████████████████████████| 8000/8000 [00:05<00:00, 1348.47draws/s]\n"
     ]
    }
   ],
   "source": [
    "d['mass_s'] = (d.mass - d.mass.mean()) / d.mass.std()\n",
    "with pm.Model() as m6_8:\n",
    "    alpha = pm.Normal('alpha',mu = d.brain.mean(), sigma = 1)\n",
    "    beta = pm.Normal('beta', mu = 0, sigma = 1)\n",
    "    sigma = pm.Uniform('sigma', lower = 0, upper = d.brain.std()*10)\n",
    "    mu = alpha + beta*d.mass_s.values\n",
    "    brain = pm.Normal('brain', mu = mu, sigma = sigma, observed = d.brain.values)\n",
    "    tracem68 = pm.sample(draws = 1000, tune = 1000)"
   ]
  },
  {
   "cell_type": "code",
   "execution_count": 91,
   "metadata": {},
   "outputs": [
    {
     "name": "stderr",
     "output_type": "stream",
     "text": [
      "C:\\Users\\JOSH\\Anaconda3\\lib\\site-packages\\pymc3\\stats.py:991: FutureWarning: The join_axes-keyword is deprecated. Use .reindex or .reindex_like on the result to achieve the same functionality.\n",
      "  axis=1, join_axes=[dforg.index])\n"
     ]
    },
    {
     "data": {
      "text/plain": [
       "100.19637069221764"
      ]
     },
     "execution_count": 91,
     "metadata": {},
     "output_type": "execute_result"
    }
   ],
   "source": [
    "theta = pm.summary(tracem68)['mean']\n",
    "# Deviance is a measure of model fit which helps us in how far away we are from our target\n",
    "# We can compare these measures against other models and the model which is \"better\" can be thought of as closer to the target\n",
    "# this is optimistically biased as we can think of it as fit on our training set\n",
    "# what we really care about is measure how it will do on our testing set, this is where AIC, BIC, WAIC come into play\n",
    "dev = -2*np.sum(\n",
    "    np.log(\n",
    "        stats.norm.pdf(d.brain, loc = theta[0] + theta[1]*d.mass_s, scale = theta[2])\n",
    "    )\n",
    ")\n",
    "dev"
   ]
  },
  {
   "cell_type": "markdown",
   "metadata": {},
   "source": [
    "## Code 6.12 - 6.14\n",
    "\n",
    "Skipping for now, todo later"
   ]
  },
  {
   "cell_type": "code",
   "execution_count": 94,
   "metadata": {},
   "outputs": [
    {
     "data": {
      "text/plain": [
       "array([0, 1, 2, 3, 4])"
      ]
     },
     "execution_count": 94,
     "metadata": {},
     "output_type": "execute_result"
    }
   ],
   "source": [
    "n = 20\n",
    "kseq = np.arange(0, 5)\n",
    "kseq"
   ]
  },
  {
   "cell_type": "markdown",
   "metadata": {},
   "source": [
    "## Code 6.15"
   ]
  },
  {
   "cell_type": "code",
   "execution_count": 195,
   "metadata": {},
   "outputs": [
    {
     "name": "stderr",
     "output_type": "stream",
     "text": [
      "Auto-assigning NUTS sampler...\n",
      "Initializing NUTS using jitter+adapt_diag...\n",
      "Multiprocess sampling (4 chains in 4 jobs)\n",
      "NUTS: [sigma, beta, alpha]\n",
      "Sampling 4 chains: 100%|███████████████████████████████████████████████████████| 8000/8000 [00:08<00:00, 992.37draws/s]\n"
     ]
    }
   ],
   "source": [
    "data = pd.read_csv('.//data//cars.csv', sep=',')\n",
    "\n",
    "with pm.Model() as m:\n",
    "    alpha = pm.Normal('alpha',mu = 0, sigma = 100)\n",
    "    beta = pm.Normal('beta', mu = 0, sigma = 10)\n",
    "    sigma = pm.Uniform('sigma', lower = 0, upper = 30)\n",
    "    mu = pm.Deterministic('mu', alpha + beta*data.speed)\n",
    "    dist = pm.Normal('dist', mu = mu, sigma = sigma, observed = data.dist)\n",
    "    tracem = pm.sample(draws = 1000, tune = 1000)"
   ]
  },
  {
   "cell_type": "markdown",
   "metadata": {},
   "source": [
    "## Code 6.16"
   ]
  },
  {
   "cell_type": "code",
   "execution_count": 196,
   "metadata": {},
   "outputs": [],
   "source": [
    "n_samples = 1000\n",
    "i = 1\n",
    "ll = np.zeros((50,n_samples))\n",
    "\n",
    "for i in range(n_samples):\n",
    "    mu = tracem['alpha'][i] + tracem['beta'][i]*data['speed']\n",
    "    ll[:,i] = np.log(\n",
    "                    stats.norm.pdf(x = data['speed'], loc = mu, scale = tracem['sigma'][i])\n",
    "                    )"
   ]
  },
  {
   "cell_type": "markdown",
   "metadata": {},
   "source": [
    "## Code 6.17"
   ]
  },
  {
   "cell_type": "code",
   "execution_count": 200,
   "metadata": {},
   "outputs": [],
   "source": [
    "#average the log likelihood for each observation\n",
    "n_cases = data.shape[0]\n",
    "llpd = np.zeros(50)\n",
    "llpd = sc.special.logsumexp(ll, axis = 1) - np.log(n_samples)"
   ]
  },
  {
   "cell_type": "markdown",
   "metadata": {},
   "source": [
    "## Code 6.18"
   ]
  },
  {
   "cell_type": "code",
   "execution_count": 204,
   "metadata": {},
   "outputs": [
    {
     "data": {
      "text/plain": [
       "array([0.02713516, 0.02713516, 0.01452899, 0.01452899, 0.01754028,\n",
       "       0.02126046, 0.02523937, 0.02523937, 0.02523937, 0.02988583,\n",
       "       0.02988583, 0.03646769, 0.03646769, 0.03646769, 0.03646769,\n",
       "       0.04711179, 0.04711179, 0.04711179, 0.04711179, 0.06480398,\n",
       "       0.06480398, 0.06480398, 0.06480398, 0.0933891 , 0.0933891 ,\n",
       "       0.0933891 , 0.137571  , 0.137571  , 0.20291254, 0.20291254,\n",
       "       0.20291254, 0.29583558, 0.29583558, 0.29583558, 0.29583558,\n",
       "       0.42362098, 0.42362098, 0.42362098, 0.5944086 , 0.5944086 ,\n",
       "       0.5944086 , 0.5944086 , 0.5944086 , 1.10184496, 1.45906844,\n",
       "       1.90044364, 1.90044364, 1.90044364, 1.90044364, 2.43840541])"
      ]
     },
     "execution_count": 204,
     "metadata": {},
     "output_type": "execute_result"
    }
   ],
   "source": [
    "pWAIC = np.var(ll,axis = 1)\n",
    "pWAIC"
   ]
  },
  {
   "cell_type": "markdown",
   "metadata": {},
   "source": [
    "## Code 6.19"
   ]
  },
  {
   "cell_type": "code",
   "execution_count": 202,
   "metadata": {},
   "outputs": [
    {
     "data": {
      "text/plain": [
       "595.3577988794045"
      ]
     },
     "execution_count": 202,
     "metadata": {},
     "output_type": "execute_result"
    }
   ],
   "source": [
    "-2*(np.sum(llpd) - np.sum(pWAIC))"
   ]
  },
  {
   "cell_type": "markdown",
   "metadata": {},
   "source": [
    "## Code 6.20"
   ]
  },
  {
   "cell_type": "code",
   "execution_count": 203,
   "metadata": {},
   "outputs": [
    {
     "data": {
      "text/plain": [
       "29.578313995467976"
      ]
     },
     "execution_count": 203,
     "metadata": {},
     "output_type": "execute_result"
    }
   ],
   "source": [
    "waic_vec = -2*(llpd - pWAIC)\n",
    "np.sqrt(n_cases*np.var(waic_vec))"
   ]
  },
  {
   "cell_type": "markdown",
   "metadata": {},
   "source": [
    "## Code 6.21"
   ]
  },
  {
   "cell_type": "code",
   "execution_count": 2,
   "metadata": {},
   "outputs": [
    {
     "data": {
      "text/plain": [
       "(17, 9)"
      ]
     },
     "execution_count": 2,
     "metadata": {},
     "output_type": "execute_result"
    }
   ],
   "source": [
    "d = pd.read_csv('.\\\\data\\\\milk.csv', sep = ';')\n",
    "d.columns = d.columns.str.replace('.','_')\n",
    "dcc = d[~d.neocortex_perc.isna()].copy()\n",
    "dcc['neocortex'] = dcc.neocortex_perc / 100\n",
    "dcc.shape"
   ]
  },
  {
   "cell_type": "markdown",
   "metadata": {},
   "source": [
    "## Code 6.22"
   ]
  },
  {
   "cell_type": "code",
   "execution_count": 30,
   "metadata": {},
   "outputs": [
    {
     "name": "stderr",
     "output_type": "stream",
     "text": [
      "Auto-assigning NUTS sampler...\n",
      "Initializing NUTS using jitter+adapt_diag...\n",
      "Multiprocess sampling (4 chains in 4 jobs)\n",
      "NUTS: [sigma, alpha]\n",
      "Sampling 4 chains: 100%|██████████████████████████████████████████████████████| 8000/8000 [00:05<00:00, 1446.74draws/s]\n",
      "Auto-assigning NUTS sampler...\n",
      "Initializing NUTS using jitter+adapt_diag...\n",
      "Multiprocess sampling (4 chains in 4 jobs)\n",
      "NUTS: [sigma, betaneo, alpha]\n",
      "Sampling 4 chains: 100%|███████████████████████████████████████████████████████| 8000/8000 [00:18<00:00, 437.49draws/s]\n",
      "There were 3 divergences after tuning. Increase `target_accept` or reparameterize.\n",
      "There were 2 divergences after tuning. Increase `target_accept` or reparameterize.\n",
      "There were 77 divergences after tuning. Increase `target_accept` or reparameterize.\n",
      "The acceptance probability does not match the target. It is 0.5432968783604589, but should be close to 0.8. Try to increase the number of tuning steps.\n",
      "The estimated number of effective samples is smaller than 200 for some parameters.\n",
      "Auto-assigning NUTS sampler...\n",
      "Initializing NUTS using jitter+adapt_diag...\n",
      "Multiprocess sampling (4 chains in 4 jobs)\n",
      "NUTS: [sigma, betamass, alpha]\n",
      "Sampling 4 chains: 100%|██████████████████████████████████████████████████████| 8000/8000 [00:07<00:00, 1014.05draws/s]\n",
      "Auto-assigning NUTS sampler...\n",
      "Initializing NUTS using jitter+adapt_diag...\n",
      "Multiprocess sampling (4 chains in 4 jobs)\n",
      "NUTS: [sigma, betaneo, betamass, alpha]\n",
      "Sampling 4 chains: 100%|███████████████████████████████████████████████████████| 8000/8000 [00:24<00:00, 324.99draws/s]\n",
      "There were 9 divergences after tuning. Increase `target_accept` or reparameterize.\n",
      "There were 32 divergences after tuning. Increase `target_accept` or reparameterize.\n",
      "The acceptance probability does not match the target. It is 0.7080403278619041, but should be close to 0.8. Try to increase the number of tuning steps.\n",
      "There were 5 divergences after tuning. Increase `target_accept` or reparameterize.\n",
      "The number of effective samples is smaller than 10% for some parameters.\n"
     ]
    }
   ],
   "source": [
    "# when running the mulitple models we need to share the values for theano\n",
    "a_start = dcc.kcal_per_g.mean()\n",
    "sigma_start = dcc.kcal_per_g.std()\n",
    "\n",
    "mass = tt.shared(np.log(dcc['mass'].values))\n",
    "neocortex = tt.shared(dcc['neocortex'].values)\n",
    "k_cal_shared = tt.shared(dcc.kcal_per_g.values)\n",
    "\n",
    "with pm.Model() as m611:\n",
    "    alpha = pm.Normal('alpha',mu = 0, sigma = 10, testval = a_start)\n",
    "    mu = alpha + 0 * neocortex\n",
    "    sigma = pm.HalfNormal('sigma',sigma =10, testval=sigma_start)\n",
    "    k_cal = pm.Normal('k_cal', mu = alpha, sigma = sigma, observed = k_cal_shared)\n",
    "    tracem611 = pm.sample(draws = 1000, tune = 1000)\n",
    "\n",
    "with pm.Model() as m612:\n",
    "    alpha = pm.Normal('alpha',mu = 0, sigma = 10, testval = a_start)\n",
    "    betaneo = pm.Normal('betaneo', mu = 0 , sigma = 10)\n",
    "    mu = alpha + betaneo*neocortex\n",
    "    sigma = pm.HalfNormal('sigma',sigma =10, testval=sigma_start)\n",
    "    k_cal = pm.Normal('k_cal', mu = mu, sigma = sigma, observed = k_cal_shared)\n",
    "    tracem612 = pm.sample(draws = 1000, tune = 1000)\n",
    "    \n",
    "with pm.Model() as m613:\n",
    "    alpha = pm.Normal('alpha',mu = 0, sigma = 10, testval = a_start)\n",
    "    betamass = pm.Normal('betamass', mu = 0 , sigma = 10)\n",
    "    mu = alpha + betamass*mass\n",
    "    sigma = pm.HalfNormal('sigma',sigma =10, testval=sigma_start)\n",
    "    k_cal = pm.Normal('k_cal', mu = mu, sigma = sigma, observed = k_cal_shared)\n",
    "    tracem613 = pm.sample(draws = 1000, tune = 1000)\n",
    "    \n",
    "with pm.Model() as m614:\n",
    "    alpha = pm.Normal('alpha',mu = 0, sigma = 10, testval = a_start)\n",
    "    betamass = pm.Normal('betamass', mu = 0 , sigma = 10)\n",
    "    betaneo = pm.Normal('betaneo', mu = 0 , sigma = 10)\n",
    "    mu = alpha + betamass*mass + betaneo*neocortex\n",
    "    sigma = pm.HalfNormal('sigma',sigma =10, testval=sigma_start)\n",
    "    k_cal4 = pm.Normal('k_cal', mu = mu, sigma = sigma, observed = k_cal_shared)\n",
    "    tracem614 = pm.sample(draws = 1000, tune = 1000)"
   ]
  },
  {
   "cell_type": "markdown",
   "metadata": {},
   "source": [
    "## Code 6.23"
   ]
  },
  {
   "cell_type": "code",
   "execution_count": 31,
   "metadata": {},
   "outputs": [
    {
     "name": "stderr",
     "output_type": "stream",
     "text": [
      "C:\\Users\\JOSH\\Anaconda3\\lib\\site-packages\\pymc3\\stats.py:168: FutureWarning: arrays to stack must be passed as a \"sequence\" type such as list or tuple. Support for non-sequence iterables such as generators is deprecated as of NumPy 1.16 and will raise an error in the future.\n",
      "  return np.stack(logp)\n",
      "C:\\Users\\JOSH\\Anaconda3\\lib\\site-packages\\pymc3\\stats.py:219: UserWarning: For one or more samples the posterior variance of the\n",
      "        log predictive densities exceeds 0.4. This could be indication of\n",
      "        WAIC starting to fail see http://arxiv.org/abs/1507.04544 for details\n",
      "        \n",
      "  \"\"\")\n"
     ]
    },
    {
     "data": {
      "text/plain": [
       "WAIC_r(WAIC=-16.625887212149703, WAIC_se=5.388959079075291, p_WAIC=3.2809318637685814, var_warn=1)"
      ]
     },
     "execution_count": 31,
     "metadata": {},
     "output_type": "execute_result"
    }
   ],
   "source": [
    "pm.waic(trace=tracem614, model = m614)"
   ]
  },
  {
   "cell_type": "markdown",
   "metadata": {},
   "source": [
    "## Code 6.24"
   ]
  },
  {
   "cell_type": "code",
   "execution_count": 34,
   "metadata": {},
   "outputs": [
    {
     "name": "stderr",
     "output_type": "stream",
     "text": [
      "C:\\Users\\JOSH\\Anaconda3\\lib\\site-packages\\pymc3\\stats.py:168: FutureWarning: arrays to stack must be passed as a \"sequence\" type such as list or tuple. Support for non-sequence iterables such as generators is deprecated as of NumPy 1.16 and will raise an error in the future.\n",
      "  return np.stack(logp)\n",
      "C:\\Users\\JOSH\\Anaconda3\\lib\\site-packages\\pymc3\\stats.py:219: UserWarning: For one or more samples the posterior variance of the\n",
      "        log predictive densities exceeds 0.4. This could be indication of\n",
      "        WAIC starting to fail see http://arxiv.org/abs/1507.04544 for details\n",
      "        \n",
      "  \"\"\")\n"
     ]
    },
    {
     "data": {
      "text/html": [
       "<div>\n",
       "<style scoped>\n",
       "    .dataframe tbody tr th:only-of-type {\n",
       "        vertical-align: middle;\n",
       "    }\n",
       "\n",
       "    .dataframe tbody tr th {\n",
       "        vertical-align: top;\n",
       "    }\n",
       "\n",
       "    .dataframe thead th {\n",
       "        text-align: right;\n",
       "    }\n",
       "</style>\n",
       "<table border=\"1\" class=\"dataframe\">\n",
       "  <thead>\n",
       "    <tr style=\"text-align: right;\">\n",
       "      <th></th>\n",
       "      <th>WAIC</th>\n",
       "      <th>pWAIC</th>\n",
       "      <th>dWAIC</th>\n",
       "      <th>weight</th>\n",
       "      <th>SE</th>\n",
       "      <th>dSE</th>\n",
       "      <th>var_warn</th>\n",
       "    </tr>\n",
       "  </thead>\n",
       "  <tbody>\n",
       "    <tr>\n",
       "      <th>m614</th>\n",
       "      <td>-16.63</td>\n",
       "      <td>3.28</td>\n",
       "      <td>0</td>\n",
       "      <td>0.97</td>\n",
       "      <td>5.39</td>\n",
       "      <td>0</td>\n",
       "      <td>1</td>\n",
       "    </tr>\n",
       "    <tr>\n",
       "      <th>m613</th>\n",
       "      <td>-8.84</td>\n",
       "      <td>2.04</td>\n",
       "      <td>7.79</td>\n",
       "      <td>0</td>\n",
       "      <td>4.09</td>\n",
       "      <td>3.72</td>\n",
       "      <td>1</td>\n",
       "    </tr>\n",
       "    <tr>\n",
       "      <th>m611</th>\n",
       "      <td>-8.69</td>\n",
       "      <td>1.34</td>\n",
       "      <td>7.94</td>\n",
       "      <td>0.03</td>\n",
       "      <td>3.62</td>\n",
       "      <td>5.2</td>\n",
       "      <td>0</td>\n",
       "    </tr>\n",
       "    <tr>\n",
       "      <th>m612</th>\n",
       "      <td>-6.44</td>\n",
       "      <td>2.35</td>\n",
       "      <td>10.18</td>\n",
       "      <td>0</td>\n",
       "      <td>3.64</td>\n",
       "      <td>5.48</td>\n",
       "      <td>1</td>\n",
       "    </tr>\n",
       "  </tbody>\n",
       "</table>\n",
       "</div>"
      ],
      "text/plain": [
       "       WAIC pWAIC  dWAIC weight    SE   dSE var_warn\n",
       "m614 -16.63  3.28      0   0.97  5.39     0        1\n",
       "m613  -8.84  2.04   7.79      0  4.09  3.72        1\n",
       "m611  -8.69  1.34   7.94   0.03  3.62   5.2        0\n",
       "m612  -6.44  2.35  10.18      0  3.64  5.48        1"
      ]
     },
     "execution_count": 34,
     "metadata": {},
     "output_type": "execute_result"
    }
   ],
   "source": [
    "m611.name = 'm611'\n",
    "m612.name = 'm612'\n",
    "m613.name = 'm613'\n",
    "m614.name = 'm614'\n",
    "df_compare = pm.compare({m611: tracem611,\n",
    "           m612: tracem612,\n",
    "           m613: tracem613,\n",
    "           m614: tracem614})\n",
    "df_compare"
   ]
  },
  {
   "cell_type": "markdown",
   "metadata": {},
   "source": [
    "## Code 6.25"
   ]
  },
  {
   "cell_type": "code",
   "execution_count": 33,
   "metadata": {},
   "outputs": [
    {
     "name": "stderr",
     "output_type": "stream",
     "text": [
      "C:\\Users\\JOSH\\Anaconda3\\lib\\site-packages\\ipykernel_launcher.py:2: UserWarning: This figure was using constrained_layout==True, but that is incompatible with subplots_adjust and or tight_layout: setting constrained_layout==False. \n",
      "  \n"
     ]
    },
    {
     "data": {
      "image/png": "[encoded data removed]",
      "text/plain": [
       "<Figure size 432x288 with 1 Axes>"
      ]
     },
     "metadata": {
      "needs_background": "light"
     },
     "output_type": "display_data"
    }
   ],
   "source": [
    "pm.compareplot(df_compare)\n",
    "plt.tight_layout()\n",
    "plt.show()"
   ]
  },
  {
   "cell_type": "markdown",
   "metadata": {},
   "source": [
    "## Code 6.26"
   ]
  },
  {
   "cell_type": "code",
   "execution_count": 28,
   "metadata": {},
   "outputs": [
    {
     "data": {
      "text/plain": [
       "0.17924"
      ]
     },
     "execution_count": 28,
     "metadata": {},
     "output_type": "execute_result"
    }
   ],
   "source": [
    "diff = np.random.normal(6.7, 7.27, size = int(1e5))\n",
    "sum(diff<0)/int(1e5)"
   ]
  },
  {
   "cell_type": "markdown",
   "metadata": {},
   "source": [
    "## Code 6.27"
   ]
  },
  {
   "cell_type": "code",
   "execution_count": 47,
   "metadata": {},
   "outputs": [
    {
     "name": "stderr",
     "output_type": "stream",
     "text": [
      "C:\\Users\\JOSH\\Anaconda3\\lib\\site-packages\\pymc3\\stats.py:991: FutureWarning: The join_axes-keyword is deprecated. Use .reindex or .reindex_like on the result to achieve the same functionality.\n",
      "  axis=1, join_axes=[dforg.index])\n"
     ]
    },
    {
     "data": {
      "text/html": [
       "<div>\n",
       "<style scoped>\n",
       "    .dataframe tbody tr th:only-of-type {\n",
       "        vertical-align: middle;\n",
       "    }\n",
       "\n",
       "    .dataframe tbody tr th {\n",
       "        vertical-align: top;\n",
       "    }\n",
       "\n",
       "    .dataframe thead th {\n",
       "        text-align: right;\n",
       "    }\n",
       "</style>\n",
       "<table border=\"1\" class=\"dataframe\">\n",
       "  <thead>\n",
       "    <tr style=\"text-align: right;\">\n",
       "      <th></th>\n",
       "      <th>m611</th>\n",
       "      <th>m612</th>\n",
       "      <th>m613</th>\n",
       "      <th>m614</th>\n",
       "    </tr>\n",
       "  </thead>\n",
       "  <tbody>\n",
       "    <tr>\n",
       "      <th>alpha</th>\n",
       "      <td>0.657</td>\n",
       "      <td>0.365</td>\n",
       "      <td>0.707</td>\n",
       "      <td>-1.087</td>\n",
       "    </tr>\n",
       "    <tr>\n",
       "      <th>betamass</th>\n",
       "      <td>NaN</td>\n",
       "      <td>NaN</td>\n",
       "      <td>-0.033</td>\n",
       "      <td>-0.097</td>\n",
       "    </tr>\n",
       "    <tr>\n",
       "      <th>betaneo</th>\n",
       "      <td>NaN</td>\n",
       "      <td>0.433</td>\n",
       "      <td>NaN</td>\n",
       "      <td>2.800</td>\n",
       "    </tr>\n",
       "    <tr>\n",
       "      <th>sigma</th>\n",
       "      <td>0.189</td>\n",
       "      <td>0.188</td>\n",
       "      <td>0.184</td>\n",
       "      <td>0.138</td>\n",
       "    </tr>\n",
       "  </tbody>\n",
       "</table>\n",
       "</div>"
      ],
      "text/plain": [
       "           m611   m612   m613   m614\n",
       "alpha     0.657  0.365  0.707 -1.087\n",
       "betamass    NaN    NaN -0.033 -0.097\n",
       "betaneo     NaN  0.433    NaN  2.800\n",
       "sigma     0.189  0.188  0.184  0.138"
      ]
     },
     "execution_count": 47,
     "metadata": {},
     "output_type": "execute_result"
    }
   ],
   "source": [
    "coeftab = pd.DataFrame({'m611': pm.summary(tracem611)['mean'],\n",
    "                         'm612': pm.summary(tracem612)['mean'],\n",
    "                         'm613': pm.summary(tracem613)['mean'],\n",
    "                         'm614': pm.summary(tracem614)['mean']}).round(3)\n",
    "coeftab"
   ]
  },
  {
   "cell_type": "markdown",
   "metadata": {},
   "source": [
    "## Code 6.28"
   ]
  },
  {
   "cell_type": "code",
   "execution_count": 36,
   "metadata": {},
   "outputs": [
    {
     "name": "stderr",
     "output_type": "stream",
     "text": [
      "C:\\Users\\JOSH\\Anaconda3\\lib\\site-packages\\arviz\\plots\\forestplot.py:207: MatplotlibDeprecationWarning: \n",
      "The tick1On function was deprecated in Matplotlib 3.1 and will be removed in 3.3. Use Tick.tick1line.set_visible instead.\n",
      "  ticks.tick1On = False\n",
      "C:\\Users\\JOSH\\Anaconda3\\lib\\site-packages\\arviz\\plots\\forestplot.py:208: MatplotlibDeprecationWarning: \n",
      "The tick2On function was deprecated in Matplotlib 3.1 and will be removed in 3.3. Use Tick.tick2line.set_visible instead.\n",
      "  ticks.tick2On = False\n",
      "C:\\Users\\JOSH\\Anaconda3\\lib\\site-packages\\ipykernel_launcher.py:2: UserWarning: This figure was using constrained_layout==True, but that is incompatible with subplots_adjust and or tight_layout: setting constrained_layout==False. \n",
      "  \n"
     ]
    },
    {
     "data": {
      "image/png": "[encoded data removed]",
      "text/plain": [
       "<Figure size 432x1713.6 with 1 Axes>"
      ]
     },
     "metadata": {
      "needs_background": "light"
     },
     "output_type": "display_data"
    }
   ],
   "source": [
    "pm.forestplot([tracem611, tracem612, tracem613, tracem614])\n",
    "plt.tight_layout()\n",
    "plt.show()"
   ]
  },
  {
   "cell_type": "code",
   "execution_count": 105,
   "metadata": {},
   "outputs": [
    {
     "name": "stderr",
     "output_type": "stream",
     "text": [
      "Auto-assigning NUTS sampler...\n",
      "Initializing NUTS using jitter+adapt_diag...\n",
      "Multiprocess sampling (4 chains in 4 jobs)\n",
      "NUTS: [sigma, beta, alpha]\n",
      "Sampling 4 chains: 100%|███████████████████████████████████████████████████████| 8000/8000 [00:08<00:00, 994.80draws/s]\n"
     ]
    }
   ],
   "source": [
    "with pm.Model() as m615:\n",
    "    alpha = pm.Normal('alpha', mu = 0, sigma = 10) \n",
    "    beta = pm.Normal('beta', mu = 0, sigma = 10)\n",
    "    sigma = pm.Uniform('sigma', lower = 0, upper = 30)\n",
    "    mu = alpha + beta*data.speed.values\n",
    "    dist = pm.Normal('dist', mu = mu, sigma = sigma, observed = data.dist.values)\n",
    "    trace615 = pm.sample(draws = 1000, tune = 1000)"
   ]
  },
  {
   "cell_type": "code",
   "execution_count": 106,
   "metadata": {},
   "outputs": [
    {
     "name": "stderr",
     "output_type": "stream",
     "text": [
      "C:\\Users\\JOSH\\Anaconda3\\lib\\site-packages\\pymc3\\stats.py:991: FutureWarning: The join_axes-keyword is deprecated. Use .reindex or .reindex_like on the result to achieve the same functionality.\n",
      "  axis=1, join_axes=[dforg.index])\n"
     ]
    },
    {
     "data": {
      "text/html": [
       "<div>\n",
       "<style scoped>\n",
       "    .dataframe tbody tr th:only-of-type {\n",
       "        vertical-align: middle;\n",
       "    }\n",
       "\n",
       "    .dataframe tbody tr th {\n",
       "        vertical-align: top;\n",
       "    }\n",
       "\n",
       "    .dataframe thead th {\n",
       "        text-align: right;\n",
       "    }\n",
       "</style>\n",
       "<table border=\"1\" class=\"dataframe\">\n",
       "  <thead>\n",
       "    <tr style=\"text-align: right;\">\n",
       "      <th></th>\n",
       "      <th>mean</th>\n",
       "      <th>sd</th>\n",
       "      <th>mc_error</th>\n",
       "      <th>hpd_2.5</th>\n",
       "      <th>hpd_97.5</th>\n",
       "      <th>n_eff</th>\n",
       "      <th>Rhat</th>\n",
       "    </tr>\n",
       "  </thead>\n",
       "  <tbody>\n",
       "    <tr>\n",
       "      <th>sigma</th>\n",
       "      <td>15.871837</td>\n",
       "      <td>1.722487</td>\n",
       "      <td>0.035238</td>\n",
       "      <td>12.836612</td>\n",
       "      <td>19.378482</td>\n",
       "      <td>1823.449870</td>\n",
       "      <td>1.000914</td>\n",
       "    </tr>\n",
       "    <tr>\n",
       "      <th>beta</th>\n",
       "      <td>3.597274</td>\n",
       "      <td>0.364302</td>\n",
       "      <td>0.009820</td>\n",
       "      <td>2.876289</td>\n",
       "      <td>4.305178</td>\n",
       "      <td>1279.941181</td>\n",
       "      <td>1.002473</td>\n",
       "    </tr>\n",
       "    <tr>\n",
       "      <th>alpha</th>\n",
       "      <td>-11.867413</td>\n",
       "      <td>5.773241</td>\n",
       "      <td>0.160611</td>\n",
       "      <td>-23.298154</td>\n",
       "      <td>-0.794827</td>\n",
       "      <td>1198.774806</td>\n",
       "      <td>1.002238</td>\n",
       "    </tr>\n",
       "  </tbody>\n",
       "</table>\n",
       "</div>"
      ],
      "text/plain": [
       "            mean        sd  mc_error    hpd_2.5   hpd_97.5        n_eff  \\\n",
       "sigma  15.871837  1.722487  0.035238  12.836612  19.378482  1823.449870   \n",
       "beta    3.597274  0.364302  0.009820   2.876289   4.305178  1279.941181   \n",
       "alpha -11.867413  5.773241  0.160611 -23.298154  -0.794827  1198.774806   \n",
       "\n",
       "           Rhat  \n",
       "sigma  1.000914  \n",
       "beta   1.002473  \n",
       "alpha  1.002238  "
      ]
     },
     "execution_count": 106,
     "metadata": {},
     "output_type": "execute_result"
    }
   ],
   "source": [
    "varnames = ['sigma', 'beta', 'alpha']\n",
    "pm.summary(trace615, var_names=varnames)"
   ]
  },
  {
   "cell_type": "code",
   "execution_count": 115,
   "metadata": {},
   "outputs": [
    {
     "data": {
      "text/plain": [
       "['alpha', 'beta', 'sigma_interval__', 'sigma']"
      ]
     },
     "execution_count": 115,
     "metadata": {},
     "output_type": "execute_result"
    }
   ],
   "source": []
  },
  {
   "cell_type": "code",
   "execution_count": null,
   "metadata": {},
   "outputs": [],
   "source": []
  },
  {
   "cell_type": "code",
   "execution_count": null,
   "metadata": {},
   "outputs": [],
   "source": []
  },
  {
   "cell_type": "code",
   "execution_count": null,
   "metadata": {},
   "outputs": [],
   "source": []
  },
  {
   "cell_type": "markdown",
   "metadata": {},
   "source": [
    "# Practice\n",
    "\n",
    "## Easy\n",
    "\n",
    "### 6E1"
   ]
  },
  {
   "cell_type": "markdown",
   "metadata": {},
   "source": [
    "The 3 motivating criteria for information entropy are \n",
    "1. Uncertanity should be continuour\n",
    "2. as possible events increase so should uncertainty\n",
    "3. uncertainity should be additive"
   ]
  },
  {
   "cell_type": "markdown",
   "metadata": {},
   "source": [
    "### 6E2"
   ]
  },
  {
   "cell_type": "code",
   "execution_count": 4,
   "metadata": {},
   "outputs": [
    {
     "name": "stdout",
     "output_type": "stream",
     "text": [
      "0.6108643020548935\n"
     ]
    }
   ],
   "source": [
    "p = np.array([.3,.7])\n",
    "print(-np.sum(p*np.log(p)))"
   ]
  },
  {
   "cell_type": "markdown",
   "metadata": {},
   "source": [
    "### 6E3"
   ]
  },
  {
   "cell_type": "code",
   "execution_count": 5,
   "metadata": {},
   "outputs": [
    {
     "name": "stdout",
     "output_type": "stream",
     "text": [
      "1.3762266043445461\n"
     ]
    }
   ],
   "source": [
    "p = np.array([.2,.25,.25,.3])\n",
    "print(-np.sum(p*np.log(p)))"
   ]
  },
  {
   "cell_type": "markdown",
   "metadata": {},
   "source": [
    "### 6E4"
   ]
  },
  {
   "cell_type": "code",
   "execution_count": 7,
   "metadata": {},
   "outputs": [
    {
     "name": "stdout",
     "output_type": "stream",
     "text": [
      "1.097575998276395\n"
     ]
    }
   ],
   "source": [
    "p = np.array([.33,.33,.33])\n",
    "print(-np.sum(p*np.log(p)))"
   ]
  },
  {
   "cell_type": "markdown",
   "metadata": {},
   "source": [
    "## Medium\n",
    "\n",
    "### 6M1\n",
    "\n",
    "All of these information criteria is a way of computing and estimating what our out of sample deviance is\n",
    "\n",
    "AIC is the oldest, most restrictive and simplest of the three metrics which is trying to estimate out of sample deviance. It estimates this by take 2*number of parameters. This is the least general as it has hard assumptions such as multivariate gaussian, flat priors, N>>K\n",
    "\n",
    "While AIC is a point deviance at the MAP, DIC is a distribution of deviances. Given this distribution of deviances we are provided more information about predictive uncertainty and a better evaluater of out of sample deviance. DIC is a bit more general as it still assumes multivariate gaussian but it is calculated from the posterior distribution\n",
    "\n",
    "WAIC is another improvement on top of DIC. It is less restrictive than AIC/BIC as it doesn't assume a multivariate gaussian posterior. This is the most genreal as it is pointwise calcs and doesn't assume a multivariate gaussian"
   ]
  },
  {
   "cell_type": "markdown",
   "metadata": {},
   "source": [
    "### 6M2"
   ]
  },
  {
   "cell_type": "markdown",
   "metadata": {},
   "source": [
    "Model Selection - We are trying to answer the question of what model will provide us the best generalizaion on out of sample data. When we attempt to answer this we need a way to estimate what out of sample\n",
    "performance will be. In this case we use AIC/DIC/WAIC as an estimate of the average deviance on the new sample. These different information criterion helps us select the most plausiable model. When we choose one model and throw away the others we are, potentially, throwing away important differences between the models. As in one model may be more accurate in one area of the data while another, while different, may be better in a different portion of the data.(195)\n",
    "\n",
    "Model Average - When choosing a model it's often common practice to select the lowest AIC/DIC/WAIC value and discard the others. This can be an issue as we a losing potential information when we discard the others. This is more apparent when there are small differences between model selection values. Therefore, it's important to average (ensemble) different posterior predictions (203). This guards us against being overconfident in one model as a predictor will never be more influential as it is in a single model (204). The book states, \"Just as relative posterior probability provides advice about how confident we meight be about parameters (conditional on the model), relative model accuracy provides advice about how confident we might be about models.\" This is another way we can help guard against overconfidence in model structure. Model averaging doesn't necessarily lose information. We're blending predicitions together. At times this can make a small difference and other times it can make a large difference which could lead to data dredging (205)\n",
    "\n"
   ]
  },
  {
   "cell_type": "markdown",
   "metadata": {},
   "source": [
    "### 6M3"
   ]
  },
  {
   "cell_type": "markdown",
   "metadata": {},
   "source": [
    "Since DIC(190) and WAIC(192) sum over all i's it's neccessary to only use the same number of observations as a way to compare models. Using different observations across the model selection metrics will output different DIC, WAIC numbers and ultimatley skew the model selection process\n"
   ]
  },
  {
   "cell_type": "code",
   "execution_count": 15,
   "metadata": {},
   "outputs": [],
   "source": [
    "# Example\n",
    "d = pd.read_csv('.\\data\\WaffleDivorce.csv', sep = ';')\n",
    "d.columns = d.columns.str.lower()\n",
    "d['mam_s'] = (d.medianagemarriage - d.medianagemarriage.mean()) / d.medianagemarriage.std()\n",
    "d['marr_s'] = (d.marriage - d.marriage.mean()) / d.marriage.std()\n",
    "indx_300 = np.random.choice(np.arange(0,len(d)),size = 300, replace=True)\n",
    "indx_400 = np.random.choice(np.arange(0,len(d)),size = 300, replace=True)\n",
    "d3 = d.iloc[indx_300,:]\n",
    "d4 = d.iloc[indx_400,:]"
   ]
  },
  {
   "cell_type": "code",
   "execution_count": 16,
   "metadata": {},
   "outputs": [
    {
     "name": "stderr",
     "output_type": "stream",
     "text": [
      "Auto-assigning NUTS sampler...\n",
      "Initializing NUTS using jitter+adapt_diag...\n",
      "Multiprocess sampling (4 chains in 4 jobs)\n",
      "NUTS: [sigma, beta_marrs, beta_mams, alpha]\n",
      "Sampling 4 chains: 100%|██████████████████████████████████████████████████████| 8000/8000 [00:07<00:00, 1076.91draws/s]\n",
      "Auto-assigning NUTS sampler...\n",
      "Initializing NUTS using jitter+adapt_diag...\n",
      "Multiprocess sampling (4 chains in 4 jobs)\n",
      "NUTS: [sigma, beta_marrs, beta_mams, alpha]\n",
      "Sampling 4 chains: 100%|██████████████████████████████████████████████████████| 8000/8000 [00:07<00:00, 1073.18draws/s]\n"
     ]
    }
   ],
   "source": [
    "with pm.Model() as m6m3a:\n",
    "    alpha = pm.Normal('alpha', mu =0, sigma = 10)\n",
    "    beta1 =  pm.Normal('beta_mams', mu = 0, sigma = 1)\n",
    "    beta2 =  pm.Normal('beta_marrs', mu = 0, sigma = 1)\n",
    "    sigma = pm.Uniform('sigma', lower = 0, upper =10)\n",
    "    mu = pm.Deterministic('mu', alpha + beta1*d3.mam_s.values + beta2*d3.marr_s.values)\n",
    "    divorce = pm.Normal('divorce', mu = mu, sigma = sigma, observed = d3.divorce.values)\n",
    "    tracem63ma = pm.sample(draws=1000, tune = 1000)\n",
    "    \n",
    "with pm.Model() as m6m3b:\n",
    "    alpha = pm.Normal('alpha', mu =0, sigma = 10)\n",
    "    beta1 =  pm.Normal('beta_mams', mu = 0, sigma = 1)\n",
    "    beta2 =  pm.Normal('beta_marrs', mu = 0, sigma = 1)\n",
    "    sigma = pm.Uniform('sigma', lower = 0, upper =10)\n",
    "    mu = pm.Deterministic('mu', alpha + beta1*d4.mam_s.values + beta2*d4.marr_s.values)\n",
    "    divorce = pm.Normal('divorce', mu = mu, sigma = sigma, observed = d4.divorce.values)\n",
    "    tracem63mb = pm.sample(draws=1000, tune = 1000)"
   ]
  },
  {
   "cell_type": "code",
   "execution_count": 21,
   "metadata": {},
   "outputs": [
    {
     "name": "stderr",
     "output_type": "stream",
     "text": [
      "C:\\Users\\JOSH\\Anaconda3\\lib\\site-packages\\pymc3\\stats.py:168: FutureWarning: arrays to stack must be passed as a \"sequence\" type such as list or tuple. Support for non-sequence iterables such as generators is deprecated as of NumPy 1.16 and will raise an error in the future.\n",
      "  return np.stack(logp)\n"
     ]
    },
    {
     "name": "stdout",
     "output_type": "stream",
     "text": [
      "WAIC_r(WAIC=1105.9664364564965, WAIC_se=28.81727052987504, p_WAIC=5.5823235534710225, var_warn=0)\n"
     ]
    },
    {
     "name": "stderr",
     "output_type": "stream",
     "text": [
      "C:\\Users\\JOSH\\Anaconda3\\lib\\site-packages\\pymc3\\stats.py:219: UserWarning: For one or more samples the posterior variance of the\n",
      "        log predictive densities exceeds 0.4. This could be indication of\n",
      "        WAIC starting to fail see http://arxiv.org/abs/1507.04544 for details\n",
      "        \n",
      "  \"\"\")\n"
     ]
    },
    {
     "name": "stdout",
     "output_type": "stream",
     "text": [
      "WAIC_r(WAIC=1045.3640541171178, WAIC_se=32.88197026559761, p_WAIC=5.794262003939729, var_warn=1)\n"
     ]
    }
   ],
   "source": [
    "print(pm.waic(tracem63ma, m6m3a))\n",
    "print(pm.waic(tracem63mb, m6m3b))\n"
   ]
  },
  {
   "cell_type": "markdown",
   "metadata": {},
   "source": [
    "### 6M4"
   ]
  },
  {
   "cell_type": "markdown",
   "metadata": {},
   "source": [
    "The effective nmber of parameters decrease because the parameters are regularized. This means the parameters are more skeptical about parameter values outside of our sigma. This is meant to make the model less flexible. "
   ]
  },
  {
   "cell_type": "code",
   "execution_count": 25,
   "metadata": {},
   "outputs": [
    {
     "name": "stderr",
     "output_type": "stream",
     "text": [
      "Auto-assigning NUTS sampler...\n",
      "Initializing NUTS using jitter+adapt_diag...\n",
      "Multiprocess sampling (4 chains in 4 jobs)\n",
      "NUTS: [sigma, beta_marrs, beta_mams, alpha]\n",
      "Sampling 4 chains: 100%|██████████████████████████████████████████████████████| 8000/8000 [00:07<00:00, 1105.48draws/s]\n",
      "Auto-assigning NUTS sampler...\n",
      "Initializing NUTS using jitter+adapt_diag...\n",
      "Multiprocess sampling (4 chains in 4 jobs)\n",
      "NUTS: [sigma, beta_marrs, beta_mams, alpha]\n",
      "Sampling 4 chains: 100%|██████████████████████████████████████████████████████| 8000/8000 [00:07<00:00, 1137.54draws/s]\n"
     ]
    }
   ],
   "source": [
    "with pm.Model() as m6m3c:\n",
    "    alpha = pm.Normal('alpha', mu =0, sigma = 10)\n",
    "    beta1 =  pm.Normal('beta_mams', mu = 0, sigma = 20)\n",
    "    beta2 =  pm.Normal('beta_marrs', mu = 0, sigma = 20)\n",
    "    sigma = pm.Uniform('sigma', lower = 0, upper =10)\n",
    "    mu = pm.Deterministic('mu', alpha + beta1*d3.mam_s.values + beta2*d3.marr_s.values)\n",
    "    divorce = pm.Normal('divorce', mu = mu, sigma = sigma, observed = d3.divorce.values)\n",
    "    tracem63mc = pm.sample(draws=1000, tune = 1000)\n",
    "    \n",
    "with pm.Model() as m6m3d:\n",
    "    alpha = pm.Normal('alpha', mu =0, sigma = 10)\n",
    "    beta1 =  pm.Normal('beta_mams', mu = 0, sigma = .1)\n",
    "    beta2 =  pm.Normal('beta_marrs', mu = 0, sigma = .1)\n",
    "    sigma = pm.Uniform('sigma', lower = 0, upper =10)\n",
    "    mu = pm.Deterministic('mu', alpha + beta1*d3.mam_s.values + beta2*d3.marr_s.values)\n",
    "    divorce = pm.Normal('divorce', mu = mu, sigma = sigma, observed = d3.divorce.values)\n",
    "    tracem63md = pm.sample(draws=1000, tune = 1000)"
   ]
  },
  {
   "cell_type": "code",
   "execution_count": 28,
   "metadata": {},
   "outputs": [
    {
     "name": "stderr",
     "output_type": "stream",
     "text": [
      "C:\\Users\\JOSH\\Anaconda3\\lib\\site-packages\\pymc3\\stats.py:168: FutureWarning: arrays to stack must be passed as a \"sequence\" type such as list or tuple. Support for non-sequence iterables such as generators is deprecated as of NumPy 1.16 and will raise an error in the future.\n",
      "  return np.stack(logp)\n"
     ]
    },
    {
     "name": "stdout",
     "output_type": "stream",
     "text": [
      "WAIC_r(WAIC=1106.5176375136439, WAIC_se=28.899467359686074, p_WAIC=5.925392625373145, var_warn=0)\n",
      "WAIC_r(WAIC=1127.7438401008749, WAIC_se=22.7351995090254, p_WAIC=3.71089442988643, var_warn=0)\n"
     ]
    }
   ],
   "source": [
    "print(pm.waic(tracem63mc, m6m3c), flush = True)\n",
    "print(pm.waic(tracem63md, m6m3d), flush = True)\n"
   ]
  },
  {
   "cell_type": "markdown",
   "metadata": {},
   "source": [
    "### 6M5"
   ]
  },
  {
   "cell_type": "markdown",
   "metadata": {},
   "source": [
    "informative priors reduce overfitting because it's telling the machine before even seeing the data be very skeptical of parameter values outside of our sigma values. "
   ]
  },
  {
   "cell_type": "markdown",
   "metadata": {},
   "source": [
    "### 6M6"
   ]
  },
  {
   "cell_type": "markdown",
   "metadata": {},
   "source": [
    "Overly informative priors can result in underfitting as they are too certain about a parameter and may not give a likelihood to other parameters out side of its distribution. They prvent the model from learning from the data (187)"
   ]
  },
  {
   "cell_type": "markdown",
   "metadata": {},
   "source": [
    "## Hard\n",
    "\n",
    "### 6H1"
   ]
  },
  {
   "cell_type": "code",
   "execution_count": 144,
   "metadata": {},
   "outputs": [],
   "source": [
    "d = pd.read_csv('./data/Howell1.csv', sep = ';')\n",
    "d['age_s'] = (d.age - d.age.mean()) / d.age.std()\n",
    "np.random.seed(1000)\n",
    "i = np.random.choice(np.arange(0,len(d)),size = int((len(d)/2)))\n",
    "d1 = d.iloc[i,:]\n",
    "d1 = d1.reset_index(drop = True)\n",
    "d2 = d.iloc[~i,:]"
   ]
  },
  {
   "cell_type": "code",
   "execution_count": 49,
   "metadata": {},
   "outputs": [
    {
     "name": "stderr",
     "output_type": "stream",
     "text": [
      "Auto-assigning NUTS sampler...\n",
      "Initializing NUTS using jitter+adapt_diag...\n",
      "Multiprocess sampling (4 chains in 4 jobs)\n",
      "NUTS: [sigma, b_age2, alpha]\n",
      "Sampling 4 chains: 100%|██████████████████████████████████████████████████████| 8000/8000 [00:07<00:00, 1094.73draws/s]\n",
      "The acceptance probability does not match the target. It is 0.9320828689487796, but should be close to 0.8. Try to increase the number of tuning steps.\n",
      "Auto-assigning NUTS sampler...\n",
      "Initializing NUTS using jitter+adapt_diag...\n",
      "Multiprocess sampling (4 chains in 4 jobs)\n",
      "NUTS: [sigma, b_age2, b_age, alpha]\n",
      "Sampling 4 chains: 100%|██████████████████████████████████████████████████████| 8000/8000 [00:07<00:00, 1070.89draws/s]\n",
      "Auto-assigning NUTS sampler...\n",
      "Initializing NUTS using jitter+adapt_diag...\n",
      "Multiprocess sampling (4 chains in 4 jobs)\n",
      "NUTS: [sigma, b_age3, b_age2, b_age, alpha]\n",
      "Sampling 4 chains: 100%|███████████████████████████████████████████████████████| 8000/8000 [00:16<00:00, 496.05draws/s]\n",
      "Auto-assigning NUTS sampler...\n",
      "Initializing NUTS using jitter+adapt_diag...\n",
      "Multiprocess sampling (4 chains in 4 jobs)\n",
      "NUTS: [sigma, b_age4, b_age3, b_age2, b_age, alpha]\n",
      "Sampling 4 chains: 100%|███████████████████████████████████████████████████████| 8000/8000 [00:17<00:00, 447.06draws/s]\n",
      "Auto-assigning NUTS sampler...\n",
      "Initializing NUTS using jitter+adapt_diag...\n",
      "Multiprocess sampling (4 chains in 4 jobs)\n",
      "NUTS: [sigma, b_age5, b_age4, b_age3, b_age2, b_age, alpha]\n",
      "Sampling 4 chains: 100%|███████████████████████████████████████████████████████| 8000/8000 [00:43<00:00, 184.24draws/s]\n",
      "Auto-assigning NUTS sampler...\n",
      "Initializing NUTS using jitter+adapt_diag...\n",
      "Multiprocess sampling (4 chains in 4 jobs)\n",
      "NUTS: [sigma, b_age6, b_age5, b_age4, b_age3, b_age2, b_age, alpha]\n",
      "Sampling 4 chains: 100%|████████████████████████████████████████████████████████| 8000/8000 [01:36<00:00, 82.53draws/s]\n"
     ]
    }
   ],
   "source": [
    "with pm.Model() as m6h1a:\n",
    "    alpha = pm.Normal('alpha', mu =0, sigma = 20)\n",
    "    beta =  pm.Normal('b_age2', mu = 0, sigma = 20)\n",
    "    sigma = pm.Uniform('sigma', lower = 0, upper =20)\n",
    "    mu = pm.Deterministic('mu', alpha + beta*d1.age_s.values)\n",
    "    divorce = pm.Normal('height', mu = mu, sigma = sigma, observed = d1.height.values)\n",
    "    t61a = pm.sample(draws=1000, tune = 1000)\n",
    "    \n",
    "with pm.Model() as m6h1b:\n",
    "    alpha = pm.Normal('alpha', mu =0, sigma = 20)\n",
    "    beta =  pm.Normal('b_age', mu = 0, sigma = 20)\n",
    "    beta2 =  pm.Normal('b_age2', mu = 0, sigma = 20)\n",
    "    sigma = pm.Uniform('sigma', lower = 0, upper =20)\n",
    "    mu = pm.Deterministic('mu', alpha + beta*d1.age_s.values + beta2*d1.age_s.values**2)\n",
    "    divorce = pm.Normal('height', mu = mu, sigma = sigma, observed = d1.height.values)\n",
    "    t61b = pm.sample(draws=1000, tune = 1000)\n",
    "    \n",
    "with pm.Model() as m6h1c:\n",
    "    alpha = pm.Normal('alpha', mu =0, sigma = 20)\n",
    "    beta =  pm.Normal('b_age', mu = 0, sigma = 20)\n",
    "    beta2 =  pm.Normal('b_age2', mu = 0, sigma = 20)\n",
    "    beta3 =  pm.Normal('b_age3', mu = 0, sigma = 20)\n",
    "    sigma = pm.Uniform('sigma', lower = 0, upper =20)\n",
    "    mu = pm.Deterministic('mu', alpha + beta*d1.age_s.values + beta2*d1.age_s.values**2 + beta3*d1.age_s.values**3)\n",
    "    divorce = pm.Normal('height', mu = mu, sigma = sigma, observed = d1.height.values)\n",
    "    t61c = pm.sample(draws=1000, tune = 1000)\n",
    "\n",
    "with pm.Model() as m6h1d:\n",
    "    alpha = pm.Normal('alpha', mu =0, sigma = 20)\n",
    "    beta =  pm.Normal('b_age', mu = 0, sigma = 20)\n",
    "    beta2 =  pm.Normal('b_age2', mu = 0, sigma = 20)\n",
    "    beta3 =  pm.Normal('b_age3', mu = 0, sigma = 20)\n",
    "    beta4 =  pm.Normal('b_age4', mu = 0, sigma = 20)\n",
    "    sigma = pm.Uniform('sigma', lower = 0, upper =20)\n",
    "    mu = pm.Deterministic('mu', alpha + beta*d1.age_s.values + beta2*d1.age_s.values**2 + beta3*d1.age_s.values**3 + beta4*d1.age_s.values**4)\n",
    "    divorce = pm.Normal('height', mu = mu, sigma = sigma, observed = d1.height.values)\n",
    "    t61d = pm.sample(draws=1000, tune = 1000)\n",
    "\n",
    "with pm.Model() as m6h1e:\n",
    "    alpha = pm.Normal('alpha', mu =0, sigma = 20)\n",
    "    beta =  pm.Normal('b_age', mu = 0, sigma = 20)\n",
    "    beta2 =  pm.Normal('b_age2', mu = 0, sigma = 20)\n",
    "    beta3 =  pm.Normal('b_age3', mu = 0, sigma = 20)\n",
    "    beta4 =  pm.Normal('b_age4', mu = 0, sigma = 20)\n",
    "    beta5 =  pm.Normal('b_age5', mu = 0, sigma = 20)\n",
    "    sigma = pm.Uniform('sigma', lower = 0, upper = 20)\n",
    "    mu = pm.Deterministic('mu', alpha + beta*d1.age_s.values + beta2*d1.age_s.values**2 + beta3*d1.age_s.values**3 + beta4*d1.age_s.values**4 + beta5*d1.age_s.values**5)\n",
    "    divorce = pm.Normal('height', mu = mu, sigma = sigma, observed = d1.height.values)\n",
    "    t61e = pm.sample(draws=1000, tune = 1000)\n",
    "    \n",
    "\n",
    "with pm.Model() as m6h1f:\n",
    "    alpha = pm.Normal('alpha', mu =0, sigma = 20)\n",
    "    beta =  pm.Normal('b_age', mu = 0, sigma = 20)\n",
    "    beta2 =  pm.Normal('b_age2', mu = 0, sigma = 20)\n",
    "    beta3 =  pm.Normal('b_age3', mu = 0, sigma = 20)\n",
    "    beta4 =  pm.Normal('b_age4', mu = 0, sigma = 20)\n",
    "    beta5 =  pm.Normal('b_age5', mu = 0, sigma = 20)\n",
    "    beta6 =  pm.Normal('b_age6', mu = 0, sigma = 20)\n",
    "    sigma = pm.Uniform('sigma', lower = 0, upper = 20)\n",
    "    mu = pm.Deterministic('mu', alpha + beta*d1.age_s.values + beta2*d1.age_s.values**2 + beta3*d1.age_s.values**3 + beta4*d1.age_s.values**4 + beta5*d1.age_s.values**5 + beta6*d1.age_s.values**6)\n",
    "    divorce = pm.Normal('height', mu = mu, sigma = sigma, observed = d1.height.values)\n",
    "    t61f = pm.sample(draws=1000, tune = 1000)"
   ]
  },
  {
   "cell_type": "code",
   "execution_count": 55,
   "metadata": {},
   "outputs": [
    {
     "name": "stderr",
     "output_type": "stream",
     "text": [
      "C:\\Users\\JOSH\\Anaconda3\\lib\\site-packages\\pymc3\\stats.py:168: FutureWarning: arrays to stack must be passed as a \"sequence\" type such as list or tuple. Support for non-sequence iterables such as generators is deprecated as of NumPy 1.16 and will raise an error in the future.\n",
      "  return np.stack(logp)\n",
      "C:\\Users\\JOSH\\Anaconda3\\lib\\site-packages\\pymc3\\stats.py:219: UserWarning: For one or more samples the posterior variance of the\n",
      "        log predictive densities exceeds 0.4. This could be indication of\n",
      "        WAIC starting to fail see http://arxiv.org/abs/1507.04544 for details\n",
      "        \n",
      "  \"\"\")\n"
     ]
    }
   ],
   "source": [
    "m6h1a.name = 'normal'\n",
    "m6h1b.name = 'two'\n",
    "m6h1c.name = 'three'\n",
    "m6h1d.name = 'four'\n",
    "m6h1e.name = 'five'\n",
    "m6h1f.name = 'six'\n",
    "df_comp_WAIC = pm.compare({m6h1a: t61a,\n",
    "                           m6h1b: t61b,\n",
    "                           m6h1c: t61c,\n",
    "                           m6h1d: t61d, \n",
    "                           m6h1e: t61e,\n",
    "                           m6h1f: t61f})\n"
   ]
  },
  {
   "cell_type": "code",
   "execution_count": 56,
   "metadata": {},
   "outputs": [
    {
     "data": {
      "text/html": [
       "<div>\n",
       "<style scoped>\n",
       "    .dataframe tbody tr th:only-of-type {\n",
       "        vertical-align: middle;\n",
       "    }\n",
       "\n",
       "    .dataframe tbody tr th {\n",
       "        vertical-align: top;\n",
       "    }\n",
       "\n",
       "    .dataframe thead th {\n",
       "        text-align: right;\n",
       "    }\n",
       "</style>\n",
       "<table border=\"1\" class=\"dataframe\">\n",
       "  <thead>\n",
       "    <tr style=\"text-align: right;\">\n",
       "      <th></th>\n",
       "      <th>WAIC</th>\n",
       "      <th>pWAIC</th>\n",
       "      <th>dWAIC</th>\n",
       "      <th>weight</th>\n",
       "      <th>SE</th>\n",
       "      <th>dSE</th>\n",
       "      <th>var_warn</th>\n",
       "    </tr>\n",
       "  </thead>\n",
       "  <tbody>\n",
       "    <tr>\n",
       "      <th>six</th>\n",
       "      <td>1878.76</td>\n",
       "      <td>7.41</td>\n",
       "      <td>0</td>\n",
       "      <td>0.78</td>\n",
       "      <td>21.9</td>\n",
       "      <td>0</td>\n",
       "      <td>0</td>\n",
       "    </tr>\n",
       "    <tr>\n",
       "      <th>four</th>\n",
       "      <td>1882.76</td>\n",
       "      <td>5.14</td>\n",
       "      <td>4.01</td>\n",
       "      <td>0.18</td>\n",
       "      <td>22.93</td>\n",
       "      <td>5.37</td>\n",
       "      <td>0</td>\n",
       "    </tr>\n",
       "    <tr>\n",
       "      <th>five</th>\n",
       "      <td>1885</td>\n",
       "      <td>6.15</td>\n",
       "      <td>6.25</td>\n",
       "      <td>0</td>\n",
       "      <td>22.86</td>\n",
       "      <td>5.3</td>\n",
       "      <td>0</td>\n",
       "    </tr>\n",
       "    <tr>\n",
       "      <th>three</th>\n",
       "      <td>1913.01</td>\n",
       "      <td>6.18</td>\n",
       "      <td>34.25</td>\n",
       "      <td>0.03</td>\n",
       "      <td>22.23</td>\n",
       "      <td>12.79</td>\n",
       "      <td>1</td>\n",
       "    </tr>\n",
       "    <tr>\n",
       "      <th>two</th>\n",
       "      <td>2138.56</td>\n",
       "      <td>6.57</td>\n",
       "      <td>259.8</td>\n",
       "      <td>0</td>\n",
       "      <td>26.18</td>\n",
       "      <td>29.68</td>\n",
       "      <td>1</td>\n",
       "    </tr>\n",
       "    <tr>\n",
       "      <th>normal</th>\n",
       "      <td>2412.76</td>\n",
       "      <td>2.71</td>\n",
       "      <td>534</td>\n",
       "      <td>0</td>\n",
       "      <td>19.54</td>\n",
       "      <td>26.42</td>\n",
       "      <td>0</td>\n",
       "    </tr>\n",
       "  </tbody>\n",
       "</table>\n",
       "</div>"
      ],
      "text/plain": [
       "           WAIC pWAIC  dWAIC weight     SE    dSE var_warn\n",
       "six     1878.76  7.41      0   0.78   21.9      0        0\n",
       "four    1882.76  5.14   4.01   0.18  22.93   5.37        0\n",
       "five       1885  6.15   6.25      0  22.86    5.3        0\n",
       "three   1913.01  6.18  34.25   0.03  22.23  12.79        1\n",
       "two     2138.56  6.57  259.8      0  26.18  29.68        1\n",
       "normal  2412.76  2.71    534      0  19.54  26.42        0"
      ]
     },
     "execution_count": 56,
     "metadata": {},
     "output_type": "execute_result"
    }
   ],
   "source": [
    "df_comp_WAIC.sort_values(by = 'WAIC',ascending = True)"
   ]
  },
  {
   "cell_type": "markdown",
   "metadata": {},
   "source": [
    "USing the WAIC value models six, four, & five have the lowest WAIC. Looking at the weights, models six, four and three had akaike weights > 0. As a reminder weights can be read heuristically as an estimated probability that each model will perform best on future data. It's rather interesting that while model three has a higher WAIC than model five it has more akaike weight than five. My hypothesis here is derived from model 5 being overfit to the model, potentially due to relatively weak priors."
   ]
  },
  {
   "cell_type": "markdown",
   "metadata": {},
   "source": [
    "## 6H2"
   ]
  },
  {
   "cell_type": "code",
   "execution_count": 151,
   "metadata": {},
   "outputs": [
    {
     "data": {
      "image/png": "[encoded data removed]",
      "text/plain": [
       "<Figure size 432x288 with 1 Axes>"
      ]
     },
     "metadata": {},
     "output_type": "display_data"
    }
   ],
   "source": [
    "idx = d1.height.sort_values()\n",
    "plt.plot(d1.height.sort_values(), t61a['mu'].T.mean(1))\n",
    "plt.show()"
   ]
  },
  {
   "cell_type": "code",
   "execution_count": 145,
   "metadata": {},
   "outputs": [
    {
     "data": {
      "text/html": [
       "<div>\n",
       "<style scoped>\n",
       "    .dataframe tbody tr th:only-of-type {\n",
       "        vertical-align: middle;\n",
       "    }\n",
       "\n",
       "    .dataframe tbody tr th {\n",
       "        vertical-align: top;\n",
       "    }\n",
       "\n",
       "    .dataframe thead th {\n",
       "        text-align: right;\n",
       "    }\n",
       "</style>\n",
       "<table border=\"1\" class=\"dataframe\">\n",
       "  <thead>\n",
       "    <tr style=\"text-align: right;\">\n",
       "      <th></th>\n",
       "      <th>height</th>\n",
       "      <th>weight</th>\n",
       "      <th>age</th>\n",
       "      <th>male</th>\n",
       "      <th>age_s</th>\n",
       "    </tr>\n",
       "  </thead>\n",
       "  <tbody>\n",
       "    <tr>\n",
       "      <th>0</th>\n",
       "      <td>160.9852</td>\n",
       "      <td>46.691626</td>\n",
       "      <td>51.0</td>\n",
       "      <td>1</td>\n",
       "      <td>1.0438</td>\n",
       "    </tr>\n",
       "    <tr>\n",
       "      <th>1</th>\n",
       "      <td>129.5400</td>\n",
       "      <td>25.627948</td>\n",
       "      <td>14.0</td>\n",
       "      <td>0</td>\n",
       "      <td>-0.7396</td>\n",
       "    </tr>\n",
       "    <tr>\n",
       "      <th>2</th>\n",
       "      <td>163.8300</td>\n",
       "      <td>47.910655</td>\n",
       "      <td>57.0</td>\n",
       "      <td>1</td>\n",
       "      <td>1.3330</td>\n",
       "    </tr>\n",
       "    <tr>\n",
       "      <th>3</th>\n",
       "      <td>157.4800</td>\n",
       "      <td>45.869491</td>\n",
       "      <td>41.0</td>\n",
       "      <td>1</td>\n",
       "      <td>0.5618</td>\n",
       "    </tr>\n",
       "    <tr>\n",
       "      <th>4</th>\n",
       "      <td>93.3450</td>\n",
       "      <td>13.182517</td>\n",
       "      <td>5.0</td>\n",
       "      <td>1</td>\n",
       "      <td>-1.1734</td>\n",
       "    </tr>\n",
       "  </tbody>\n",
       "</table>\n",
       "</div>"
      ],
      "text/plain": [
       "     height     weight   age  male   age_s\n",
       "0  160.9852  46.691626  51.0     1  1.0438\n",
       "1  129.5400  25.627948  14.0     0 -0.7396\n",
       "2  163.8300  47.910655  57.0     1  1.3330\n",
       "3  157.4800  45.869491  41.0     1  0.5618\n",
       "4   93.3450  13.182517   5.0     1 -1.1734"
      ]
     },
     "execution_count": 145,
     "metadata": {},
     "output_type": "execute_result"
    }
   ],
   "source": []
  },
  {
   "cell_type": "code",
   "execution_count": null,
   "metadata": {},
   "outputs": [],
   "source": []
  }
 ],
 "metadata": {
  "kernelspec": {
   "display_name": "Python 3",
   "language": "python",
   "name": "python3"
  },
  "language_info": {
   "codemirror_mode": {
    "name": "ipython",
    "version": 3
   },
   "file_extension": ".py",
   "mimetype": "text/x-python",
   "name": "python",
   "nbconvert_exporter": "python",
   "pygments_lexer": "ipython3",
   "version": "3.6.5"
  }
 },
 "nbformat": 4,
 "nbformat_minor": 4
}
