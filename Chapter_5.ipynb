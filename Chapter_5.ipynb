{
 "cells": [
  {
   "cell_type": "code",
   "execution_count": 1,
   "metadata": {},
   "outputs": [],
   "source": [
    "import numpy as np\n",
    "import pandas as pd\n",
    "from scipy import stats\n",
    "import matplotlib.pyplot as plt\n",
    "import seaborn as sns\n",
    "import arviz as az\n",
    "from collections import Counter\n",
    "from scipy.interpolate import griddata\n",
    "import pymc3 as pm\n",
    "import theano as tt\n",
    "\n",
    "sns.set()"
   ]
  },
  {
   "cell_type": "code",
   "execution_count": 2,
   "metadata": {},
   "outputs": [],
   "source": [
    "# Functions\n",
    "def sort_vals(vals, ascending = True):\n",
    "    \"\"\"sorts valus from high to low\n",
    "    returns:\n",
    "    idx - values in ascending or descending order\n",
    "    \"\"\"\n",
    "    if ascending:\n",
    "        idx = np.argsort(-vals)\n",
    "    else:\n",
    "        idx = np.argsort(vals)\n",
    "    return idx\n"
   ]
  },
  {
   "cell_type": "markdown",
   "metadata": {},
   "source": [
    " # Chapter 5\n",
    " ### Cde 5.1"
   ]
  },
  {
   "cell_type": "code",
   "execution_count": 3,
   "metadata": {},
   "outputs": [
    {
     "data": {
      "text/html": [
       "<div>\n",
       "<style scoped>\n",
       "    .dataframe tbody tr th:only-of-type {\n",
       "        vertical-align: middle;\n",
       "    }\n",
       "\n",
       "    .dataframe tbody tr th {\n",
       "        vertical-align: top;\n",
       "    }\n",
       "\n",
       "    .dataframe thead th {\n",
       "        text-align: right;\n",
       "    }\n",
       "</style>\n",
       "<table border=\"1\" class=\"dataframe\">\n",
       "  <thead>\n",
       "    <tr style=\"text-align: right;\">\n",
       "      <th></th>\n",
       "      <th>location</th>\n",
       "      <th>loc</th>\n",
       "      <th>population</th>\n",
       "      <th>medianagemarriage</th>\n",
       "      <th>marriage</th>\n",
       "      <th>marriage se</th>\n",
       "      <th>divorce</th>\n",
       "      <th>divorce se</th>\n",
       "      <th>wafflehouses</th>\n",
       "      <th>south</th>\n",
       "      <th>slaves1860</th>\n",
       "      <th>population1860</th>\n",
       "      <th>propslaves1860</th>\n",
       "    </tr>\n",
       "  </thead>\n",
       "  <tbody>\n",
       "    <tr>\n",
       "      <th>0</th>\n",
       "      <td>Alabama</td>\n",
       "      <td>AL</td>\n",
       "      <td>4.78</td>\n",
       "      <td>25.3</td>\n",
       "      <td>20.2</td>\n",
       "      <td>1.27</td>\n",
       "      <td>12.7</td>\n",
       "      <td>0.79</td>\n",
       "      <td>128</td>\n",
       "      <td>1</td>\n",
       "      <td>435080</td>\n",
       "      <td>964201</td>\n",
       "      <td>0.45</td>\n",
       "    </tr>\n",
       "    <tr>\n",
       "      <th>1</th>\n",
       "      <td>Alaska</td>\n",
       "      <td>AK</td>\n",
       "      <td>0.71</td>\n",
       "      <td>25.2</td>\n",
       "      <td>26.0</td>\n",
       "      <td>2.93</td>\n",
       "      <td>12.5</td>\n",
       "      <td>2.05</td>\n",
       "      <td>0</td>\n",
       "      <td>0</td>\n",
       "      <td>0</td>\n",
       "      <td>0</td>\n",
       "      <td>0.00</td>\n",
       "    </tr>\n",
       "    <tr>\n",
       "      <th>2</th>\n",
       "      <td>Arizona</td>\n",
       "      <td>AZ</td>\n",
       "      <td>6.33</td>\n",
       "      <td>25.8</td>\n",
       "      <td>20.3</td>\n",
       "      <td>0.98</td>\n",
       "      <td>10.8</td>\n",
       "      <td>0.74</td>\n",
       "      <td>18</td>\n",
       "      <td>0</td>\n",
       "      <td>0</td>\n",
       "      <td>0</td>\n",
       "      <td>0.00</td>\n",
       "    </tr>\n",
       "    <tr>\n",
       "      <th>3</th>\n",
       "      <td>Arkansas</td>\n",
       "      <td>AR</td>\n",
       "      <td>2.92</td>\n",
       "      <td>24.3</td>\n",
       "      <td>26.4</td>\n",
       "      <td>1.70</td>\n",
       "      <td>13.5</td>\n",
       "      <td>1.22</td>\n",
       "      <td>41</td>\n",
       "      <td>1</td>\n",
       "      <td>111115</td>\n",
       "      <td>435450</td>\n",
       "      <td>0.26</td>\n",
       "    </tr>\n",
       "    <tr>\n",
       "      <th>4</th>\n",
       "      <td>California</td>\n",
       "      <td>CA</td>\n",
       "      <td>37.25</td>\n",
       "      <td>26.8</td>\n",
       "      <td>19.1</td>\n",
       "      <td>0.39</td>\n",
       "      <td>8.0</td>\n",
       "      <td>0.24</td>\n",
       "      <td>0</td>\n",
       "      <td>0</td>\n",
       "      <td>0</td>\n",
       "      <td>379994</td>\n",
       "      <td>0.00</td>\n",
       "    </tr>\n",
       "  </tbody>\n",
       "</table>\n",
       "</div>"
      ],
      "text/plain": [
       "     location loc  population  medianagemarriage  marriage  marriage se  \\\n",
       "0     Alabama  AL        4.78               25.3      20.2         1.27   \n",
       "1      Alaska  AK        0.71               25.2      26.0         2.93   \n",
       "2     Arizona  AZ        6.33               25.8      20.3         0.98   \n",
       "3    Arkansas  AR        2.92               24.3      26.4         1.70   \n",
       "4  California  CA       37.25               26.8      19.1         0.39   \n",
       "\n",
       "   divorce  divorce se  wafflehouses  south  slaves1860  population1860  \\\n",
       "0     12.7        0.79           128      1      435080          964201   \n",
       "1     12.5        2.05             0      0           0               0   \n",
       "2     10.8        0.74            18      0           0               0   \n",
       "3     13.5        1.22            41      1      111115          435450   \n",
       "4      8.0        0.24             0      0           0          379994   \n",
       "\n",
       "   propslaves1860  \n",
       "0            0.45  \n",
       "1            0.00  \n",
       "2            0.00  \n",
       "3            0.26  \n",
       "4            0.00  "
      ]
     },
     "execution_count": 3,
     "metadata": {},
     "output_type": "execute_result"
    }
   ],
   "source": [
    "d = pd.read_csv('.\\data\\WaffleDivorce.csv', sep = ';')\n",
    "d.columns = d.columns.str.lower()\n",
    "d.head()"
   ]
  },
  {
   "cell_type": "code",
   "execution_count": 4,
   "metadata": {},
   "outputs": [],
   "source": [
    "d['medianagemarriage_s'] = (d.medianagemarriage - d.medianagemarriage.mean())/ d.medianagemarriage.std()"
   ]
  },
  {
   "cell_type": "code",
   "execution_count": 5,
   "metadata": {},
   "outputs": [
    {
     "name": "stderr",
     "output_type": "stream",
     "text": [
      "Auto-assigning NUTS sampler...\n",
      "Initializing NUTS using jitter+adapt_diag...\n",
      "Multiprocess sampling (4 chains in 4 jobs)\n",
      "NUTS: [sigma, beta, alpha]\n",
      "Sampling 4 chains: 100%|██████████████████████████████████████████████████████| 8000/8000 [00:04<00:00, 1610.35draws/s]\n"
     ]
    }
   ],
   "source": [
    "shared_x = tt.shared(d.medianagemarriage_s.values)\n",
    "shared_y = tt.shared(d.divorce.values)\n",
    "with pm.Model() as m51:\n",
    "    alpha = pm.Normal('alpha', mu = 10, sigma = 10)\n",
    "    beta = pm.Normal('beta', mu = 0, sigma = 1)\n",
    "    mu = pm.Deterministic('mu', alpha + beta*shared_x)\n",
    "    sigma = pm.Uniform('sigma', lower = 0, upper = 10)\n",
    "    divorce = pm.Normal('divorce',mu = mu, sigma = sigma, observed = shared_y)\n",
    "    trace51 = pm.sample(draws = 1000,tune = 1000)"
   ]
  },
  {
   "cell_type": "code",
   "execution_count": 6,
   "metadata": {},
   "outputs": [
    {
     "name": "stderr",
     "output_type": "stream",
     "text": [
      "C:\\Users\\JOSH\\Anaconda3\\lib\\site-packages\\pymc3\\stats.py:991: FutureWarning: The join_axes-keyword is deprecated. Use .reindex or .reindex_like on the result to achieve the same functionality.\n",
      "  axis=1, join_axes=[dforg.index])\n"
     ]
    },
    {
     "data": {
      "text/html": [
       "<div>\n",
       "<style scoped>\n",
       "    .dataframe tbody tr th:only-of-type {\n",
       "        vertical-align: middle;\n",
       "    }\n",
       "\n",
       "    .dataframe tbody tr th {\n",
       "        vertical-align: top;\n",
       "    }\n",
       "\n",
       "    .dataframe thead th {\n",
       "        text-align: right;\n",
       "    }\n",
       "</style>\n",
       "<table border=\"1\" class=\"dataframe\">\n",
       "  <thead>\n",
       "    <tr style=\"text-align: right;\">\n",
       "      <th></th>\n",
       "      <th>mean</th>\n",
       "      <th>sd</th>\n",
       "      <th>mc_error</th>\n",
       "      <th>hpd_2.5</th>\n",
       "      <th>hpd_97.5</th>\n",
       "      <th>n_eff</th>\n",
       "      <th>Rhat</th>\n",
       "    </tr>\n",
       "  </thead>\n",
       "  <tbody>\n",
       "    <tr>\n",
       "      <th>alpha</th>\n",
       "      <td>9.691904</td>\n",
       "      <td>0.212171</td>\n",
       "      <td>0.002945</td>\n",
       "      <td>9.275962</td>\n",
       "      <td>10.104009</td>\n",
       "      <td>5062.317594</td>\n",
       "      <td>0.999828</td>\n",
       "    </tr>\n",
       "    <tr>\n",
       "      <th>beta</th>\n",
       "      <td>-1.035486</td>\n",
       "      <td>0.216371</td>\n",
       "      <td>0.002656</td>\n",
       "      <td>-1.445200</td>\n",
       "      <td>-0.595383</td>\n",
       "      <td>5196.923007</td>\n",
       "      <td>0.999604</td>\n",
       "    </tr>\n",
       "    <tr>\n",
       "      <th>sigma</th>\n",
       "      <td>1.516042</td>\n",
       "      <td>0.161880</td>\n",
       "      <td>0.002319</td>\n",
       "      <td>1.244718</td>\n",
       "      <td>1.850659</td>\n",
       "      <td>4948.113175</td>\n",
       "      <td>1.000296</td>\n",
       "    </tr>\n",
       "  </tbody>\n",
       "</table>\n",
       "</div>"
      ],
      "text/plain": [
       "           mean        sd  mc_error   hpd_2.5   hpd_97.5        n_eff  \\\n",
       "alpha  9.691904  0.212171  0.002945  9.275962  10.104009  5062.317594   \n",
       "beta  -1.035486  0.216371  0.002656 -1.445200  -0.595383  5196.923007   \n",
       "sigma  1.516042  0.161880  0.002319  1.244718   1.850659  4948.113175   \n",
       "\n",
       "           Rhat  \n",
       "alpha  0.999828  \n",
       "beta   0.999604  \n",
       "sigma  1.000296  "
      ]
     },
     "execution_count": 6,
     "metadata": {},
     "output_type": "execute_result"
    }
   ],
   "source": [
    "varnames = ['alpha', 'beta','sigma']\n",
    "pm.summary(trace51, varnames = varnames)"
   ]
  },
  {
   "cell_type": "markdown",
   "metadata": {},
   "source": [
    " ## Code 5.2"
   ]
  },
  {
   "cell_type": "code",
   "execution_count": 7,
   "metadata": {},
   "outputs": [
    {
     "name": "stderr",
     "output_type": "stream",
     "text": [
      "100%|█████████████████████████████████████████████████████████████████████████████| 1000/1000 [00:08<00:00, 112.39it/s]\n"
     ]
    }
   ],
   "source": [
    "new_x_values = np.linspace(-3,3.5,num = 30)\n",
    "shared_x.set_value(new_x_values)\n",
    "shared_y.set_value(np.repeat(0, repeats = len(new_x_values)))\n",
    "with m51:\n",
    "    post_pred = pm.sample_posterior_predictive(trace51,samples = 1000,model=m51)"
   ]
  },
  {
   "cell_type": "code",
   "execution_count": 8,
   "metadata": {},
   "outputs": [],
   "source": [
    "mu_hpd = az.hpd(trace51['mu'], credible_interval=.89)\n",
    "post_pred_hpd = az.hpd(post_pred['divorce'], credible_interval=.89)"
   ]
  },
  {
   "cell_type": "code",
   "execution_count": 9,
   "metadata": {},
   "outputs": [
    {
     "data": {
      "image/png": "[encoded data removed]",
      "text/plain": [
       "<Figure size 720x576 with 1 Axes>"
      ]
     },
     "metadata": {
      "needs_background": "light"
     },
     "output_type": "display_data"
    }
   ],
   "source": [
    "idx = sort_vals(d.medianagemarriage_s)\n",
    "sorted_x_vals = d.medianagemarriage_s[idx]\n",
    "\n",
    "plt.figure(figsize=(10,8))\n",
    "plt.plot(d.medianagemarriage_s.values,d.divorce.values, color = 'blue', marker = '.', linestyle = '')\n",
    "plt.plot(sorted_x_vals, trace51['alpha'].mean() + np.mean(trace51['beta'])*sorted_x_vals, color = 'black', alpha = 1)\n",
    "plt.fill_between(sorted_x_vals, mu_hpd[idx,0], mu_hpd[idx,1], color='black', alpha=0.3)\n",
    "plt.xlabel('Median Age Marriage')\n",
    "plt.ylabel('Divorce')\n",
    "\n",
    "plt.show()"
   ]
  },
  {
   "cell_type": "markdown",
   "metadata": {},
   "source": [
    " ## Code 5.3"
   ]
  },
  {
   "cell_type": "code",
   "execution_count": 10,
   "metadata": {},
   "outputs": [],
   "source": [
    "d['marriage_s'] = (d.marriage - d.marriage.mean())/ d.marriage.std()"
   ]
  },
  {
   "cell_type": "code",
   "execution_count": 11,
   "metadata": {},
   "outputs": [
    {
     "name": "stderr",
     "output_type": "stream",
     "text": [
      "Auto-assigning NUTS sampler...\n",
      "Initializing NUTS using jitter+adapt_diag...\n",
      "Multiprocess sampling (4 chains in 4 jobs)\n",
      "NUTS: [sigma, MAM_beta, alpha]\n",
      "Sampling 4 chains: 100%|██████████████████████████████████████████████████████| 8000/8000 [00:05<00:00, 1409.06draws/s]\n"
     ]
    }
   ],
   "source": [
    "shared_x = tt.shared(d.marriage_s.values)\n",
    "shared_y = tt.shared(d.divorce.values)\n",
    "with pm.Model() as m53:\n",
    "    alpha = pm.Normal('alpha', mu = 10, sigma = 10)\n",
    "    beta = pm.Normal('MAM_beta', mu = 0, sigma = 1)\n",
    "    mu = pm.Deterministic('mu', alpha + beta*shared_x)\n",
    "    sigma = pm.Uniform('sigma', lower = 0, upper = 10)\n",
    "    divorce = pm.Normal('divorce',mu = mu, sigma = sigma, observed = shared_y)\n",
    "    trace53 = pm.sample(draws = 1000,tune = 1000)"
   ]
  },
  {
   "cell_type": "code",
   "execution_count": 12,
   "metadata": {},
   "outputs": [
    {
     "name": "stderr",
     "output_type": "stream",
     "text": [
      "C:\\Users\\JOSH\\Anaconda3\\lib\\site-packages\\pymc3\\stats.py:991: FutureWarning: The join_axes-keyword is deprecated. Use .reindex or .reindex_like on the result to achieve the same functionality.\n",
      "  axis=1, join_axes=[dforg.index])\n"
     ]
    },
    {
     "data": {
      "text/html": [
       "<div>\n",
       "<style scoped>\n",
       "    .dataframe tbody tr th:only-of-type {\n",
       "        vertical-align: middle;\n",
       "    }\n",
       "\n",
       "    .dataframe tbody tr th {\n",
       "        vertical-align: top;\n",
       "    }\n",
       "\n",
       "    .dataframe thead th {\n",
       "        text-align: right;\n",
       "    }\n",
       "</style>\n",
       "<table border=\"1\" class=\"dataframe\">\n",
       "  <thead>\n",
       "    <tr style=\"text-align: right;\">\n",
       "      <th></th>\n",
       "      <th>mean</th>\n",
       "      <th>sd</th>\n",
       "      <th>mc_error</th>\n",
       "      <th>hpd_2.5</th>\n",
       "      <th>hpd_97.5</th>\n",
       "      <th>n_eff</th>\n",
       "      <th>Rhat</th>\n",
       "    </tr>\n",
       "  </thead>\n",
       "  <tbody>\n",
       "    <tr>\n",
       "      <th>alpha</th>\n",
       "      <td>9.690134</td>\n",
       "      <td>0.249159</td>\n",
       "      <td>0.003316</td>\n",
       "      <td>9.172913</td>\n",
       "      <td>10.153547</td>\n",
       "      <td>4961.057940</td>\n",
       "      <td>0.999687</td>\n",
       "    </tr>\n",
       "    <tr>\n",
       "      <th>MAM_beta</th>\n",
       "      <td>0.639008</td>\n",
       "      <td>0.239420</td>\n",
       "      <td>0.003147</td>\n",
       "      <td>0.171727</td>\n",
       "      <td>1.110376</td>\n",
       "      <td>5515.663672</td>\n",
       "      <td>0.999808</td>\n",
       "    </tr>\n",
       "    <tr>\n",
       "      <th>sigma</th>\n",
       "      <td>1.751520</td>\n",
       "      <td>0.189069</td>\n",
       "      <td>0.002781</td>\n",
       "      <td>1.417246</td>\n",
       "      <td>2.156498</td>\n",
       "      <td>4228.878830</td>\n",
       "      <td>0.999924</td>\n",
       "    </tr>\n",
       "  </tbody>\n",
       "</table>\n",
       "</div>"
      ],
      "text/plain": [
       "              mean        sd  mc_error   hpd_2.5   hpd_97.5        n_eff  \\\n",
       "alpha     9.690134  0.249159  0.003316  9.172913  10.153547  4961.057940   \n",
       "MAM_beta  0.639008  0.239420  0.003147  0.171727   1.110376  5515.663672   \n",
       "sigma     1.751520  0.189069  0.002781  1.417246   2.156498  4228.878830   \n",
       "\n",
       "              Rhat  \n",
       "alpha     0.999687  \n",
       "MAM_beta  0.999808  \n",
       "sigma     0.999924  "
      ]
     },
     "execution_count": 12,
     "metadata": {},
     "output_type": "execute_result"
    }
   ],
   "source": [
    "varnames_53 = ['alpha', 'MAM_beta','sigma']\n",
    "pm.summary(trace53, varnames = varnames_53)"
   ]
  },
  {
   "cell_type": "code",
   "execution_count": 13,
   "metadata": {},
   "outputs": [
    {
     "name": "stderr",
     "output_type": "stream",
     "text": [
      "100%|█████████████████████████████████████████████████████████████████████████████| 1000/1000 [00:09<00:00, 106.13it/s]\n"
     ]
    }
   ],
   "source": [
    "new_x_values = np.linspace(-3,3.5,num = 30)\n",
    "shared_x.set_value(new_x_values)\n",
    "shared_y.set_value(np.repeat(0, repeats = len(new_x_values)))\n",
    "with m53:\n",
    "    post_pred = pm.sample_posterior_predictive(trace53,samples = 1000,model=m53)"
   ]
  },
  {
   "cell_type": "code",
   "execution_count": 14,
   "metadata": {},
   "outputs": [],
   "source": [
    "mu_hpd = az.hpd(trace53['mu'], credible_interval=.89)\n",
    "post_pred_hpd = az.hpd(post_pred['divorce'], credible_interval=.89)"
   ]
  },
  {
   "cell_type": "code",
   "execution_count": 15,
   "metadata": {},
   "outputs": [
    {
     "data": {
      "image/png": "[encoded data removed]",
      "text/plain": [
       "<Figure size 720x576 with 1 Axes>"
      ]
     },
     "metadata": {
      "needs_background": "light"
     },
     "output_type": "display_data"
    }
   ],
   "source": [
    "idx = sort_vals(d.marriage_s)\n",
    "sorted_x_vals = d.marriage_s[idx]\n",
    "\n",
    "plt.figure(figsize=(10,8))\n",
    "plt.plot(d.marriage_s.values,d.divorce.values, color = 'blue', marker = '.', linestyle = '')\n",
    "plt.plot(sorted_x_vals, trace53['alpha'].mean() + np.mean(trace53['MAM_beta'])*sorted_x_vals, color = 'black', alpha = 1)\n",
    "plt.fill_between(sorted_x_vals, mu_hpd[idx,0], mu_hpd[idx,1], color='black', alpha=0.3)\n",
    "plt.xlabel('Median Age Marriage', fontsize = 14)\n",
    "plt.ylabel('Divorce', fontsize = 14)\n",
    "plt.title('Divorce ~ Marriage', fontsize = 16)\n",
    "\n",
    "plt.show()"
   ]
  },
  {
   "cell_type": "markdown",
   "metadata": {},
   "source": [
    " ## Code 5.4"
   ]
  },
  {
   "cell_type": "code",
   "execution_count": 16,
   "metadata": {},
   "outputs": [
    {
     "name": "stderr",
     "output_type": "stream",
     "text": [
      "Auto-assigning NUTS sampler...\n",
      "Initializing NUTS using jitter+adapt_diag...\n",
      "Multiprocess sampling (4 chains in 4 jobs)\n",
      "NUTS: [sigma, MAM_beta, MARR_beta, alpha]\n",
      "Sampling 4 chains: 100%|███████████████████████████████████████████████████████| 8000/8000 [00:09<00:00, 802.92draws/s]\n"
     ]
    }
   ],
   "source": [
    "shared_x54 = tt.shared(d[['marriage_s','medianagemarriage_s']].values)\n",
    "shared_y54 = tt.shared(d.divorce.values)\n",
    "\n",
    "with pm.Model() as m54:\n",
    "    alpha = pm.Normal('alpha', mu = 10, sigma = 10)\n",
    "    beta = pm.Normal('MARR_beta', mu = 0, sigma = 1)\n",
    "    beta2 = pm.Normal('MAM_beta', mu = 0, sigma = 1)\n",
    "    mu = pm.Deterministic('mu',alpha + beta*shared_x54.get_value()[:,0] + beta2*shared_x54.get_value()[:,1])\n",
    "    sigma = pm.Uniform('sigma', lower = 0, upper = 10)\n",
    "    divorce = pm.Normal('divorce',mu = mu, sigma = sigma, observed = shared_y54)\n",
    "    trace54 = pm.sample(draws = 1000,tune = 1000)"
   ]
  },
  {
   "cell_type": "code",
   "execution_count": 17,
   "metadata": {},
   "outputs": [
    {
     "name": "stderr",
     "output_type": "stream",
     "text": [
      "C:\\Users\\JOSH\\Anaconda3\\lib\\site-packages\\pymc3\\stats.py:991: FutureWarning: The join_axes-keyword is deprecated. Use .reindex or .reindex_like on the result to achieve the same functionality.\n",
      "  axis=1, join_axes=[dforg.index])\n"
     ]
    },
    {
     "data": {
      "text/html": [
       "<div>\n",
       "<style scoped>\n",
       "    .dataframe tbody tr th:only-of-type {\n",
       "        vertical-align: middle;\n",
       "    }\n",
       "\n",
       "    .dataframe tbody tr th {\n",
       "        vertical-align: top;\n",
       "    }\n",
       "\n",
       "    .dataframe thead th {\n",
       "        text-align: right;\n",
       "    }\n",
       "</style>\n",
       "<table border=\"1\" class=\"dataframe\">\n",
       "  <thead>\n",
       "    <tr style=\"text-align: right;\">\n",
       "      <th></th>\n",
       "      <th>mean</th>\n",
       "      <th>sd</th>\n",
       "      <th>mc_error</th>\n",
       "      <th>hpd_5.5</th>\n",
       "      <th>hpd_94.5</th>\n",
       "      <th>n_eff</th>\n",
       "      <th>Rhat</th>\n",
       "    </tr>\n",
       "  </thead>\n",
       "  <tbody>\n",
       "    <tr>\n",
       "      <th>alpha</th>\n",
       "      <td>9.690</td>\n",
       "      <td>0.215</td>\n",
       "      <td>0.003</td>\n",
       "      <td>9.352</td>\n",
       "      <td>10.029</td>\n",
       "      <td>3371.023</td>\n",
       "      <td>1.000</td>\n",
       "    </tr>\n",
       "    <tr>\n",
       "      <th>MARR_beta</th>\n",
       "      <td>-0.113</td>\n",
       "      <td>0.287</td>\n",
       "      <td>0.006</td>\n",
       "      <td>-0.544</td>\n",
       "      <td>0.370</td>\n",
       "      <td>2911.493</td>\n",
       "      <td>1.000</td>\n",
       "    </tr>\n",
       "    <tr>\n",
       "      <th>MAM_beta</th>\n",
       "      <td>-1.121</td>\n",
       "      <td>0.288</td>\n",
       "      <td>0.005</td>\n",
       "      <td>-1.577</td>\n",
       "      <td>-0.667</td>\n",
       "      <td>3129.487</td>\n",
       "      <td>1.001</td>\n",
       "    </tr>\n",
       "    <tr>\n",
       "      <th>sigma</th>\n",
       "      <td>1.520</td>\n",
       "      <td>0.158</td>\n",
       "      <td>0.003</td>\n",
       "      <td>1.255</td>\n",
       "      <td>1.744</td>\n",
       "      <td>3344.961</td>\n",
       "      <td>1.000</td>\n",
       "    </tr>\n",
       "  </tbody>\n",
       "</table>\n",
       "</div>"
      ],
      "text/plain": [
       "            mean     sd  mc_error  hpd_5.5  hpd_94.5     n_eff   Rhat\n",
       "alpha      9.690  0.215     0.003    9.352    10.029  3371.023  1.000\n",
       "MARR_beta -0.113  0.287     0.006   -0.544     0.370  2911.493  1.000\n",
       "MAM_beta  -1.121  0.288     0.005   -1.577    -0.667  3129.487  1.001\n",
       "sigma      1.520  0.158     0.003    1.255     1.744  3344.961  1.000"
      ]
     },
     "execution_count": 17,
     "metadata": {},
     "output_type": "execute_result"
    }
   ],
   "source": [
    "varnames_54 = ['alpha', 'MARR_beta','MAM_beta','sigma']\n",
    "#varnames_54 = ['alpha', 'MARR_beta','sigma']\n",
    "pm.summary(trace54, varnames = varnames_54, alpha = .11).round(3)"
   ]
  },
  {
   "cell_type": "code",
   "execution_count": 18,
   "metadata": {},
   "outputs": [
    {
     "name": "stderr",
     "output_type": "stream",
     "text": [
      "C:\\Users\\JOSH\\Anaconda3\\lib\\site-packages\\pymc3\\stats.py:991: FutureWarning: The join_axes-keyword is deprecated. Use .reindex or .reindex_like on the result to achieve the same functionality.\n",
      "  axis=1, join_axes=[dforg.index])\n"
     ]
    },
    {
     "data": {
      "text/html": [
       "<div>\n",
       "<style scoped>\n",
       "    .dataframe tbody tr th:only-of-type {\n",
       "        vertical-align: middle;\n",
       "    }\n",
       "\n",
       "    .dataframe tbody tr th {\n",
       "        vertical-align: top;\n",
       "    }\n",
       "\n",
       "    .dataframe thead th {\n",
       "        text-align: right;\n",
       "    }\n",
       "</style>\n",
       "<table border=\"1\" class=\"dataframe\">\n",
       "  <thead>\n",
       "    <tr style=\"text-align: right;\">\n",
       "      <th></th>\n",
       "      <th>mean</th>\n",
       "      <th>sd</th>\n",
       "      <th>mc_error</th>\n",
       "      <th>hpd_5.5</th>\n",
       "      <th>hpd_94.5</th>\n",
       "      <th>n_eff</th>\n",
       "      <th>Rhat</th>\n",
       "    </tr>\n",
       "  </thead>\n",
       "  <tbody>\n",
       "    <tr>\n",
       "      <th>alpha</th>\n",
       "      <td>9.690</td>\n",
       "      <td>0.249</td>\n",
       "      <td>0.003</td>\n",
       "      <td>9.287</td>\n",
       "      <td>10.067</td>\n",
       "      <td>4961.058</td>\n",
       "      <td>1.0</td>\n",
       "    </tr>\n",
       "    <tr>\n",
       "      <th>MAM_beta</th>\n",
       "      <td>0.639</td>\n",
       "      <td>0.239</td>\n",
       "      <td>0.003</td>\n",
       "      <td>0.254</td>\n",
       "      <td>1.002</td>\n",
       "      <td>5515.664</td>\n",
       "      <td>1.0</td>\n",
       "    </tr>\n",
       "    <tr>\n",
       "      <th>sigma</th>\n",
       "      <td>1.752</td>\n",
       "      <td>0.189</td>\n",
       "      <td>0.003</td>\n",
       "      <td>1.471</td>\n",
       "      <td>2.043</td>\n",
       "      <td>4228.879</td>\n",
       "      <td>1.0</td>\n",
       "    </tr>\n",
       "  </tbody>\n",
       "</table>\n",
       "</div>"
      ],
      "text/plain": [
       "           mean     sd  mc_error  hpd_5.5  hpd_94.5     n_eff  Rhat\n",
       "alpha     9.690  0.249     0.003    9.287    10.067  4961.058   1.0\n",
       "MAM_beta  0.639  0.239     0.003    0.254     1.002  5515.664   1.0\n",
       "sigma     1.752  0.189     0.003    1.471     2.043  4228.879   1.0"
      ]
     },
     "execution_count": 18,
     "metadata": {},
     "output_type": "execute_result"
    }
   ],
   "source": [
    "#notice how after adding im the marriage rate of the state our signs flip from positive to negative.\n",
    "# this is classic example of mulitcollinearity\n",
    "pm.summary(trace53, varnames = varnames_53, alpha = .11).round(3)"
   ]
  },
  {
   "cell_type": "markdown",
   "metadata": {},
   "source": [
    "## Code 5.5"
   ]
  },
  {
   "cell_type": "code",
   "execution_count": 19,
   "metadata": {},
   "outputs": [
    {
     "name": "stderr",
     "output_type": "stream",
     "text": [
      "C:\\Users\\JOSH\\Anaconda3\\lib\\site-packages\\arviz\\plots\\forestplot.py:207: MatplotlibDeprecationWarning: \n",
      "The tick1On function was deprecated in Matplotlib 3.1 and will be removed in 3.3. Use Tick.tick1line.set_visible instead.\n",
      "  ticks.tick1On = False\n",
      "C:\\Users\\JOSH\\Anaconda3\\lib\\site-packages\\arviz\\plots\\forestplot.py:208: MatplotlibDeprecationWarning: \n",
      "The tick2On function was deprecated in Matplotlib 3.1 and will be removed in 3.3. Use Tick.tick2line.set_visible instead.\n",
      "  ticks.tick2On = False\n"
     ]
    },
    {
     "data": {
      "text/plain": [
       "<matplotlib.collections.LineCollection at 0x22f0688ecf8>"
      ]
     },
     "execution_count": 19,
     "metadata": {},
     "output_type": "execute_result"
    },
    {
     "data": {
      "image/png": "[encoded data removed]",
      "text/plain": [
       "<Figure size 432x619.2 with 1 Axes>"
      ]
     },
     "metadata": {
      "needs_background": "light"
     },
     "output_type": "display_data"
    }
   ],
   "source": [
    "# interpretaion from the book, \"Once we know median age of marraiage for a state there is little or no additional \n",
    "# predictive power in also knowing the rate of marriage in that state\"\n",
    "az.plot_forest(trace54,var_names=varnames_54)\n",
    "plt.vlines(x = 0, ymin = 0, ymax = 5)"
   ]
  },
  {
   "cell_type": "markdown",
   "metadata": {},
   "source": [
    " ## Code 5.6"
   ]
  },
  {
   "cell_type": "code",
   "execution_count": 20,
   "metadata": {},
   "outputs": [
    {
     "name": "stderr",
     "output_type": "stream",
     "text": [
      "Auto-assigning NUTS sampler...\n",
      "Initializing NUTS using jitter+adapt_diag...\n",
      "Multiprocess sampling (4 chains in 4 jobs)\n",
      "NUTS: [sigma, MAM_beta, alpha]\n",
      "Sampling 4 chains: 100%|██████████████████████████████████████████████████████| 8000/8000 [00:07<00:00, 1039.35draws/s]\n"
     ]
    }
   ],
   "source": [
    "shared_x = tt.shared(d.medianagemarriage_s.values)\n",
    "shared_y = tt.shared(d.marriage_s.values)\n",
    "with pm.Model() as m56:\n",
    "    alpha = pm.Normal('alpha', mu = 0, sigma = 10)\n",
    "    beta = pm.Normal('MAM_beta', mu = 0, sigma = 1)\n",
    "    mu = pm.Deterministic('mu', alpha + beta*shared_x)\n",
    "    sigma = pm.Uniform('sigma', lower = 0, upper = 10)\n",
    "    marriage = pm.Normal('marriage_s',mu = mu, sigma = sigma, observed = shared_y)\n",
    "    trace56 = pm.sample(draws = 1000,tune = 1000)"
   ]
  },
  {
   "cell_type": "code",
   "execution_count": 21,
   "metadata": {},
   "outputs": [
    {
     "name": "stderr",
     "output_type": "stream",
     "text": [
      "C:\\Users\\JOSH\\Anaconda3\\lib\\site-packages\\pymc3\\stats.py:991: FutureWarning: The join_axes-keyword is deprecated. Use .reindex or .reindex_like on the result to achieve the same functionality.\n",
      "  axis=1, join_axes=[dforg.index])\n"
     ]
    },
    {
     "data": {
      "text/html": [
       "<div>\n",
       "<style scoped>\n",
       "    .dataframe tbody tr th:only-of-type {\n",
       "        vertical-align: middle;\n",
       "    }\n",
       "\n",
       "    .dataframe tbody tr th {\n",
       "        vertical-align: top;\n",
       "    }\n",
       "\n",
       "    .dataframe thead th {\n",
       "        text-align: right;\n",
       "    }\n",
       "</style>\n",
       "<table border=\"1\" class=\"dataframe\">\n",
       "  <thead>\n",
       "    <tr style=\"text-align: right;\">\n",
       "      <th></th>\n",
       "      <th>mean</th>\n",
       "      <th>sd</th>\n",
       "      <th>mc_error</th>\n",
       "      <th>hpd_2.5</th>\n",
       "      <th>hpd_97.5</th>\n",
       "      <th>n_eff</th>\n",
       "      <th>Rhat</th>\n",
       "    </tr>\n",
       "  </thead>\n",
       "  <tbody>\n",
       "    <tr>\n",
       "      <th>alpha</th>\n",
       "      <td>0.001722</td>\n",
       "      <td>0.102383</td>\n",
       "      <td>0.001363</td>\n",
       "      <td>-0.187769</td>\n",
       "      <td>0.207494</td>\n",
       "      <td>4995.875313</td>\n",
       "      <td>0.999597</td>\n",
       "    </tr>\n",
       "    <tr>\n",
       "      <th>MAM_beta</th>\n",
       "      <td>-0.713676</td>\n",
       "      <td>0.102975</td>\n",
       "      <td>0.001346</td>\n",
       "      <td>-0.918317</td>\n",
       "      <td>-0.505987</td>\n",
       "      <td>5609.570806</td>\n",
       "      <td>0.999829</td>\n",
       "    </tr>\n",
       "    <tr>\n",
       "      <th>sigma</th>\n",
       "      <td>0.718705</td>\n",
       "      <td>0.077420</td>\n",
       "      <td>0.001057</td>\n",
       "      <td>0.577412</td>\n",
       "      <td>0.876104</td>\n",
       "      <td>5086.539832</td>\n",
       "      <td>0.999583</td>\n",
       "    </tr>\n",
       "  </tbody>\n",
       "</table>\n",
       "</div>"
      ],
      "text/plain": [
       "              mean        sd  mc_error   hpd_2.5  hpd_97.5        n_eff  \\\n",
       "alpha     0.001722  0.102383  0.001363 -0.187769  0.207494  4995.875313   \n",
       "MAM_beta -0.713676  0.102975  0.001346 -0.918317 -0.505987  5609.570806   \n",
       "sigma     0.718705  0.077420  0.001057  0.577412  0.876104  5086.539832   \n",
       "\n",
       "              Rhat  \n",
       "alpha     0.999597  \n",
       "MAM_beta  0.999829  \n",
       "sigma     0.999583  "
      ]
     },
     "execution_count": 21,
     "metadata": {},
     "output_type": "execute_result"
    }
   ],
   "source": [
    "varnames_56 = ['alpha', 'MAM_beta','sigma']\n",
    "pm.summary(trace56, varnames = varnames_56)"
   ]
  },
  {
   "cell_type": "markdown",
   "metadata": {},
   "source": [
    " ## Code 5.7"
   ]
  },
  {
   "cell_type": "code",
   "execution_count": 22,
   "metadata": {},
   "outputs": [],
   "source": [
    "# computer expected value at MAP, for each State\n",
    "mu = trace56['mu'].mean(0)\n",
    "# compute residual for each state\n",
    "resid = d.marriage_s - mu"
   ]
  },
  {
   "cell_type": "markdown",
   "metadata": {},
   "source": [
    " ## Code 5.8"
   ]
  },
  {
   "cell_type": "code",
   "execution_count": 23,
   "metadata": {},
   "outputs": [
    {
     "data": {
      "text/plain": [
       "<matplotlib.collections.LineCollection at 0x22f086531d0>"
      ]
     },
     "execution_count": 23,
     "metadata": {},
     "output_type": "execute_result"
    },
    {
     "data": {
      "image/png": "[encoded data removed]",
      "text/plain": [
       "<Figure size 360x360 with 1 Axes>"
      ]
     },
     "metadata": {
      "needs_background": "light"
     },
     "output_type": "display_data"
    }
   ],
   "source": [
    "# These residuals from above are the variations in marriage rate which is not explained by median age of marriage.\n",
    "sns.lmplot('medianagemarriage_s','marriage_s',data=d,ci = 0)\n",
    "plt.vlines(d.medianagemarriage_s,mu, mu + resid, alpha = .5, color = 'grey' )"
   ]
  },
  {
   "cell_type": "markdown",
   "metadata": {},
   "source": [
    "## Code 5.9 -5.10"
   ]
  },
  {
   "cell_type": "code",
   "execution_count": 24,
   "metadata": {},
   "outputs": [],
   "source": [
    "# holding age constant at the mean and changing the rate what is the change in prediction. It should follow what the respecitve beta is\n",
    "## shared_x54 is marriages, median_s\n",
    "a_avg = d.medianagemarriage_s.mean()\n",
    "r_seq = np.linspace(-3,3, num= 100)\n",
    "counterfactual_data = np.array([r_seq,np.repeat(0, len(r_seq))]).T"
   ]
  },
  {
   "cell_type": "code",
   "execution_count": 25,
   "metadata": {},
   "outputs": [],
   "source": [
    "mu = trace54['alpha'] + trace54['MAM_beta']*0 + trace54['MARR_beta']*r_seq[:, np.newaxis]\n",
    "mu_pred = mu.mean(axis = 1)\n",
    "pred = az.hpd(stats.norm.rvs(mu, trace54['sigma']).T)\n",
    "mu_hpd = az.hpd(mu.T, credible_interval=.89)\n",
    "pred_hpd = az.hpd(pred.T, credible_interval=.89)"
   ]
  },
  {
   "cell_type": "code",
   "execution_count": 26,
   "metadata": {},
   "outputs": [
    {
     "data": {
      "text/plain": [
       "(6, 14)"
      ]
     },
     "execution_count": 26,
     "metadata": {},
     "output_type": "execute_result"
    },
    {
     "data": {
      "image/png": "[encoded data removed]",
      "text/plain": [
       "<Figure size 720x576 with 1 Axes>"
      ]
     },
     "metadata": {
      "needs_background": "light"
     },
     "output_type": "display_data"
    }
   ],
   "source": [
    "plt.figure(figsize = (10,8))\n",
    "plt.plot(r_seq, mu_pred)\n",
    "plt.fill_between(r_seq, mu_hpd[:,0], mu_hpd[:,1], alpha = .4)\n",
    "plt.fill_between(r_seq, pred_hpd[:,0], pred_hpd[:,1], alpha = .2, color = 'orange')\n",
    "plt.title('Median Age Marriage = 0')\n",
    "plt.ylabel('Divorce')\n",
    "plt.xlabel('Marriage')\n",
    "plt.ylim(6,14)"
   ]
  },
  {
   "cell_type": "code",
   "execution_count": 27,
   "metadata": {},
   "outputs": [],
   "source": [
    "# holding age constant at the mean and changing the rate what is the change in prediction. It should follow what the respecitve beta is\n",
    "## shared_x54 is marriages, median_s\n",
    "a_avg = d.marriage_s.mean()\n",
    "r_seq = np.linspace(-3,3.5, num= 100)\n",
    "counterfactual_data = np.array([r_seq,np.repeat(0, len(r_seq))]).T"
   ]
  },
  {
   "cell_type": "code",
   "execution_count": 28,
   "metadata": {},
   "outputs": [],
   "source": [
    "mu = trace54['alpha'] + trace54['MAM_beta']*r_seq[:, np.newaxis] + trace54['MARR_beta']*0\n",
    "mu_pred = mu.mean(axis = 1)\n",
    "pred = az.hpd(stats.norm.rvs(mu, trace54['sigma']).T)\n",
    "mu_hpd = az.hpd(mu.T, credible_interval=.89)\n",
    "pred_hpd = az.hpd(pred.T, credible_interval=.89)"
   ]
  },
  {
   "cell_type": "code",
   "execution_count": 29,
   "metadata": {},
   "outputs": [
    {
     "data": {
      "text/plain": [
       "(6, 14)"
      ]
     },
     "execution_count": 29,
     "metadata": {},
     "output_type": "execute_result"
    },
    {
     "data": {
      "image/png": "[encoded data removed]",
      "text/plain": [
       "<Figure size 720x576 with 1 Axes>"
      ]
     },
     "metadata": {
      "needs_background": "light"
     },
     "output_type": "display_data"
    }
   ],
   "source": [
    "plt.figure(figsize = (10,8))\n",
    "plt.plot(r_seq, mu_pred)\n",
    "plt.fill_between(r_seq, mu_hpd[:,0], mu_hpd[:,1], alpha = .4)\n",
    "plt.fill_between(r_seq, pred_hpd[:,0], pred_hpd[:,1], alpha = .2, color = 'orange')\n",
    "plt.title('Marriage = 0')\n",
    "plt.ylabel('Divorce')\n",
    "plt.xlabel('Marriage')\n",
    "plt.ylim(6,14)"
   ]
  },
  {
   "cell_type": "markdown",
   "metadata": {},
   "source": [
    "## Code 5.12 - 5.13"
   ]
  },
  {
   "cell_type": "code",
   "execution_count": 51,
   "metadata": {},
   "outputs": [
    {
     "name": "stderr",
     "output_type": "stream",
     "text": [
      "100%|█████████████████████████████████████████████████████████████████████████████| 1000/1000 [00:09<00:00, 107.41it/s]\n"
     ]
    }
   ],
   "source": [
    "# Expected value and its respective uncertainty\n",
    "mu = trace54['mu']\n",
    "mu_mean = mu.mean(axis = 0)\n",
    "mu_hpd = az.hpd(mu, credible_interval=.89)\n",
    "# Expected value with its uncertanity and the spread around mu\n",
    "div_samps = pm.sample_posterior_predictive(trace54, samples = 1000, model = m54)\n",
    "div_samps = div_samps['divorce']"
   ]
  },
  {
   "cell_type": "code",
   "execution_count": 80,
   "metadata": {},
   "outputs": [
    {
     "data": {
      "text/plain": [
       "(10.225234659046551, array([ 9.93787284, 10.82766575]))"
      ]
     },
     "execution_count": 80,
     "metadata": {},
     "output_type": "execute_result"
    }
   ],
   "source": [
    "divhpd = az.hpd(div_samps, credible_interval=.89)\n",
    "divhpd[0,:].mean(0),  mu_hpd[0,:]"
   ]
  },
  {
   "cell_type": "code",
   "execution_count": 93,
   "metadata": {},
   "outputs": [
    {
     "data": {
      "image/png": "[encoded data removed]",
      "text/plain": [
       "<Figure size 720x576 with 1 Axes>"
      ]
     },
     "metadata": {
      "needs_background": "light"
     },
     "output_type": "display_data"
    }
   ],
   "source": [
    "plt.figure(figsize = (10,8))\n",
    "plt.plot(d.divorce, mu_mean, marker = '.', linestyle = '')\n",
    "#plt.errorbar(d.divorce,mu_mean,mu_hpd[:,1] - mu_hpd[:,0],fmt='C0o')\n",
    "plt.errorbar(d.divorce, mu_mean , yerr=np.abs(mu_mean -mu_hpd.T) , fmt='C0o', alpha = 1)\n",
    "plt.errorbar(d.divorce, mu_mean , yerr=np.abs(mu_mean -divhpd.T) , fmt='C0o', alpha =.4)\n",
    "plt.xlabel('Observed Divorce')\n",
    "plt.ylabel('Predicted Divorece with PI = .89')\n",
    "min_x, max_x = d.divorce.min(), d.divorce.max()\n",
    "plt.plot([min_x, max_x], [min_x, max_x], 'k--');"
   ]
  },
  {
   "cell_type": "code",
   "execution_count": null,
   "metadata": {},
   "outputs": [],
   "source": []
  },
  {
   "cell_type": "code",
   "execution_count": null,
   "metadata": {},
   "outputs": [],
   "source": []
  },
  {
   "cell_type": "code",
   "execution_count": null,
   "metadata": {},
   "outputs": [],
   "source": []
  },
  {
   "cell_type": "code",
   "execution_count": null,
   "metadata": {},
   "outputs": [],
   "source": []
  }
 ],
 "metadata": {
  "file_extension": ".py",
  "kernelspec": {
   "display_name": "Python 3",
   "language": "python",
   "name": "python3"
  },
  "language_info": {
   "codemirror_mode": {
    "name": "ipython",
    "version": 3
   },
   "file_extension": ".py",
   "mimetype": "text/x-python",
   "name": "python",
   "nbconvert_exporter": "python",
   "pygments_lexer": "ipython3",
   "version": "3.6.5"
  },
  "mimetype": "text/x-python",
  "name": "python",
  "npconvert_exporter": "python",
  "pygments_lexer": "ipython3",
  "version": 3
 },
 "nbformat": 4,
 "nbformat_minor": 4
}
