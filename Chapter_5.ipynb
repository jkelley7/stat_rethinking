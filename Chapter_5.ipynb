{
 "cells": [
  {
   "cell_type": "code",
   "execution_count": 1,
   "metadata": {},
   "outputs": [],
   "source": [
    "import numpy as np\n",
    "import pandas as pd\n",
    "from scipy import stats\n",
    "import matplotlib.pyplot as plt\n",
    "import seaborn as sns\n",
    "import arviz as az\n",
    "from collections import Counter\n",
    "from scipy.interpolate import griddata\n",
    "import pymc3 as pm\n",
    "import theano as tt\n",
    "\n",
    "sns.set()"
   ]
  },
  {
   "cell_type": "code",
   "execution_count": 2,
   "metadata": {},
   "outputs": [],
   "source": [
    "# Functions\n",
    "def sort_vals(vals, ascending = True):\n",
    "    \"\"\"sorts valus from high to low\n",
    "    returns:\n",
    "    idx - values in ascending or descending order\n",
    "    \"\"\"\n",
    "    if ascending:\n",
    "        idx = np.argsort(-vals)\n",
    "    else:\n",
    "        idx = np.argsort(vals)\n",
    "    return idx\n"
   ]
  },
  {
   "cell_type": "markdown",
   "metadata": {},
   "source": [
    " # Chapter 5\n",
    " ### Cde 5.1"
   ]
  },
  {
   "cell_type": "code",
   "execution_count": 3,
   "metadata": {},
   "outputs": [
    {
     "data": {
      "text/html": [
       "<div>\n",
       "<style scoped>\n",
       "    .dataframe tbody tr th:only-of-type {\n",
       "        vertical-align: middle;\n",
       "    }\n",
       "\n",
       "    .dataframe tbody tr th {\n",
       "        vertical-align: top;\n",
       "    }\n",
       "\n",
       "    .dataframe thead th {\n",
       "        text-align: right;\n",
       "    }\n",
       "</style>\n",
       "<table border=\"1\" class=\"dataframe\">\n",
       "  <thead>\n",
       "    <tr style=\"text-align: right;\">\n",
       "      <th></th>\n",
       "      <th>location</th>\n",
       "      <th>loc</th>\n",
       "      <th>population</th>\n",
       "      <th>medianagemarriage</th>\n",
       "      <th>marriage</th>\n",
       "      <th>marriage se</th>\n",
       "      <th>divorce</th>\n",
       "      <th>divorce se</th>\n",
       "      <th>wafflehouses</th>\n",
       "      <th>south</th>\n",
       "      <th>slaves1860</th>\n",
       "      <th>population1860</th>\n",
       "      <th>propslaves1860</th>\n",
       "    </tr>\n",
       "  </thead>\n",
       "  <tbody>\n",
       "    <tr>\n",
       "      <th>0</th>\n",
       "      <td>Alabama</td>\n",
       "      <td>AL</td>\n",
       "      <td>4.78</td>\n",
       "      <td>25.3</td>\n",
       "      <td>20.2</td>\n",
       "      <td>1.27</td>\n",
       "      <td>12.7</td>\n",
       "      <td>0.79</td>\n",
       "      <td>128</td>\n",
       "      <td>1</td>\n",
       "      <td>435080</td>\n",
       "      <td>964201</td>\n",
       "      <td>0.45</td>\n",
       "    </tr>\n",
       "    <tr>\n",
       "      <th>1</th>\n",
       "      <td>Alaska</td>\n",
       "      <td>AK</td>\n",
       "      <td>0.71</td>\n",
       "      <td>25.2</td>\n",
       "      <td>26.0</td>\n",
       "      <td>2.93</td>\n",
       "      <td>12.5</td>\n",
       "      <td>2.05</td>\n",
       "      <td>0</td>\n",
       "      <td>0</td>\n",
       "      <td>0</td>\n",
       "      <td>0</td>\n",
       "      <td>0.00</td>\n",
       "    </tr>\n",
       "    <tr>\n",
       "      <th>2</th>\n",
       "      <td>Arizona</td>\n",
       "      <td>AZ</td>\n",
       "      <td>6.33</td>\n",
       "      <td>25.8</td>\n",
       "      <td>20.3</td>\n",
       "      <td>0.98</td>\n",
       "      <td>10.8</td>\n",
       "      <td>0.74</td>\n",
       "      <td>18</td>\n",
       "      <td>0</td>\n",
       "      <td>0</td>\n",
       "      <td>0</td>\n",
       "      <td>0.00</td>\n",
       "    </tr>\n",
       "    <tr>\n",
       "      <th>3</th>\n",
       "      <td>Arkansas</td>\n",
       "      <td>AR</td>\n",
       "      <td>2.92</td>\n",
       "      <td>24.3</td>\n",
       "      <td>26.4</td>\n",
       "      <td>1.70</td>\n",
       "      <td>13.5</td>\n",
       "      <td>1.22</td>\n",
       "      <td>41</td>\n",
       "      <td>1</td>\n",
       "      <td>111115</td>\n",
       "      <td>435450</td>\n",
       "      <td>0.26</td>\n",
       "    </tr>\n",
       "    <tr>\n",
       "      <th>4</th>\n",
       "      <td>California</td>\n",
       "      <td>CA</td>\n",
       "      <td>37.25</td>\n",
       "      <td>26.8</td>\n",
       "      <td>19.1</td>\n",
       "      <td>0.39</td>\n",
       "      <td>8.0</td>\n",
       "      <td>0.24</td>\n",
       "      <td>0</td>\n",
       "      <td>0</td>\n",
       "      <td>0</td>\n",
       "      <td>379994</td>\n",
       "      <td>0.00</td>\n",
       "    </tr>\n",
       "  </tbody>\n",
       "</table>\n",
       "</div>"
      ],
      "text/plain": [
       "     location loc  population  medianagemarriage  marriage  marriage se  \\\n",
       "0     Alabama  AL        4.78               25.3      20.2         1.27   \n",
       "1      Alaska  AK        0.71               25.2      26.0         2.93   \n",
       "2     Arizona  AZ        6.33               25.8      20.3         0.98   \n",
       "3    Arkansas  AR        2.92               24.3      26.4         1.70   \n",
       "4  California  CA       37.25               26.8      19.1         0.39   \n",
       "\n",
       "   divorce  divorce se  wafflehouses  south  slaves1860  population1860  \\\n",
       "0     12.7        0.79           128      1      435080          964201   \n",
       "1     12.5        2.05             0      0           0               0   \n",
       "2     10.8        0.74            18      0           0               0   \n",
       "3     13.5        1.22            41      1      111115          435450   \n",
       "4      8.0        0.24             0      0           0          379994   \n",
       "\n",
       "   propslaves1860  \n",
       "0            0.45  \n",
       "1            0.00  \n",
       "2            0.00  \n",
       "3            0.26  \n",
       "4            0.00  "
      ]
     },
     "execution_count": 3,
     "metadata": {},
     "output_type": "execute_result"
    }
   ],
   "source": [
    "d = pd.read_csv('.\\data\\WaffleDivorce.csv', sep = ';')\n",
    "d.columns = d.columns.str.lower()\n",
    "d.head()"
   ]
  },
  {
   "cell_type": "code",
   "execution_count": 4,
   "metadata": {},
   "outputs": [],
   "source": [
    "d['medianagemarriage_s'] = (d.medianagemarriage - d.medianagemarriage.mean())/ d.medianagemarriage.std()"
   ]
  },
  {
   "cell_type": "code",
   "execution_count": 5,
   "metadata": {},
   "outputs": [
    {
     "name": "stderr",
     "output_type": "stream",
     "text": [
      "Auto-assigning NUTS sampler...\n",
      "Initializing NUTS using jitter+adapt_diag...\n",
      "Multiprocess sampling (4 chains in 4 jobs)\n",
      "NUTS: [sigma, beta, alpha]\n",
      "Sampling 4 chains: 100%|██████████████████████████████████████████████████████| 8000/8000 [00:05<00:00, 1475.86draws/s]\n"
     ]
    }
   ],
   "source": [
    "shared_x = tt.shared(d.medianagemarriage_s.values)\n",
    "shared_y = tt.shared(d.divorce.values)\n",
    "with pm.Model() as m51:\n",
    "    alpha = pm.Normal('alpha', mu = 10, sigma = 10)\n",
    "    beta = pm.Normal('beta', mu = 0, sigma = 1)\n",
    "    mu = pm.Deterministic('mu', alpha + beta*shared_x)\n",
    "    sigma = pm.Uniform('sigma', lower = 0, upper = 10)\n",
    "    divorce = pm.Normal('divorce',mu = mu, sigma = sigma, observed = shared_y)\n",
    "    trace51 = pm.sample(draws = 1000,tune = 1000)"
   ]
  },
  {
   "cell_type": "code",
   "execution_count": 6,
   "metadata": {},
   "outputs": [
    {
     "name": "stderr",
     "output_type": "stream",
     "text": [
      "C:\\Users\\JOSH\\Anaconda3\\lib\\site-packages\\pymc3\\stats.py:991: FutureWarning: The join_axes-keyword is deprecated. Use .reindex or .reindex_like on the result to achieve the same functionality.\n",
      "  axis=1, join_axes=[dforg.index])\n"
     ]
    },
    {
     "data": {
      "text/html": [
       "<div>\n",
       "<style scoped>\n",
       "    .dataframe tbody tr th:only-of-type {\n",
       "        vertical-align: middle;\n",
       "    }\n",
       "\n",
       "    .dataframe tbody tr th {\n",
       "        vertical-align: top;\n",
       "    }\n",
       "\n",
       "    .dataframe thead th {\n",
       "        text-align: right;\n",
       "    }\n",
       "</style>\n",
       "<table border=\"1\" class=\"dataframe\">\n",
       "  <thead>\n",
       "    <tr style=\"text-align: right;\">\n",
       "      <th></th>\n",
       "      <th>mean</th>\n",
       "      <th>sd</th>\n",
       "      <th>mc_error</th>\n",
       "      <th>hpd_2.5</th>\n",
       "      <th>hpd_97.5</th>\n",
       "      <th>n_eff</th>\n",
       "      <th>Rhat</th>\n",
       "    </tr>\n",
       "  </thead>\n",
       "  <tbody>\n",
       "    <tr>\n",
       "      <th>alpha</th>\n",
       "      <td>9.687140</td>\n",
       "      <td>0.214924</td>\n",
       "      <td>0.002835</td>\n",
       "      <td>9.276741</td>\n",
       "      <td>10.127752</td>\n",
       "      <td>5585.801351</td>\n",
       "      <td>0.999732</td>\n",
       "    </tr>\n",
       "    <tr>\n",
       "      <th>beta</th>\n",
       "      <td>-1.041029</td>\n",
       "      <td>0.213230</td>\n",
       "      <td>0.003453</td>\n",
       "      <td>-1.456284</td>\n",
       "      <td>-0.630999</td>\n",
       "      <td>3955.332697</td>\n",
       "      <td>1.001013</td>\n",
       "    </tr>\n",
       "    <tr>\n",
       "      <th>sigma</th>\n",
       "      <td>1.514764</td>\n",
       "      <td>0.160174</td>\n",
       "      <td>0.002089</td>\n",
       "      <td>1.219965</td>\n",
       "      <td>1.833112</td>\n",
       "      <td>4781.022917</td>\n",
       "      <td>0.999678</td>\n",
       "    </tr>\n",
       "  </tbody>\n",
       "</table>\n",
       "</div>"
      ],
      "text/plain": [
       "           mean        sd  mc_error   hpd_2.5   hpd_97.5        n_eff  \\\n",
       "alpha  9.687140  0.214924  0.002835  9.276741  10.127752  5585.801351   \n",
       "beta  -1.041029  0.213230  0.003453 -1.456284  -0.630999  3955.332697   \n",
       "sigma  1.514764  0.160174  0.002089  1.219965   1.833112  4781.022917   \n",
       "\n",
       "           Rhat  \n",
       "alpha  0.999732  \n",
       "beta   1.001013  \n",
       "sigma  0.999678  "
      ]
     },
     "execution_count": 6,
     "metadata": {},
     "output_type": "execute_result"
    }
   ],
   "source": [
    "varnames = ['alpha', 'beta','sigma']\n",
    "pm.summary(trace51, varnames = varnames)"
   ]
  },
  {
   "cell_type": "markdown",
   "metadata": {},
   "source": [
    " ## Code 5.2"
   ]
  },
  {
   "cell_type": "code",
   "execution_count": 7,
   "metadata": {},
   "outputs": [
    {
     "name": "stderr",
     "output_type": "stream",
     "text": [
      "100%|█████████████████████████████████████████████████████████████████████████████| 1000/1000 [00:09<00:00, 109.47it/s]\n"
     ]
    }
   ],
   "source": [
    "new_x_values = np.linspace(-3,3.5,num = 30)\n",
    "shared_x.set_value(new_x_values)\n",
    "shared_y.set_value(np.repeat(0, repeats = len(new_x_values)))\n",
    "with m51:\n",
    "    post_pred = pm.sample_posterior_predictive(trace51,samples = 1000,model=m51)"
   ]
  },
  {
   "cell_type": "code",
   "execution_count": 8,
   "metadata": {},
   "outputs": [],
   "source": [
    "mu_hpd = az.hpd(trace51['mu'], credible_interval=.89)\n",
    "post_pred_hpd = az.hpd(post_pred['divorce'], credible_interval=.89)"
   ]
  },
  {
   "cell_type": "code",
   "execution_count": 9,
   "metadata": {},
   "outputs": [
    {
     "data": {
      "image/png": "[encoded data removed]",
      "text/plain": [
       "<Figure size 720x576 with 1 Axes>"
      ]
     },
     "metadata": {
      "needs_background": "light"
     },
     "output_type": "display_data"
    }
   ],
   "source": [
    "idx = sort_vals(d.medianagemarriage_s)\n",
    "sorted_x_vals = d.medianagemarriage_s[idx]\n",
    "\n",
    "plt.figure(figsize=(10,8))\n",
    "plt.plot(d.medianagemarriage_s.values,d.divorce.values, color = 'blue', marker = '.', linestyle = '')\n",
    "plt.plot(sorted_x_vals, trace51['alpha'].mean() + np.mean(trace51['beta'])*sorted_x_vals, color = 'black', alpha = 1)\n",
    "plt.fill_between(sorted_x_vals, mu_hpd[idx,0], mu_hpd[idx,1], color='black', alpha=0.3)\n",
    "plt.xlabel('Median Age Marriage')\n",
    "plt.ylabel('Divorce')\n",
    "\n",
    "plt.show()"
   ]
  },
  {
   "cell_type": "markdown",
   "metadata": {},
   "source": [
    " ## Code 5.3"
   ]
  },
  {
   "cell_type": "code",
   "execution_count": 10,
   "metadata": {},
   "outputs": [],
   "source": [
    "d['marriage_s'] = (d.marriage - d.marriage.mean())/ d.marriage.std()"
   ]
  },
  {
   "cell_type": "code",
   "execution_count": 11,
   "metadata": {},
   "outputs": [
    {
     "name": "stderr",
     "output_type": "stream",
     "text": [
      "Auto-assigning NUTS sampler...\n",
      "Initializing NUTS using jitter+adapt_diag...\n",
      "Multiprocess sampling (4 chains in 4 jobs)\n",
      "NUTS: [sigma, MAM_beta, alpha]\n",
      "Sampling 4 chains: 100%|██████████████████████████████████████████████████████| 8000/8000 [00:06<00:00, 1288.82draws/s]\n"
     ]
    }
   ],
   "source": [
    "shared_x = tt.shared(d.marriage_s.values)\n",
    "shared_y = tt.shared(d.divorce.values)\n",
    "with pm.Model() as m53:\n",
    "    alpha = pm.Normal('alpha', mu = 10, sigma = 10)\n",
    "    beta = pm.Normal('MAM_beta', mu = 0, sigma = 1)\n",
    "    mu = pm.Deterministic('mu', alpha + beta*shared_x)\n",
    "    sigma = pm.Uniform('sigma', lower = 0, upper = 10)\n",
    "    divorce = pm.Normal('divorce',mu = mu, sigma = sigma, observed = shared_y)\n",
    "    trace53 = pm.sample(draws = 1000,tune = 1000)"
   ]
  },
  {
   "cell_type": "code",
   "execution_count": 12,
   "metadata": {},
   "outputs": [
    {
     "name": "stderr",
     "output_type": "stream",
     "text": [
      "C:\\Users\\JOSH\\Anaconda3\\lib\\site-packages\\pymc3\\stats.py:991: FutureWarning: The join_axes-keyword is deprecated. Use .reindex or .reindex_like on the result to achieve the same functionality.\n",
      "  axis=1, join_axes=[dforg.index])\n"
     ]
    },
    {
     "data": {
      "text/html": [
       "<div>\n",
       "<style scoped>\n",
       "    .dataframe tbody tr th:only-of-type {\n",
       "        vertical-align: middle;\n",
       "    }\n",
       "\n",
       "    .dataframe tbody tr th {\n",
       "        vertical-align: top;\n",
       "    }\n",
       "\n",
       "    .dataframe thead th {\n",
       "        text-align: right;\n",
       "    }\n",
       "</style>\n",
       "<table border=\"1\" class=\"dataframe\">\n",
       "  <thead>\n",
       "    <tr style=\"text-align: right;\">\n",
       "      <th></th>\n",
       "      <th>mean</th>\n",
       "      <th>sd</th>\n",
       "      <th>mc_error</th>\n",
       "      <th>hpd_2.5</th>\n",
       "      <th>hpd_97.5</th>\n",
       "      <th>n_eff</th>\n",
       "      <th>Rhat</th>\n",
       "    </tr>\n",
       "  </thead>\n",
       "  <tbody>\n",
       "    <tr>\n",
       "      <th>alpha</th>\n",
       "      <td>9.691984</td>\n",
       "      <td>0.248033</td>\n",
       "      <td>0.003459</td>\n",
       "      <td>9.191710</td>\n",
       "      <td>10.149699</td>\n",
       "      <td>5352.777626</td>\n",
       "      <td>1.000214</td>\n",
       "    </tr>\n",
       "    <tr>\n",
       "      <th>MAM_beta</th>\n",
       "      <td>0.642307</td>\n",
       "      <td>0.241707</td>\n",
       "      <td>0.003300</td>\n",
       "      <td>0.163432</td>\n",
       "      <td>1.124929</td>\n",
       "      <td>4865.169221</td>\n",
       "      <td>0.999659</td>\n",
       "    </tr>\n",
       "    <tr>\n",
       "      <th>sigma</th>\n",
       "      <td>1.751244</td>\n",
       "      <td>0.183134</td>\n",
       "      <td>0.002480</td>\n",
       "      <td>1.416093</td>\n",
       "      <td>2.121226</td>\n",
       "      <td>5335.793651</td>\n",
       "      <td>0.999526</td>\n",
       "    </tr>\n",
       "  </tbody>\n",
       "</table>\n",
       "</div>"
      ],
      "text/plain": [
       "              mean        sd  mc_error   hpd_2.5   hpd_97.5        n_eff  \\\n",
       "alpha     9.691984  0.248033  0.003459  9.191710  10.149699  5352.777626   \n",
       "MAM_beta  0.642307  0.241707  0.003300  0.163432   1.124929  4865.169221   \n",
       "sigma     1.751244  0.183134  0.002480  1.416093   2.121226  5335.793651   \n",
       "\n",
       "              Rhat  \n",
       "alpha     1.000214  \n",
       "MAM_beta  0.999659  \n",
       "sigma     0.999526  "
      ]
     },
     "execution_count": 12,
     "metadata": {},
     "output_type": "execute_result"
    }
   ],
   "source": [
    "varnames_53 = ['alpha', 'MAM_beta','sigma']\n",
    "pm.summary(trace53, varnames = varnames_53)"
   ]
  },
  {
   "cell_type": "code",
   "execution_count": 13,
   "metadata": {},
   "outputs": [
    {
     "name": "stderr",
     "output_type": "stream",
     "text": [
      "100%|█████████████████████████████████████████████████████████████████████████████| 1000/1000 [00:09<00:00, 109.01it/s]\n"
     ]
    }
   ],
   "source": [
    "new_x_values = np.linspace(-3,3.5,num = 30)\n",
    "shared_x.set_value(new_x_values)\n",
    "shared_y.set_value(np.repeat(0, repeats = len(new_x_values)))\n",
    "with m53:\n",
    "    post_pred = pm.sample_posterior_predictive(trace53,samples = 1000,model=m53)"
   ]
  },
  {
   "cell_type": "code",
   "execution_count": 14,
   "metadata": {},
   "outputs": [],
   "source": [
    "mu_hpd = az.hpd(trace53['mu'], credible_interval=.89)\n",
    "post_pred_hpd = az.hpd(post_pred['divorce'], credible_interval=.89)"
   ]
  },
  {
   "cell_type": "code",
   "execution_count": 15,
   "metadata": {},
   "outputs": [
    {
     "data": {
      "image/png": "[encoded data removed]",
      "text/plain": [
       "<Figure size 720x576 with 1 Axes>"
      ]
     },
     "metadata": {
      "needs_background": "light"
     },
     "output_type": "display_data"
    }
   ],
   "source": [
    "idx = sort_vals(d.marriage_s)\n",
    "sorted_x_vals = d.marriage_s[idx]\n",
    "\n",
    "plt.figure(figsize=(10,8))\n",
    "plt.plot(d.marriage_s.values,d.divorce.values, color = 'blue', marker = '.', linestyle = '')\n",
    "plt.plot(sorted_x_vals, trace53['alpha'].mean() + np.mean(trace53['MAM_beta'])*sorted_x_vals, color = 'black', alpha = 1)\n",
    "plt.fill_between(sorted_x_vals, mu_hpd[idx,0], mu_hpd[idx,1], color='black', alpha=0.3)\n",
    "plt.xlabel('Median Age Marriage', fontsize = 14)\n",
    "plt.ylabel('Divorce', fontsize = 14)\n",
    "plt.title('Divorce ~ Marriage', fontsize = 16)\n",
    "\n",
    "plt.show()"
   ]
  },
  {
   "cell_type": "markdown",
   "metadata": {},
   "source": [
    " ## Code 5.4"
   ]
  },
  {
   "cell_type": "code",
   "execution_count": 16,
   "metadata": {},
   "outputs": [
    {
     "name": "stderr",
     "output_type": "stream",
     "text": [
      "Auto-assigning NUTS sampler...\n",
      "Initializing NUTS using jitter+adapt_diag...\n",
      "Multiprocess sampling (4 chains in 4 jobs)\n",
      "NUTS: [sigma, MAM_beta, MARR_beta, alpha]\n",
      "Sampling 4 chains: 100%|███████████████████████████████████████████████████████| 8000/8000 [00:09<00:00, 861.87draws/s]\n"
     ]
    }
   ],
   "source": [
    "shared_x = tt.shared(d[['marriage_s','medianagemarriage_s']].values)\n",
    "shared_y = tt.shared(d.divorce.values)\n",
    "\n",
    "with pm.Model() as m54:\n",
    "    alpha = pm.Normal('alpha', mu = 10, sigma = 10)\n",
    "    beta = pm.Normal('MARR_beta', mu = 0, sigma = 1)\n",
    "    beta2 = pm.Normal('MAM_beta', mu = 0, sigma = 1)\n",
    "    mu = pm.Deterministic('mu', alpha + beta*shared_x.get_value()[:,0] + beta2*shared_x.get_value()[:,1])\n",
    "    sigma = pm.Uniform('sigma', lower = 0, upper = 10)\n",
    "    divorce = pm.Normal('divorce',mu = mu, sigma = sigma, observed = shared_y)\n",
    "    trace54 = pm.sample(draws = 1000,tune = 1000)"
   ]
  },
  {
   "cell_type": "code",
   "execution_count": 17,
   "metadata": {},
   "outputs": [
    {
     "name": "stderr",
     "output_type": "stream",
     "text": [
      "C:\\Users\\JOSH\\Anaconda3\\lib\\site-packages\\pymc3\\stats.py:991: FutureWarning: The join_axes-keyword is deprecated. Use .reindex or .reindex_like on the result to achieve the same functionality.\n",
      "  axis=1, join_axes=[dforg.index])\n"
     ]
    },
    {
     "data": {
      "text/html": [
       "<div>\n",
       "<style scoped>\n",
       "    .dataframe tbody tr th:only-of-type {\n",
       "        vertical-align: middle;\n",
       "    }\n",
       "\n",
       "    .dataframe tbody tr th {\n",
       "        vertical-align: top;\n",
       "    }\n",
       "\n",
       "    .dataframe thead th {\n",
       "        text-align: right;\n",
       "    }\n",
       "</style>\n",
       "<table border=\"1\" class=\"dataframe\">\n",
       "  <thead>\n",
       "    <tr style=\"text-align: right;\">\n",
       "      <th></th>\n",
       "      <th>mean</th>\n",
       "      <th>sd</th>\n",
       "      <th>mc_error</th>\n",
       "      <th>hpd_5.5</th>\n",
       "      <th>hpd_94.5</th>\n",
       "      <th>n_eff</th>\n",
       "      <th>Rhat</th>\n",
       "    </tr>\n",
       "  </thead>\n",
       "  <tbody>\n",
       "    <tr>\n",
       "      <th>alpha</th>\n",
       "      <td>9.683</td>\n",
       "      <td>0.213</td>\n",
       "      <td>0.003</td>\n",
       "      <td>9.359</td>\n",
       "      <td>10.028</td>\n",
       "      <td>3990.949</td>\n",
       "      <td>1.000</td>\n",
       "    </tr>\n",
       "    <tr>\n",
       "      <th>MARR_beta</th>\n",
       "      <td>-0.127</td>\n",
       "      <td>0.295</td>\n",
       "      <td>0.006</td>\n",
       "      <td>-0.581</td>\n",
       "      <td>0.348</td>\n",
       "      <td>2755.861</td>\n",
       "      <td>1.000</td>\n",
       "    </tr>\n",
       "    <tr>\n",
       "      <th>MAM_beta</th>\n",
       "      <td>-1.125</td>\n",
       "      <td>0.293</td>\n",
       "      <td>0.006</td>\n",
       "      <td>-1.585</td>\n",
       "      <td>-0.660</td>\n",
       "      <td>3029.624</td>\n",
       "      <td>1.000</td>\n",
       "    </tr>\n",
       "    <tr>\n",
       "      <th>sigma</th>\n",
       "      <td>1.522</td>\n",
       "      <td>0.160</td>\n",
       "      <td>0.003</td>\n",
       "      <td>1.273</td>\n",
       "      <td>1.769</td>\n",
       "      <td>3022.058</td>\n",
       "      <td>1.001</td>\n",
       "    </tr>\n",
       "  </tbody>\n",
       "</table>\n",
       "</div>"
      ],
      "text/plain": [
       "            mean     sd  mc_error  hpd_5.5  hpd_94.5     n_eff   Rhat\n",
       "alpha      9.683  0.213     0.003    9.359    10.028  3990.949  1.000\n",
       "MARR_beta -0.127  0.295     0.006   -0.581     0.348  2755.861  1.000\n",
       "MAM_beta  -1.125  0.293     0.006   -1.585    -0.660  3029.624  1.000\n",
       "sigma      1.522  0.160     0.003    1.273     1.769  3022.058  1.001"
      ]
     },
     "execution_count": 17,
     "metadata": {},
     "output_type": "execute_result"
    }
   ],
   "source": [
    "varnames_54 = ['alpha', 'MARR_beta','MAM_beta','sigma']\n",
    "pm.summary(trace54, varnames = varnames_54, alpha = .11).round(3)"
   ]
  },
  {
   "cell_type": "code",
   "execution_count": 18,
   "metadata": {},
   "outputs": [
    {
     "name": "stderr",
     "output_type": "stream",
     "text": [
      "C:\\Users\\JOSH\\Anaconda3\\lib\\site-packages\\pymc3\\stats.py:991: FutureWarning: The join_axes-keyword is deprecated. Use .reindex or .reindex_like on the result to achieve the same functionality.\n",
      "  axis=1, join_axes=[dforg.index])\n"
     ]
    },
    {
     "data": {
      "text/html": [
       "<div>\n",
       "<style scoped>\n",
       "    .dataframe tbody tr th:only-of-type {\n",
       "        vertical-align: middle;\n",
       "    }\n",
       "\n",
       "    .dataframe tbody tr th {\n",
       "        vertical-align: top;\n",
       "    }\n",
       "\n",
       "    .dataframe thead th {\n",
       "        text-align: right;\n",
       "    }\n",
       "</style>\n",
       "<table border=\"1\" class=\"dataframe\">\n",
       "  <thead>\n",
       "    <tr style=\"text-align: right;\">\n",
       "      <th></th>\n",
       "      <th>mean</th>\n",
       "      <th>sd</th>\n",
       "      <th>mc_error</th>\n",
       "      <th>hpd_5.5</th>\n",
       "      <th>hpd_94.5</th>\n",
       "      <th>n_eff</th>\n",
       "      <th>Rhat</th>\n",
       "    </tr>\n",
       "  </thead>\n",
       "  <tbody>\n",
       "    <tr>\n",
       "      <th>alpha</th>\n",
       "      <td>9.692</td>\n",
       "      <td>0.248</td>\n",
       "      <td>0.003</td>\n",
       "      <td>9.329</td>\n",
       "      <td>10.122</td>\n",
       "      <td>5352.778</td>\n",
       "      <td>1.0</td>\n",
       "    </tr>\n",
       "    <tr>\n",
       "      <th>MAM_beta</th>\n",
       "      <td>0.642</td>\n",
       "      <td>0.242</td>\n",
       "      <td>0.003</td>\n",
       "      <td>0.285</td>\n",
       "      <td>1.048</td>\n",
       "      <td>4865.169</td>\n",
       "      <td>1.0</td>\n",
       "    </tr>\n",
       "    <tr>\n",
       "      <th>sigma</th>\n",
       "      <td>1.751</td>\n",
       "      <td>0.183</td>\n",
       "      <td>0.002</td>\n",
       "      <td>1.458</td>\n",
       "      <td>2.035</td>\n",
       "      <td>5335.794</td>\n",
       "      <td>1.0</td>\n",
       "    </tr>\n",
       "  </tbody>\n",
       "</table>\n",
       "</div>"
      ],
      "text/plain": [
       "           mean     sd  mc_error  hpd_5.5  hpd_94.5     n_eff  Rhat\n",
       "alpha     9.692  0.248     0.003    9.329    10.122  5352.778   1.0\n",
       "MAM_beta  0.642  0.242     0.003    0.285     1.048  4865.169   1.0\n",
       "sigma     1.751  0.183     0.002    1.458     2.035  5335.794   1.0"
      ]
     },
     "execution_count": 18,
     "metadata": {},
     "output_type": "execute_result"
    }
   ],
   "source": [
    "#notice how after adding im the marriage rate of the state our signs flip from positive to negative.\n",
    "# this is classic example of mulitcollinearity\n",
    "pm.summary(trace53, varnames = varnames_53, alpha = .11).round(3)"
   ]
  },
  {
   "cell_type": "markdown",
   "metadata": {},
   "source": [
    "## Code 5.5"
   ]
  },
  {
   "cell_type": "code",
   "execution_count": 19,
   "metadata": {},
   "outputs": [
    {
     "name": "stderr",
     "output_type": "stream",
     "text": [
      "C:\\Users\\JOSH\\Anaconda3\\lib\\site-packages\\arviz\\plots\\forestplot.py:207: MatplotlibDeprecationWarning: \n",
      "The tick1On function was deprecated in Matplotlib 3.1 and will be removed in 3.3. Use Tick.tick1line.set_visible instead.\n",
      "  ticks.tick1On = False\n",
      "C:\\Users\\JOSH\\Anaconda3\\lib\\site-packages\\arviz\\plots\\forestplot.py:208: MatplotlibDeprecationWarning: \n",
      "The tick2On function was deprecated in Matplotlib 3.1 and will be removed in 3.3. Use Tick.tick2line.set_visible instead.\n",
      "  ticks.tick2On = False\n"
     ]
    },
    {
     "data": {
      "text/plain": [
       "<matplotlib.collections.LineCollection at 0x289a838b080>"
      ]
     },
     "execution_count": 19,
     "metadata": {},
     "output_type": "execute_result"
    },
    {
     "data": {
      "image/png": "[encoded data removed]",
      "text/plain": [
       "<Figure size 432x619.2 with 1 Axes>"
      ]
     },
     "metadata": {
      "needs_background": "light"
     },
     "output_type": "display_data"
    }
   ],
   "source": [
    "# interpretaion from the book, \"Once we know median age of marraiage for a state there is little or no additional \n",
    "# predictive power in also knowing the rate of marriage in that state\"\n",
    "az.plot_forest(trace54,var_names=varnames_54)\n",
    "plt.vlines(x = 0, ymin = 0, ymax = 5)"
   ]
  },
  {
   "cell_type": "markdown",
   "metadata": {},
   "source": [
    " ## Code 5.6"
   ]
  },
  {
   "cell_type": "code",
   "execution_count": 54,
   "metadata": {},
   "outputs": [
    {
     "name": "stderr",
     "output_type": "stream",
     "text": [
      "Auto-assigning NUTS sampler...\n",
      "Initializing NUTS using jitter+adapt_diag...\n",
      "Multiprocess sampling (4 chains in 4 jobs)\n",
      "NUTS: [sigma, MAM_beta, alpha]\n",
      "Sampling 4 chains: 100%|██████████████████████████████████████████████████████| 8000/8000 [00:05<00:00, 1420.45draws/s]\n"
     ]
    }
   ],
   "source": [
    "shared_x = tt.shared(d.medianagemarriage_s.values)\n",
    "shared_y = tt.shared(d.marriage_s.values)\n",
    "with pm.Model() as m56:\n",
    "    alpha = pm.Normal('alpha', mu = 0, sigma = 10)\n",
    "    beta = pm.Normal('MAM_beta', mu = 0, sigma = 1)\n",
    "    mu = pm.Deterministic('mu', alpha + beta*shared_x)\n",
    "    sigma = pm.Uniform('sigma', lower = 0, upper = 10)\n",
    "    marriage = pm.Normal('marriage_s',mu = mu, sigma = sigma, observed = shared_y)\n",
    "    trace56 = pm.sample(draws = 1000,tune = 1000)"
   ]
  },
  {
   "cell_type": "code",
   "execution_count": 55,
   "metadata": {},
   "outputs": [
    {
     "name": "stderr",
     "output_type": "stream",
     "text": [
      "C:\\Users\\JOSH\\Anaconda3\\lib\\site-packages\\pymc3\\stats.py:991: FutureWarning: The join_axes-keyword is deprecated. Use .reindex or .reindex_like on the result to achieve the same functionality.\n",
      "  axis=1, join_axes=[dforg.index])\n"
     ]
    },
    {
     "data": {
      "text/html": [
       "<div>\n",
       "<style scoped>\n",
       "    .dataframe tbody tr th:only-of-type {\n",
       "        vertical-align: middle;\n",
       "    }\n",
       "\n",
       "    .dataframe tbody tr th {\n",
       "        vertical-align: top;\n",
       "    }\n",
       "\n",
       "    .dataframe thead th {\n",
       "        text-align: right;\n",
       "    }\n",
       "</style>\n",
       "<table border=\"1\" class=\"dataframe\">\n",
       "  <thead>\n",
       "    <tr style=\"text-align: right;\">\n",
       "      <th></th>\n",
       "      <th>mean</th>\n",
       "      <th>sd</th>\n",
       "      <th>mc_error</th>\n",
       "      <th>hpd_2.5</th>\n",
       "      <th>hpd_97.5</th>\n",
       "      <th>n_eff</th>\n",
       "      <th>Rhat</th>\n",
       "    </tr>\n",
       "  </thead>\n",
       "  <tbody>\n",
       "    <tr>\n",
       "      <th>alpha</th>\n",
       "      <td>-0.002467</td>\n",
       "      <td>0.102141</td>\n",
       "      <td>0.001375</td>\n",
       "      <td>-0.205235</td>\n",
       "      <td>0.191327</td>\n",
       "      <td>5465.995446</td>\n",
       "      <td>0.999767</td>\n",
       "    </tr>\n",
       "    <tr>\n",
       "      <th>MAM_beta</th>\n",
       "      <td>-0.713154</td>\n",
       "      <td>0.103064</td>\n",
       "      <td>0.001390</td>\n",
       "      <td>-0.906475</td>\n",
       "      <td>-0.512880</td>\n",
       "      <td>4912.035887</td>\n",
       "      <td>1.000064</td>\n",
       "    </tr>\n",
       "    <tr>\n",
       "      <th>sigma</th>\n",
       "      <td>0.718522</td>\n",
       "      <td>0.074959</td>\n",
       "      <td>0.001006</td>\n",
       "      <td>0.578096</td>\n",
       "      <td>0.864747</td>\n",
       "      <td>4751.711738</td>\n",
       "      <td>0.999656</td>\n",
       "    </tr>\n",
       "  </tbody>\n",
       "</table>\n",
       "</div>"
      ],
      "text/plain": [
       "              mean        sd  mc_error   hpd_2.5  hpd_97.5        n_eff  \\\n",
       "alpha    -0.002467  0.102141  0.001375 -0.205235  0.191327  5465.995446   \n",
       "MAM_beta -0.713154  0.103064  0.001390 -0.906475 -0.512880  4912.035887   \n",
       "sigma     0.718522  0.074959  0.001006  0.578096  0.864747  4751.711738   \n",
       "\n",
       "              Rhat  \n",
       "alpha     0.999767  \n",
       "MAM_beta  1.000064  \n",
       "sigma     0.999656  "
      ]
     },
     "execution_count": 55,
     "metadata": {},
     "output_type": "execute_result"
    }
   ],
   "source": [
    "varnames_56 = ['alpha', 'MAM_beta','sigma']\n",
    "pm.summary(trace56, varnames = varnames_56)"
   ]
  },
  {
   "cell_type": "markdown",
   "metadata": {},
   "source": [
    " ## Code 5.7"
   ]
  },
  {
   "cell_type": "code",
   "execution_count": 59,
   "metadata": {},
   "outputs": [],
   "source": [
    "# computer expected value at MAP, for each State\n",
    "mu = trace56['mu'].mean(0)\n",
    "# compute residual for each state\n",
    "resid = d.marriage_s - mu"
   ]
  },
  {
   "cell_type": "markdown",
   "metadata": {},
   "source": [
    " ## Code 5.8"
   ]
  },
  {
   "cell_type": "code",
   "execution_count": 69,
   "metadata": {},
   "outputs": [
    {
     "data": {
      "text/plain": [
       "<matplotlib.collections.LineCollection at 0x289aa0f5c50>"
      ]
     },
     "execution_count": 69,
     "metadata": {},
     "output_type": "execute_result"
    },
    {
     "data": {
      "image/png": "[encoded data removed]",
      "text/plain": [
       "<Figure size 360x360 with 1 Axes>"
      ]
     },
     "metadata": {
      "needs_background": "light"
     },
     "output_type": "display_data"
    }
   ],
   "source": [
    "# These residuals from above are the variations in marriage rate which is not explained by median age of marriage.\n",
    "sns.lmplot('medianagemarriage_s','marriage_s',data=d,ci = 0)\n",
    "plt.vlines(d.medianagemarriage_s,mu, mu + resid, alpha = .5, color = 'grey' )"
   ]
  },
  {
   "cell_type": "markdown",
   "metadata": {},
   "source": [
    "## Code 5.9"
   ]
  },
  {
   "cell_type": "code",
   "execution_count": 98,
   "metadata": {},
   "outputs": [],
   "source": [
    "# holding age constant at the mean and changing the rate what is the change in prediction. It should follow what the respecitve beta is\n",
    "a_avg = d.medianagemarriage_s.mean()\n",
    "r_seq = np.linspace(-3,3, num= 100)\n",
    "mu = trace53['alpha'] + trace53['MAM_beta']*r_seq[:, np.newaxis]\n",
    "mu_pred = mu.mean(axis = 1)\n",
    "mu_hpd = az.hpd(mu.T, credible_interval=.89)"
   ]
  },
  {
   "cell_type": "code",
   "execution_count": 102,
   "metadata": {},
   "outputs": [
    {
     "data": {
      "text/plain": [
       "[<matplotlib.lines.Line2D at 0x289a66810f0>]"
      ]
     },
     "execution_count": 102,
     "metadata": {},
     "output_type": "execute_result"
    },
    {
     "data": {
      "image/png": "[encoded data removed]",
      "text/plain": [
       "<Figure size 432x288 with 1 Axes>"
      ]
     },
     "metadata": {
      "needs_background": "light"
     },
     "output_type": "display_data"
    }
   ],
   "source": [
    "plt.plot(r_seq,mu_pred)"
   ]
  },
  {
   "cell_type": "code",
   "execution_count": null,
   "metadata": {},
   "outputs": [],
   "source": [
    "\n",
    "idx = np.argsort(d.medianagemarriage_s)\n",
    "plt.plot('medianagemarriage_s', 'marriage_s', data = d, marker = '.', linestyle = '')\n",
    "plt.plot(d.loc[idx,'medianagemarriage_s'], mu[idx], linestyle = '-',color = 'black')"
   ]
  },
  {
   "cell_type": "code",
   "execution_count": null,
   "metadata": {},
   "outputs": [],
   "source": []
  }
 ],
 "metadata": {
  "file_extension": ".py",
  "kernelspec": {
   "display_name": "Python 3",
   "language": "python",
   "name": "python3"
  },
  "language_info": {
   "codemirror_mode": {
    "name": "ipython",
    "version": 3
   },
   "file_extension": ".py",
   "mimetype": "text/x-python",
   "name": "python",
   "nbconvert_exporter": "python",
   "pygments_lexer": "ipython3",
   "version": "3.6.5"
  },
  "mimetype": "text/x-python",
  "name": "python",
  "npconvert_exporter": "python",
  "pygments_lexer": "ipython3",
  "version": 3
 },
 "nbformat": 4,
 "nbformat_minor": 4
}
